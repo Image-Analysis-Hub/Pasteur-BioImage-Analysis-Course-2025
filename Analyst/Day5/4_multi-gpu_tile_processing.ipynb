{
 "cells": [
  {
   "cell_type": "markdown",
   "id": "6390dd3c-7301-4167-b35c-eb2cd375f5b8",
   "metadata": {},
   "source": [
    "# Large data processing\n",
    "\n",
    "The biggest limitation to GPU-processing, beside its learning curve, is the memory space. It does not go higher than `32Gb` for commercial GPU. This can easily limits the maximum image size to process to `8Gb`, even less when we want to apply more complex algorithm requiring temporary steps.\n",
    "\n",
    "We can tile our image and process each tile separatly to overcome the memory bottleneck using `dask`."
   ]
  },
  {
   "cell_type": "code",
   "execution_count": 6,
   "id": "baa8694c",
   "metadata": {},
   "outputs": [],
   "source": [
    "import dask.array as da\n",
    "import dask.distributed as dd\n",
    "import timeit\n",
    "import numpy as np\n",
    "import pyclesperanto as cle"
   ]
  },
  {
   "cell_type": "markdown",
   "id": "e3f775d2",
   "metadata": {},
   "source": [
    "### Load zarr data"
   ]
  },
  {
   "cell_type": "code",
   "execution_count": null,
   "id": "1efa7fea",
   "metadata": {},
   "outputs": [],
   "source": [
    "darray = da.random.random((30, 20000, 20000), chunks=(30, 200, 200))\n",
    "darray"
   ]
  },
  {
   "cell_type": "markdown",
   "id": "bf469762",
   "metadata": {},
   "source": [
    "### Setup Dask client"
   ]
  },
  {
   "cell_type": "code",
   "execution_count": null,
   "id": "cb772419",
   "metadata": {},
   "outputs": [],
   "source": [
    "nb_devices = len(cle.list_available_devices(device_type=\"gpu\"))\n",
    "\n",
    "cluster = dd.LocalCluster(n_workers=nb_devices, threads_per_worker=1, processes=False)\n",
    "client = dd.Client(cluster)\n",
    "print(client)"
   ]
  },
  {
   "cell_type": "code",
   "execution_count": null,
   "id": "770f299d",
   "metadata": {},
   "outputs": [],
   "source": [
    "workers = client.scheduler_info()['workers']\n",
    "worker_dev_map = {worker: idx for idx, worker in enumerate(workers)}\n",
    "for worker in workers:\n",
    "    print(worker_dev_map[worker], \"-\", worker, \":\" ,cle.select_device(worker_dev_map[worker], device_type=\"gpu\").name)"
   ]
  },
  {
   "cell_type": "markdown",
   "id": "f63ea129",
   "metadata": {},
   "source": [
    "### Define mini-Pipeline"
   ]
  },
  {
   "cell_type": "code",
   "execution_count": null,
   "id": "904d878b",
   "metadata": {},
   "outputs": [],
   "source": [
    "def gpu_operation(image):\n",
    "    # fetch the device associate to the worker\n",
    "    worker = dd.get_worker()\n",
    "    gpu_index = worker_dev_map[worker.address]\n",
    "    device = cle.select_device(gpu_index, \"gpu\")\n",
    "    # run processing on the worker device\n",
    "    img_dev = cle.push(image, device=device)\n",
    "    proj = cle.extended_depth_of_focus_variance_projection(img_dev, sigma=100)\n",
    "    bged = cle.top_hat(proj, radius_x=30.0, radius_y=30.0, connectivity=\"sphere\")\n",
    "    # return the results as numpy array\n",
    "    return np.asarray(bged)"
   ]
  },
  {
   "cell_type": "code",
   "execution_count": null,
   "id": "a94eeab7",
   "metadata": {},
   "outputs": [],
   "source": [
    "processed_image = da.map_overlap(gpu_operation, darray, dtype=darray.dtype, drop_axis=0, depth=[darray.shape[0], 40, 40])\n",
    "processed_image"
   ]
  },
  {
   "cell_type": "code",
   "execution_count": null,
   "id": "33ec2d8b",
   "metadata": {},
   "outputs": [],
   "source": [
    "darray.visualize()"
   ]
  },
  {
   "cell_type": "markdown",
   "id": "17931200",
   "metadata": {},
   "source": [
    "### Execute processing"
   ]
  },
  {
   "cell_type": "code",
   "execution_count": null,
   "id": "350625b1",
   "metadata": {},
   "outputs": [],
   "source": [
    "start = timeit.default_timer()\n",
    "result = processed_image.compute()\n",
    "end = timeit.default_timer()\n",
    "print(f\"Time to compute: {end - start} seconds\")"
   ]
  },
  {
   "cell_type": "markdown",
   "id": "c67bfae8",
   "metadata": {},
   "source": [
    "## Process Spatial Data"
   ]
  },
  {
   "cell_type": "code",
   "execution_count": null,
   "id": "085fb3de",
   "metadata": {},
   "outputs": [
    {
     "ename": "SyntaxError",
     "evalue": "invalid syntax (3840541548.py, line 2)",
     "output_type": "error",
     "traceback": [
      "\u001b[0;36m  Cell \u001b[0;32mIn[4], line 2\u001b[0;36m\u001b[0m\n\u001b[0;31m    import spatialdata as\u001b[0m\n\u001b[0m                          ^\u001b[0m\n\u001b[0;31mSyntaxError\u001b[0m\u001b[0;31m:\u001b[0m invalid syntax\n"
     ]
    }
   ],
   "source": [
    "import zarr\n",
    "import spatialdata as sd\n",
    "import spatialdata_plot as sdplt\n",
    "\n",
    "xenium_path = \"/Users/strigaud/Desktop/xenium/Xenium_Prime_Human_Lymph_Node_Reactive_FFPE_xe_outs/transcripts.zarr\"\n",
    "sdata = sd.read_zarr(xenium_path)\n"
   ]
  },
  {
   "cell_type": "code",
   "execution_count": 5,
   "id": "1c046770",
   "metadata": {},
   "outputs": [
    {
     "data": {
      "text/plain": [
       "SpatialData object, with associated Zarr store: /Users/strigaud/Desktop/xenium/Xenium_Prime_Human_Lymph_Node_Reactive_FFPE_xe_outs/transcripts.zarr\n",
       "with coordinate systems:\n",
       "\n",
       "with the following elements in the Zarr store but not in the SpatialData object:\n",
       "    ▸ 3 (Grids)\n",
       "    ▸ 2 (Grids)\n",
       "    ▸ 4 (Grids)\n",
       "    ▸ 0 (Grids)\n",
       "    ▸ 6 (Grids)\n",
       "    ▸ gene (Density)\n",
       "    ▸ 1 (Grids)\n",
       "    ▸ 5 (Grids)"
      ]
     },
     "execution_count": 5,
     "metadata": {},
     "output_type": "execute_result"
    }
   ],
   "source": [
    "sdata"
   ]
  },
  {
   "cell_type": "code",
   "execution_count": 9,
   "id": "8a25f941",
   "metadata": {},
   "outputs": [],
   "source": [
    "from numcodecs import Blosc\n",
    "from skimage.io import imread\n",
    "\n",
    "image = imread(\"https://github.com/StRigaud/clesperanto_workshop_I2K24/raw/refs/heads/main/data/P1_H_C3H_M004_17-cropped.tif\") # we only want 1 channel\n",
    "\n",
    "#compress AND change the numpy array into a zarr array\n",
    "compressor = Blosc(cname='zstd', clevel=3, shuffle=Blosc.BITSHUFFLE)\n",
    "\n",
    "# Convert image into zarr array\n",
    "chunk_size = (500, 500)\n",
    "zarray = zarr.array(image, chunks=chunk_size, compressor=compressor)\n",
    "\n",
    "# save zarr to disk\n",
    "zarr_filename = './P1_H_C3H_M004_17-cropped.zarr'\n",
    "zarr.convenience.save(zarr_filename, zarray)"
   ]
  },
  {
   "cell_type": "code",
   "execution_count": null,
   "id": "af19ed3b",
   "metadata": {},
   "outputs": [],
   "source": []
  }
 ],
 "metadata": {
  "kernelspec": {
   "display_name": "skbe",
   "language": "python",
   "name": "python3"
  },
  "language_info": {
   "codemirror_mode": {
    "name": "ipython",
    "version": 3
   },
   "file_extension": ".py",
   "mimetype": "text/x-python",
   "name": "python",
   "nbconvert_exporter": "python",
   "pygments_lexer": "ipython3",
   "version": "3.12.7"
  }
 },
 "nbformat": 4,
 "nbformat_minor": 5
}
