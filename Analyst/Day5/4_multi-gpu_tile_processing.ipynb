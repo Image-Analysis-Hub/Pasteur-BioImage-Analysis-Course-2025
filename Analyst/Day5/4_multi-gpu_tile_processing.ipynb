{
 "cells": [
  {
   "cell_type": "markdown",
   "id": "6390dd3c-7301-4167-b35c-eb2cd375f5b8",
   "metadata": {},
   "source": [
    "# Multi-gpu Tile Processing\n",
    "\n",
    "The biggest limitation to GPU-processing, beside its learning curve, is the memory space. It does not go higher than `32Gb` for commercial GPU. This can easily limits the maximum image size to process to `8Gb`, even less when we want to apply more complex algorithm requiring temporary steps.\n",
    "\n",
    "We can tile our image and process each tile separatly to overcome the memory bottleneck using `dask`."
   ]
  },
  {
   "cell_type": "code",
   "execution_count": null,
   "id": "baa8694c",
   "metadata": {},
   "outputs": [],
   "source": [
    "import dask.array as da\n",
    "import dask.distributed as dd\n",
    "import timeit\n",
    "import numpy as np\n",
    "import pyclesperanto as cle"
   ]
  },
  {
   "cell_type": "code",
   "execution_count": null,
   "id": "1efa7fea",
   "metadata": {},
   "outputs": [],
   "source": [
    "darray = da.random.random((30, 20000, 20000), chunks=(30, 200, 200))\n",
    "darray"
   ]
  },
  {
   "cell_type": "code",
   "execution_count": null,
   "id": "cb772419",
   "metadata": {},
   "outputs": [],
   "source": [
    "nb_devices = len(cle.list_available_devices(device_type=\"gpu\"))\n",
    "\n",
    "cluster = dd.LocalCluster(n_workers=nb_devices, threads_per_worker=1, processes=False)\n",
    "client = dd.Client(cluster)\n",
    "print(client)"
   ]
  },
  {
   "cell_type": "code",
   "execution_count": null,
   "id": "770f299d",
   "metadata": {},
   "outputs": [],
   "source": [
    "workers = client.scheduler_info()['workers']\n",
    "worker_dev_map = {worker: idx for idx, worker in enumerate(workers)}\n",
    "for worker in workers:\n",
    "    print(worker_dev_map[worker], \"-\", worker, \":\" ,cle.select_device(worker_dev_map[worker], device_type=\"gpu\").name)"
   ]
  },
  {
   "cell_type": "code",
   "execution_count": null,
   "id": "904d878b",
   "metadata": {},
   "outputs": [],
   "source": [
    "def gpu_operation(image):\n",
    "    # fetch the device associate to the worker\n",
    "    worker = dd.get_worker()\n",
    "    gpu_index = worker_dev_map[worker.address]\n",
    "    device = cle.select_device(gpu_index, \"gpu\")\n",
    "    # run processing on the worker device\n",
    "    img_dev = cle.push(image, device=device)\n",
    "    proj = cle.extended_depth_of_focus_variance_projection(img_dev, sigma=100)\n",
    "    bged = cle.top_hat(proj, radius_x=30.0, radius_y=30.0, connectivity=\"sphere\")\n",
    "    # return the results as numpy array\n",
    "    return np.asarray(bged)"
   ]
  },
  {
   "cell_type": "code",
   "execution_count": null,
   "id": "a94eeab7",
   "metadata": {},
   "outputs": [],
   "source": [
    "processed_image = da.map_overlap(gpu_operation, darray, dtype=darray.dtype, drop_axis=0, depth=[darray.shape[0], 40, 40])\n",
    "processed_image"
   ]
  },
  {
   "cell_type": "code",
   "execution_count": null,
   "id": "33ec2d8b",
   "metadata": {},
   "outputs": [],
   "source": [
    "darray.visualize()"
   ]
  },
  {
   "cell_type": "code",
   "execution_count": null,
   "id": "350625b1",
   "metadata": {},
   "outputs": [],
   "source": [
    "start = timeit.default_timer()\n",
    "result = processed_image.compute()\n",
    "end = timeit.default_timer()\n",
    "print(f\"Time to compute: {end - start} seconds\")"
   ]
  }
 ],
 "metadata": {
  "kernelspec": {
   "display_name": "skbe",
   "language": "python",
   "name": "python3"
  },
  "language_info": {
   "codemirror_mode": {
    "name": "ipython",
    "version": 3
   },
   "file_extension": ".py",
   "mimetype": "text/x-python",
   "name": "python",
   "nbconvert_exporter": "python",
   "pygments_lexer": "ipython3",
   "version": "3.12.7"
  }
 },
 "nbformat": 4,
 "nbformat_minor": 5
}
