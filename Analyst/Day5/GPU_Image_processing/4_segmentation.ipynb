{
 "cells": [
  {
   "cell_type": "markdown",
   "id": "6390dd3c-7301-4167-b35c-eb2cd375f5b8",
   "metadata": {},
   "source": [
    "# 3D Nuclei Segmentation - Challenge\n",
    "\n",
    "> __All similitude with the napari challenges of the Day 1 is purely coincidental__\n",
    "\n",
    "Image segmentation in 3D is challenging for several reasons: In many microscopy imaging techniques, image quality varies in space: For example intensity and/or contrast degrades the deeper you image inside a sample. Furthermore, touching nuclei are hard to differentiate in an automated way. Last but not least, anisotropy is difficult to handle depending on the applied algorithms and respective given parameters. Some algorithms, like the [Voronoi-Otsu-Labeling](https://github.com/clEsperanto/pyclesperanto_prototype/blob/master/demo/segmentation/voronoi_otsu_labeling.ipynb) approach demonstrated here, only work for isotropic data.\n",
    "\n",
    "To demonstrate the workflow, we're using cropped and resampling image data from the [Broad Bio Image Challenge](https://bbbc.broadinstitute.org/BBBC032):\n",
    "Ljosa V, Sokolnicki KL, Carpenter AE (2012). Annotated high-throughput microscopy image sets for validation. Nature Methods 9(7):637 / doi. PMID: 22743765 PMCID: PMC3627348. Available at http://dx.doi.org/10.1038/nmeth.2083\n",
    "\n",
    "We start by importing the various packages and initialise the device we want to use. "
   ]
  },
  {
   "cell_type": "code",
   "execution_count": null,
   "id": "2382b688",
   "metadata": {},
   "outputs": [],
   "source": [
    "from skimage.io import imread\n",
    "import matplotlib.pyplot as plt\n",
    "import pyclesperanto as cle\n",
    "import numpy as np"
   ]
  },
  {
   "cell_type": "code",
   "execution_count": null,
   "id": "483d0713",
   "metadata": {},
   "outputs": [],
   "source": [
    "image = cle.push(imread(\"./data/BMP4blastocystC3-cropped_resampled_8bit.tif\"))\n",
    "voxel_size_x = 0.202\n",
    "voxel_size_y = 0.202\n",
    "voxel_size_z = 1"
   ]
  },
  {
   "cell_type": "code",
   "execution_count": null,
   "id": "aa1a7728",
   "metadata": {},
   "outputs": [],
   "source": [
    "def show(image_to_show, labels=False):\n",
    "    \"\"\"\n",
    "    This function generates three projections: in X-, Y- and Z-direction and shows them.\n",
    "    \"\"\"\n",
    "    projection_x = cle.maximum_x_projection(image_to_show)\n",
    "    projection_y = cle.maximum_y_projection(image_to_show)\n",
    "    projection_z = cle.maximum_z_projection(image_to_show)\n",
    "\n",
    "    fig, axs = plt.subplots(1, 3, figsize=(15, 15))\n",
    "    axs[0].imshow(projection_z, cmap='prism' if labels else 'gray')\n",
    "    axs[0].set_title(\"XY\")\n",
    "    axs[1].imshow(projection_y, cmap='prism' if labels else 'gray')\n",
    "    axs[1].set_title(\"XZ\")\n",
    "    axs[2].imshow(projection_x, cmap='prism' if labels else 'gray')\n",
    "    axs[2].set_title(\"ZY\")\n",
    "    fig.tight_layout()\n",
    "    plt.show()\n",
    "\n",
    "show(image)"
   ]
  },
  {
   "cell_type": "markdown",
   "id": "ba323301",
   "metadata": {},
   "source": [
    "## Intensity correction accros depth\n",
    "\n",
    "A classic artefact in photonique microscopy is the intensity decreasing along the Z-direction (from slice to slice) and contrast as well. It is possible to correct the intensity decay can be corrected using the [equalize_mean_intensities_of_slices.](https://clij.github.io/clij2-docs/reference_equalizeMeanIntensitiesOfSlices) from CLIJ and clesperanto also come with some contrast enhancement algorithm like `clahe`"
   ]
  },
  {
   "cell_type": "code",
   "execution_count": null,
   "id": "5361a037",
   "metadata": {},
   "outputs": [],
   "source": [
    "def equalize_intensities_in_stack(image):\n",
    "    # Create a new empty image to store our results\n",
    "    equalized_intensities_stack = cle.create(image)\n",
    "    a_slice = cle.create([image.shape[1], image.shape[2]])\n",
    "\n",
    "    num_slices = image.shape[0]\n",
    "    mean_intensity_stack = cle.mean_of_all_pixels(image)\n",
    "\n",
    "    for z in range(0, num_slices):\n",
    "        # get a single slice out of the stack\n",
    "        a_slice = image[z, :, :]\n",
    "        # measure the mean intensity of the slice\n",
    "        mean_intensity_slice = cle.mean_of_all_pixels(a_slice)\n",
    "        # correct the intensity of the slice based on the mean intensity of the stack\n",
    "        corrected_slice = a_slice * (mean_intensity_slice / mean_intensity_stack)\n",
    "        # copy slice back in a stack\n",
    "        cle.copy_slice(corrected_slice, equalized_intensities_stack, z)\n",
    "\n",
    "    return equalized_intensities_stack"
   ]
  },
  {
   "cell_type": "markdown",
   "id": "ba265aef",
   "metadata": {},
   "source": [
    "### Exercise 1: Segment the nuclei in 3D\n",
    "\n",
    "- Reslace the data to make it isotropic\n",
    "- Correct the intensity and enhance contrast\n",
    "- Segment the nuclei"
   ]
  },
  {
   "cell_type": "code",
   "execution_count": null,
   "id": "70d5b6ef",
   "metadata": {},
   "outputs": [],
   "source": [
    "# TODO"
   ]
  },
  {
   "cell_type": "markdown",
   "id": "bfdb48a1",
   "metadata": {},
   "source": [
    "# Display the result in Napari"
   ]
  },
  {
   "cell_type": "code",
   "execution_count": null,
   "id": "e4a01ea4",
   "metadata": {},
   "outputs": [],
   "source": [
    "import napari\n",
    "viewer = napari.Viewer(ndisplay=3)\n",
    "\n",
    "# View results in napari\n",
    "\n",
    "napari.run()"
   ]
  }
 ],
 "metadata": {
  "kernelspec": {
   "display_name": "Python 3 (ipykernel)",
   "language": "python",
   "name": "python3"
  },
  "language_info": {
   "codemirror_mode": {
    "name": "ipython",
    "version": 3
   },
   "file_extension": ".py",
   "mimetype": "text/x-python",
   "name": "python",
   "nbconvert_exporter": "python",
   "pygments_lexer": "ipython3",
   "version": "3.12.10"
  }
 },
 "nbformat": 4,
 "nbformat_minor": 5
}
