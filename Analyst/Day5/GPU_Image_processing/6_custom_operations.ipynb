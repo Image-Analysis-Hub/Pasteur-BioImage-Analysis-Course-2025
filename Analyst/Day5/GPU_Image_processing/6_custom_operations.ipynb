{
 "cells": [
  {
   "cell_type": "code",
   "execution_count": null,
   "id": "c786d799",
   "metadata": {},
   "outputs": [],
   "source": [
    "import pyclesperanto as cle\n",
    "import numpy as np"
   ]
  },
  {
   "cell_type": "markdown",
   "id": "978d1d1e",
   "metadata": {},
   "source": [
    "# Custom kernel operation\n",
    "\n",
    "Several algorithms are already present in the library but you may want to perform more specific task or develop your own kernel operations. clEsperanto provides the functions `native_execute` to run OpenCL C code directly."
   ]
  },
  {
   "cell_type": "code",
   "execution_count": null,
   "id": "5bb6216b",
   "metadata": {},
   "outputs": [],
   "source": [
    "cle.native_execute?"
   ]
  },
  {
   "cell_type": "markdown",
   "id": "159c6453",
   "metadata": {},
   "source": [
    "## Native OpenCL Kernel\n",
    "\n",
    "```c\n",
    "__kernel void add_arrays(__global float* a, __global float* b, __global float* output, int size) {\n",
    "    int x = get_global_id(0); // Global ID in the 1st dimension\n",
    "\n",
    "    if (x < size) {\n",
    "        output[x] = a[x] + b[x];\n",
    "    }\n",
    "}\n",
    "```"
   ]
  },
  {
   "cell_type": "code",
   "execution_count": null,
   "id": "26258f8f",
   "metadata": {},
   "outputs": [],
   "source": [
    "a = cle.push(np.ones(10))\n",
    "b = cle.push(np.ones(10) * 2)\n",
    "output = cle.create(a.shape)\n",
    "\n",
    "kernel_source = \"\"\"\n",
    "__kernel void add_arrays(__global float* a, __global float* b, __global float* output) {\n",
    "    int x = get_global_id(0);\n",
    "    output[x] = a[x] + b[x];\n",
    "}\"\"\"\n",
    "\n",
    "kernel_name = \"add_arrays\"  # Must match the kernel name in the source !\n",
    "\n",
    "parameters = { # keys must match the kernel arguments name, type, and order in the source !\n",
    "    \"a\": a,\n",
    "    \"b\": b,\n",
    "    \"output\": output\n",
    "}\n",
    "\n",
    "cle.native_execute(\n",
    "    kernel_source=kernel_source,\n",
    "    kernel_name=kernel_name,\n",
    "    parameters=parameters,\n",
    "    global_size=a.size          # should correspond to the number of work items (e.g. pixels)\n",
    ")\n",
    "\n",
    "print(f\"{a} + \\n{b} = \\n{output}\")"
   ]
  },
  {
   "cell_type": "markdown",
   "id": "72f7ef25",
   "metadata": {},
   "source": [
    "## CLIJ-OpenCL Kernel\n",
    "\n",
    "```c\n",
    "__constant sampler_t sampler = CLK_NORMALIZED_COORDS_FALSE | CLK_ADDRESS_CLAMP_TO_EDGE | CLK_FILTER_NEAREST;\n",
    "__kernel void add_arrays(IMAGE_a_TYPE a, IMAGE_b_TYPE b, IMAGE_output_TYPE output) {\n",
    "    int x = get_global_id(0);\n",
    "    int y = get_global_id(1);\n",
    "    int z = get_global_id(2);\n",
    "    \n",
    "    IMAGE_a_PIXEL_TYPE value_a = READ_IMAGE(a, sampler, POS_a_INSTANCE(x,y,z,0)).x;\n",
    "    IMAGE_b_PIXEL_TYPE value_b = READ_IMAGE(b, sampler, POS_b_INSTANCE(x,y,z,0)).x;\n",
    "    WRITE_IMAGE(output, POS_output_INSTANCE(x,y,z,0), CONVERT_output_PIXEL_TYPE(value_a + value_b));\n",
    "}\n",
    "```\n",
    "\n",
    "This introduce placeholder to adapte the kernel to the data type and dimensionality and to facilitate algorithms"
   ]
  },
  {
   "cell_type": "code",
   "execution_count": null,
   "id": "78c37c30",
   "metadata": {},
   "outputs": [],
   "source": [
    "a = cle.push(np.ones(10))\n",
    "b = cle.push(np.ones(10) * 2)\n",
    "output = cle.create(a.shape)\n",
    "\n",
    "kernel_source = \"\"\"\n",
    "__constant sampler_t sampler = CLK_NORMALIZED_COORDS_FALSE | CLK_ADDRESS_CLAMP_TO_EDGE | CLK_FILTER_NEAREST;\n",
    "__kernel void add_arrays(IMAGE_a_TYPE a, IMAGE_b_TYPE b, IMAGE_output_TYPE output) {\n",
    "    int x = get_global_id(0);\n",
    "    int y = get_global_id(1);\n",
    "    int z = get_global_id(2);\n",
    "    \n",
    "    IMAGE_a_PIXEL_TYPE value_a = READ_IMAGE(a, sampler, POS_a_INSTANCE(x,y,z,0)).x;\n",
    "    IMAGE_b_PIXEL_TYPE value_b = READ_IMAGE(b, sampler, POS_b_INSTANCE(x,y,z,0)).x;\n",
    "    WRITE_IMAGE(output, POS_output_INSTANCE(x,y,z,0), CONVERT_output_PIXEL_TYPE(value_a + value_b));\n",
    "}\"\"\"\n",
    "\n",
    "kernel_name = \"add_arrays\"  # Must match the kernel name in the source !\n",
    "\n",
    "parameters = { # keys must match the kernel arguments name, type, and order in the source !\n",
    "    \"a\": a,\n",
    "    \"b\": b,\n",
    "    \"output\": output\n",
    "}\n",
    "\n",
    "cle.execute(\n",
    "    kernel_source=kernel_source,\n",
    "    kernel_name=kernel_name,\n",
    "    parameters=parameters,\n",
    "    global_size=a.shape,  # should correspond to the number of work items (e.g. pixels)\n",
    ")\n",
    "\n",
    "print(f\"{a} + \\n{b} = \\n{output}\")"
   ]
  },
  {
   "cell_type": "markdown",
   "id": "eec3e72a",
   "metadata": {},
   "source": [
    "* `IMAGE_xxx_TYPE` place holder for global array\n",
    "* `IMAGE_xxx_PIXEL_TYPE` place holder for an array pixel type\n",
    "* `POS_xxx_INSTANCE` place holder for coordinate system of an array\n",
    "* `READ_IMAGE( <image>, <sampler>, <position> )` & `WRITE_IMAGE( <image>, <position>, <value> )` acces function for read/write on array\n",
    "* `CONVERT_xxx_PIXEL_TYPE()` value convertor "
   ]
  },
  {
   "cell_type": "markdown",
   "id": "49fabc0f",
   "metadata": {},
   "source": []
  }
 ],
 "metadata": {
  "kernelspec": {
   "display_name": "neubias25",
   "language": "python",
   "name": "python3"
  },
  "language_info": {
   "codemirror_mode": {
    "name": "ipython",
    "version": 3
   },
   "file_extension": ".py",
   "mimetype": "text/x-python",
   "name": "python",
   "nbconvert_exporter": "python",
   "pygments_lexer": "ipython3",
   "version": "3.12.10"
  }
 },
 "nbformat": 4,
 "nbformat_minor": 5
}
