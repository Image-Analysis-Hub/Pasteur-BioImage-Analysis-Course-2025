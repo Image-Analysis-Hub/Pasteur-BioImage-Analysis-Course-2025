{
 "cells": [
  {
   "cell_type": "markdown",
   "id": "6390dd3c-7301-4167-b35c-eb2cd375f5b8",
   "metadata": {},
   "source": [
    "# Large data processing\n",
    "\n",
    "The biggest limitation to GPU-processing, beside its learning curve, is the memory space. It does not go higher than `32Gb` for commercial GPU. This can easily limits the maximum image size to process to `8Gb`, even less when we want to apply more complex algorithm requiring temporary steps.\n",
    "\n",
    "This issue already exist outside of GPU-acceleartion and the solution is to tile our image and process each tile separatly to overcome the memory bottleneck. We can rely on the `dask` library to distribute our data accross our list of device, in the same way we would do on an HPC."
   ]
  },
  {
   "cell_type": "code",
   "execution_count": null,
   "id": "baa8694c",
   "metadata": {},
   "outputs": [],
   "source": [
    "import dask.array as da\n",
    "import dask.distributed as dd\n",
    "\n",
    "import timeit\n",
    "import numpy as np\n",
    "import matplotlib.pyplot as plt\n",
    "\n",
    "import pyclesperanto as cle\n",
    "try:\n",
    "    import cupy as xp\n",
    "except:\n",
    "    import numpy as xp\n",
    "    Warning(\"Cupy not found, using numpy instead.\")\n",
    "try:\n",
    "    import cupyx.scipy.ndimage as xdi\n",
    "except:\n",
    "    import scipy.ndimage as xdi\n",
    "    Warning(\"Cupy not found, using scipy instead.\")\n",
    "\n",
    "import zarr\n",
    "from skimage.io import imread"
   ]
  },
  {
   "cell_type": "markdown",
   "id": "e3f775d2",
   "metadata": {},
   "source": [
    "### Load zarr data"
   ]
  },
  {
   "cell_type": "code",
   "execution_count": null,
   "id": "e976c06b",
   "metadata": {},
   "outputs": [],
   "source": [
    "image = imread(\"https://github.com/StRigaud/clesperanto_workshop_I2K24/raw/refs/heads/main/data/P1_H_C3H_M004_17-cropped.tif\") # we only want 1 channel\n",
    "\n",
    "# Convert image into zarr array\n",
    "chunk_size = (500, 500)\n",
    "zarr_filename = './data/P1_H_C3H_M004_17-cropped.zarr'\n",
    "zarray = zarr.create_array(store=zarr_filename, data=image)"
   ]
  },
  {
   "cell_type": "code",
   "execution_count": null,
   "id": "1efa7fea",
   "metadata": {},
   "outputs": [],
   "source": [
    "# darray = da.random.random((2, 20000, 20000), chunks=(2, 1000, 1000))\n",
    "darray = da.from_zarr(zarr_filename, chunks=(2, 1000, 1000), name='zarray')\n",
    "darray"
   ]
  },
  {
   "cell_type": "code",
   "execution_count": null,
   "id": "edb8e2e0",
   "metadata": {},
   "outputs": [],
   "source": [
    "fig, axs = plt.subplots(1, 2, figsize=(30, 10))\n",
    "axs[0].imshow(darray[0], cmap='gray')\n",
    "axs[1].imshow(darray[1], cmap='gray')\n",
    "plt.show()"
   ]
  },
  {
   "cell_type": "code",
   "execution_count": null,
   "id": "cb772419",
   "metadata": {},
   "outputs": [],
   "source": [
    "nb_devices = len(cle.list_available_devices(device_type=\"gpu\"))\n",
    "\n",
    "cluster = dd.LocalCluster(n_workers=nb_devices, threads_per_worker=1, processes=False)\n",
    "client = dd.Client(cluster)\n",
    "print(client)"
   ]
  },
  {
   "cell_type": "code",
   "execution_count": null,
   "id": "770f299d",
   "metadata": {},
   "outputs": [],
   "source": [
    "workers = client.scheduler_info()['workers']\n",
    "worker_dev_map = {worker: idx for idx, worker in enumerate(workers)}\n",
    "for worker in workers:\n",
    "    print(worker_dev_map[worker], \"-\", worker, \":\" ,cle.select_device(worker_dev_map[worker], device_type=\"gpu\").name)"
   ]
  },
  {
   "cell_type": "markdown",
   "id": "f63ea129",
   "metadata": {},
   "source": [
    "### clesperanto mini-Pipeline"
   ]
  },
  {
   "cell_type": "code",
   "execution_count": null,
   "id": "904d878b",
   "metadata": {},
   "outputs": [],
   "source": [
    "def cle_operation(image, block_info=None):\n",
    "    # fetch the device associate to the worker\n",
    "    worker = dd.get_worker()\n",
    "    gpu_index = worker_dev_map[worker.address]\n",
    "    device = cle.select_device(gpu_index, \"gpu\")\n",
    "    chunk_coord = block_info[None]['chunk-location'] if block_info is not None else None\n",
    "\n",
    "    print(f\"Processing chunk {chunk_coord} with {device.name} ({gpu_index})\")\n",
    "\n",
    "    # TODO: add processing here\n",
    "\n",
    "    # return the results as numpy array\n",
    "    return np.asarray(image)"
   ]
  },
  {
   "cell_type": "code",
   "execution_count": null,
   "id": "a94eeab7",
   "metadata": {},
   "outputs": [],
   "source": [
    "processed_image = da.map_overlap(cle_operation, darray[1], dtype=darray.dtype)\n",
    "processed_image"
   ]
  },
  {
   "cell_type": "code",
   "execution_count": null,
   "id": "350625b1",
   "metadata": {},
   "outputs": [],
   "source": [
    "start = timeit.default_timer()\n",
    "result = processed_image.compute()\n",
    "end = timeit.default_timer()\n",
    "print(f\"Time to compute: {end - start} seconds\")"
   ]
  },
  {
   "cell_type": "code",
   "execution_count": null,
   "id": "be316538",
   "metadata": {},
   "outputs": [],
   "source": [
    "fig, axs = plt.subplots(1, 1, figsize=(30, 10))\n",
    "axs.imshow(processed_image, cmap='viridis')\n",
    "plt.show()"
   ]
  },
  {
   "cell_type": "markdown",
   "id": "bcd72881",
   "metadata": {},
   "source": [
    "## Exercise 1: Extend the function to quantify this image"
   ]
  }
 ],
 "metadata": {
  "kernelspec": {
   "display_name": "neubias25",
   "language": "python",
   "name": "python3"
  },
  "language_info": {
   "codemirror_mode": {
    "name": "ipython",
    "version": 3
   },
   "file_extension": ".py",
   "mimetype": "text/x-python",
   "name": "python",
   "nbconvert_exporter": "python",
   "pygments_lexer": "ipython3",
   "version": "3.12.10"
  }
 },
 "nbformat": 4,
 "nbformat_minor": 5
}
