{
 "cells": [
  {
   "cell_type": "markdown",
   "id": "6390dd3c-7301-4167-b35c-eb2cd375f5b8",
   "metadata": {},
   "source": [
    "# Large data processing\n",
    "\n",
    "The biggest limitation to GPU-processing, beside its learning curve, is the memory space. It does not go higher than `32Gb` for commercial GPU. This can easily limits the maximum image size to process to `8Gb`, even less when we want to apply more complex algorithm requiring temporary steps.\n",
    "\n",
    "This issue already exist outside of GPU-acceleartion and the solution is to tile our image and process each tile separatly to overcome the memory bottleneck. We can rely on the `dask` library to distribute our data accross our list of device, in the same way we would do on an HPC."
   ]
  },
  {
   "cell_type": "code",
   "execution_count": 3,
   "id": "baa8694c",
   "metadata": {},
   "outputs": [],
   "source": [
    "import dask.array as da\n",
    "import dask.distributed as dd\n",
    "\n",
    "import timeit\n",
    "import numpy as np\n",
    "import matplotlib.pyplot as plt\n",
    "\n",
    "import pyclesperanto as cle\n",
    "try:\n",
    "    import cupy as xp\n",
    "except:\n",
    "    import numpy as xp\n",
    "    Warning(\"Cupy not found, using numpy instead.\")\n",
    "try:\n",
    "    import cupyx.scipy.ndimage as xdi\n",
    "except:\n",
    "    import scipy.ndimage as xdi\n",
    "    Warning(\"Cupy not found, using scipy instead.\")\n",
    "\n",
    "import zarr\n",
    "from numcodecs import Blosc\n",
    "from skimage.io import imread"
   ]
  },
  {
   "cell_type": "markdown",
   "id": "e3f775d2",
   "metadata": {},
   "source": [
    "### Load zarr data"
   ]
  },
  {
   "cell_type": "code",
   "execution_count": null,
   "id": "e976c06b",
   "metadata": {},
   "outputs": [
    {
     "ename": "ValueError",
     "evalue": "compressor cannot be used for arrays with zarr_format 3. Use bytes-to-bytes codecs instead.",
     "output_type": "error",
     "traceback": [
      "\u001b[31m---------------------------------------------------------------------------\u001b[39m",
      "\u001b[31mValueError\u001b[39m                                Traceback (most recent call last)",
      "\u001b[36mCell\u001b[39m\u001b[36m \u001b[39m\u001b[32mIn[4]\u001b[39m\u001b[32m, line 8\u001b[39m\n\u001b[32m      6\u001b[39m \u001b[38;5;66;03m# Convert image into zarr array\u001b[39;00m\n\u001b[32m      7\u001b[39m chunk_size = (\u001b[32m500\u001b[39m, \u001b[32m500\u001b[39m)\n\u001b[32m----> \u001b[39m\u001b[32m8\u001b[39m zarray = \u001b[43mzarr\u001b[49m\u001b[43m.\u001b[49m\u001b[43marray\u001b[49m\u001b[43m(\u001b[49m\u001b[43mimage\u001b[49m\u001b[43m,\u001b[49m\u001b[43m \u001b[49m\u001b[43mchunks\u001b[49m\u001b[43m=\u001b[49m\u001b[43mchunk_size\u001b[49m\u001b[43m,\u001b[49m\u001b[43m \u001b[49m\u001b[43mcompressor\u001b[49m\u001b[43m=\u001b[49m\u001b[43mcompressor\u001b[49m\u001b[43m)\u001b[49m\n\u001b[32m     10\u001b[39m \u001b[38;5;66;03m# save zarr to disk\u001b[39;00m\n\u001b[32m     11\u001b[39m zarr_filename = \u001b[33m'\u001b[39m\u001b[33m./P1_H_C3H_M004_17-cropped.zarr\u001b[39m\u001b[33m'\u001b[39m\n",
      "\u001b[36mFile \u001b[39m\u001b[32m~/Libraries/miniforge3/envs/neubias25/lib/python3.12/site-packages/zarr/api/synchronous.py:379\u001b[39m, in \u001b[36marray\u001b[39m\u001b[34m(data, **kwargs)\u001b[39m\n\u001b[32m    363\u001b[39m \u001b[38;5;28;01mdef\u001b[39;00m\u001b[38;5;250m \u001b[39m\u001b[34marray\u001b[39m(data: npt.ArrayLike | Array, **kwargs: Any) -> Array:\n\u001b[32m    364\u001b[39m \u001b[38;5;250m    \u001b[39m\u001b[33;03m\"\"\"Create an array filled with `data`.\u001b[39;00m\n\u001b[32m    365\u001b[39m \n\u001b[32m    366\u001b[39m \u001b[33;03m    Parameters\u001b[39;00m\n\u001b[32m   (...)\u001b[39m\u001b[32m    376\u001b[39m \u001b[33;03m        The new array.\u001b[39;00m\n\u001b[32m    377\u001b[39m \u001b[33;03m    \"\"\"\u001b[39;00m\n\u001b[32m--> \u001b[39m\u001b[32m379\u001b[39m     \u001b[38;5;28;01mreturn\u001b[39;00m Array(\u001b[43msync\u001b[49m\u001b[43m(\u001b[49m\u001b[43masync_api\u001b[49m\u001b[43m.\u001b[49m\u001b[43marray\u001b[49m\u001b[43m(\u001b[49m\u001b[43mdata\u001b[49m\u001b[43m=\u001b[49m\u001b[43mdata\u001b[49m\u001b[43m,\u001b[49m\u001b[43m \u001b[49m\u001b[43m*\u001b[49m\u001b[43m*\u001b[49m\u001b[43mkwargs\u001b[49m\u001b[43m)\u001b[49m\u001b[43m)\u001b[49m)\n",
      "\u001b[36mFile \u001b[39m\u001b[32m~/Libraries/miniforge3/envs/neubias25/lib/python3.12/site-packages/zarr/core/sync.py:163\u001b[39m, in \u001b[36msync\u001b[39m\u001b[34m(coro, loop, timeout)\u001b[39m\n\u001b[32m    160\u001b[39m return_result = \u001b[38;5;28mnext\u001b[39m(\u001b[38;5;28miter\u001b[39m(finished)).result()\n\u001b[32m    162\u001b[39m \u001b[38;5;28;01mif\u001b[39;00m \u001b[38;5;28misinstance\u001b[39m(return_result, \u001b[38;5;167;01mBaseException\u001b[39;00m):\n\u001b[32m--> \u001b[39m\u001b[32m163\u001b[39m     \u001b[38;5;28;01mraise\u001b[39;00m return_result\n\u001b[32m    164\u001b[39m \u001b[38;5;28;01melse\u001b[39;00m:\n\u001b[32m    165\u001b[39m     \u001b[38;5;28;01mreturn\u001b[39;00m return_result\n",
      "\u001b[36mFile \u001b[39m\u001b[32m~/Libraries/miniforge3/envs/neubias25/lib/python3.12/site-packages/zarr/core/sync.py:119\u001b[39m, in \u001b[36m_runner\u001b[39m\u001b[34m(coro)\u001b[39m\n\u001b[32m    114\u001b[39m \u001b[38;5;250m\u001b[39m\u001b[33;03m\"\"\"\u001b[39;00m\n\u001b[32m    115\u001b[39m \u001b[33;03mAwait a coroutine and return the result of running it. If awaiting the coroutine raises an\u001b[39;00m\n\u001b[32m    116\u001b[39m \u001b[33;03mexception, the exception will be returned.\u001b[39;00m\n\u001b[32m    117\u001b[39m \u001b[33;03m\"\"\"\u001b[39;00m\n\u001b[32m    118\u001b[39m \u001b[38;5;28;01mtry\u001b[39;00m:\n\u001b[32m--> \u001b[39m\u001b[32m119\u001b[39m     \u001b[38;5;28;01mreturn\u001b[39;00m \u001b[38;5;28;01mawait\u001b[39;00m coro\n\u001b[32m    120\u001b[39m \u001b[38;5;28;01mexcept\u001b[39;00m \u001b[38;5;167;01mException\u001b[39;00m \u001b[38;5;28;01mas\u001b[39;00m ex:\n\u001b[32m    121\u001b[39m     \u001b[38;5;28;01mreturn\u001b[39;00m ex\n",
      "\u001b[36mFile \u001b[39m\u001b[32m~/Libraries/miniforge3/envs/neubias25/lib/python3.12/site-packages/zarr/api/asynchronous.py:583\u001b[39m, in \u001b[36marray\u001b[39m\u001b[34m(data, **kwargs)\u001b[39m\n\u001b[32m    580\u001b[39m     \u001b[38;5;28;01mraise\u001b[39;00m \u001b[38;5;167;01mValueError\u001b[39;00m(\u001b[33m\"\u001b[39m\u001b[33mread_only=True is no longer supported when creating new arrays\u001b[39m\u001b[33m\"\u001b[39m)\n\u001b[32m    582\u001b[39m \u001b[38;5;66;03m# instantiate array\u001b[39;00m\n\u001b[32m--> \u001b[39m\u001b[32m583\u001b[39m z = \u001b[38;5;28;01mawait\u001b[39;00m create(**kwargs)\n\u001b[32m    585\u001b[39m \u001b[38;5;66;03m# fill with data\u001b[39;00m\n\u001b[32m    586\u001b[39m \u001b[38;5;28;01mawait\u001b[39;00m z.setitem(\u001b[38;5;28mEllipsis\u001b[39m, data)\n",
      "\u001b[36mFile \u001b[39m\u001b[32m~/Libraries/miniforge3/envs/neubias25/lib/python3.12/site-packages/zarr/api/asynchronous.py:1055\u001b[39m, in \u001b[36mcreate\u001b[39m\u001b[34m(shape, chunks, dtype, compressor, fill_value, order, store, synchronizer, overwrite, path, chunk_store, filters, cache_metadata, cache_attrs, read_only, object_codec, dimension_separator, write_empty_chunks, zarr_version, zarr_format, meta_array, attributes, chunk_shape, chunk_key_encoding, codecs, dimension_names, storage_options, config, **kwargs)\u001b[39m\n\u001b[32m   1051\u001b[39m     config_dict[\u001b[33m\"\u001b[39m\u001b[33morder\u001b[39m\u001b[33m\"\u001b[39m] = order\n\u001b[32m   1053\u001b[39m config_parsed = ArrayConfig.from_dict(config_dict)\n\u001b[32m-> \u001b[39m\u001b[32m1055\u001b[39m \u001b[38;5;28;01mreturn\u001b[39;00m \u001b[38;5;28;01mawait\u001b[39;00m AsyncArray._create(\n\u001b[32m   1056\u001b[39m     store_path,\n\u001b[32m   1057\u001b[39m     shape=shape,\n\u001b[32m   1058\u001b[39m     chunks=chunks,\n\u001b[32m   1059\u001b[39m     dtype=dtype,\n\u001b[32m   1060\u001b[39m     compressor=compressor,\n\u001b[32m   1061\u001b[39m     fill_value=fill_value,\n\u001b[32m   1062\u001b[39m     overwrite=overwrite,\n\u001b[32m   1063\u001b[39m     filters=filters,\n\u001b[32m   1064\u001b[39m     dimension_separator=dimension_separator,\n\u001b[32m   1065\u001b[39m     zarr_format=zarr_format,\n\u001b[32m   1066\u001b[39m     chunk_shape=chunk_shape,\n\u001b[32m   1067\u001b[39m     chunk_key_encoding=chunk_key_encoding,\n\u001b[32m   1068\u001b[39m     codecs=codecs,\n\u001b[32m   1069\u001b[39m     dimension_names=dimension_names,\n\u001b[32m   1070\u001b[39m     attributes=attributes,\n\u001b[32m   1071\u001b[39m     config=config_parsed,\n\u001b[32m   1072\u001b[39m     **kwargs,\n\u001b[32m   1073\u001b[39m )\n",
      "\u001b[36mFile \u001b[39m\u001b[32m~/Libraries/miniforge3/envs/neubias25/lib/python3.12/site-packages/zarr/core/array.py:606\u001b[39m, in \u001b[36mAsyncArray._create\u001b[39m\u001b[34m(cls, store, shape, dtype, zarr_format, fill_value, attributes, chunk_shape, chunk_key_encoding, codecs, dimension_names, chunks, dimension_separator, order, filters, compressor, overwrite, data, config)\u001b[39m\n\u001b[32m    602\u001b[39m     \u001b[38;5;28;01mraise\u001b[39;00m \u001b[38;5;167;01mValueError\u001b[39;00m(\n\u001b[32m    603\u001b[39m         \u001b[33m\"\u001b[39m\u001b[33mfilters cannot be used for arrays with zarr_format 3. Use array-to-array codecs instead.\u001b[39m\u001b[33m\"\u001b[39m\n\u001b[32m    604\u001b[39m     )\n\u001b[32m    605\u001b[39m \u001b[38;5;28;01mif\u001b[39;00m compressor \u001b[38;5;129;01mis\u001b[39;00m \u001b[38;5;129;01mnot\u001b[39;00m \u001b[38;5;28;01mNone\u001b[39;00m:\n\u001b[32m--> \u001b[39m\u001b[32m606\u001b[39m     \u001b[38;5;28;01mraise\u001b[39;00m \u001b[38;5;167;01mValueError\u001b[39;00m(\n\u001b[32m    607\u001b[39m         \u001b[33m\"\u001b[39m\u001b[33mcompressor cannot be used for arrays with zarr_format 3. Use bytes-to-bytes codecs instead.\u001b[39m\u001b[33m\"\u001b[39m\n\u001b[32m    608\u001b[39m     )\n\u001b[32m    610\u001b[39m \u001b[38;5;28;01mif\u001b[39;00m order \u001b[38;5;129;01mis\u001b[39;00m \u001b[38;5;129;01mnot\u001b[39;00m \u001b[38;5;28;01mNone\u001b[39;00m:\n\u001b[32m    611\u001b[39m     _warn_order_kwarg()\n",
      "\u001b[31mValueError\u001b[39m: compressor cannot be used for arrays with zarr_format 3. Use bytes-to-bytes codecs instead."
     ]
    }
   ],
   "source": [
    "image = imread(\"https://github.com/StRigaud/clesperanto_workshop_I2K24/raw/refs/heads/main/data/P1_H_C3H_M004_17-cropped.tif\") # we only want 1 channel\n",
    "\n",
    "#compress AND change the numpy array into a zarr array\n",
    "compressor = Blosc(cname='zstd', clevel=3, shuffle=Blosc.BITSHUFFLE)\n",
    "\n",
    "# Convert image into zarr array\n",
    "chunk_size = (500, 500)\n",
    "zarray = zarr.array(image, chunks=chunk_size, compressor=compressor)\n",
    "\n",
    "# save zarr to disk\n",
    "zarr_filename = './data/P1_H_C3H_M004_17-cropped.zarr'\n",
    "zarr.convenience.save(zarr_filename, zarray)"
   ]
  },
  {
   "cell_type": "code",
   "execution_count": null,
   "id": "1efa7fea",
   "metadata": {},
   "outputs": [],
   "source": [
    "# darray = da.random.random((2, 20000, 20000), chunks=(2, 1000, 1000))\n",
    "darray = da.from_zarr(zarr_filename, chunks=(2, 1000, 1000), name='zarray', compressor=compressor)\n",
    "darray"
   ]
  },
  {
   "cell_type": "code",
   "execution_count": null,
   "id": "edb8e2e0",
   "metadata": {},
   "outputs": [],
   "source": [
    "fig, axs = plt.subplots(1, 2, figsize=(30, 10))\n",
    "axs[0].imshow(darray[0], cmap='gray')\n",
    "axs[1].imshow(darray[1], cmap='gray')\n",
    "plt.show()"
   ]
  },
  {
   "cell_type": "code",
   "execution_count": null,
   "id": "cb772419",
   "metadata": {},
   "outputs": [],
   "source": [
    "nb_devices = len(cle.list_available_devices(device_type=\"gpu\"))\n",
    "\n",
    "cluster = dd.LocalCluster(n_workers=nb_devices, threads_per_worker=1, processes=False)\n",
    "client = dd.Client(cluster)\n",
    "print(client)"
   ]
  },
  {
   "cell_type": "code",
   "execution_count": null,
   "id": "770f299d",
   "metadata": {},
   "outputs": [],
   "source": [
    "workers = client.scheduler_info()['workers']\n",
    "worker_dev_map = {worker: idx for idx, worker in enumerate(workers)}\n",
    "for worker in workers:\n",
    "    print(worker_dev_map[worker], \"-\", worker, \":\" ,cle.select_device(worker_dev_map[worker], device_type=\"gpu\").name)"
   ]
  },
  {
   "cell_type": "markdown",
   "id": "f63ea129",
   "metadata": {},
   "source": [
    "### clesperanto mini-Pipeline"
   ]
  },
  {
   "cell_type": "code",
   "execution_count": null,
   "id": "904d878b",
   "metadata": {},
   "outputs": [],
   "source": [
    "def cle_operation(image, block_info=None):\n",
    "    # fetch the device associate to the worker\n",
    "    worker = dd.get_worker()\n",
    "    gpu_index = worker_dev_map[worker.address]\n",
    "    device = cle.select_device(gpu_index, \"gpu\")\n",
    "    chunk_coord = block_info[None]['chunk-location'] if block_info is not None else None\n",
    "\n",
    "    print(f\"Processing chunk {chunk_coord} with {device.name} ({gpu_index})\")\n",
    "\n",
    "    # TODO: add processing here\n",
    "\n",
    "    # return the results as numpy array\n",
    "    return np.asarray(image)"
   ]
  },
  {
   "cell_type": "code",
   "execution_count": null,
   "id": "a94eeab7",
   "metadata": {},
   "outputs": [],
   "source": [
    "processed_image = da.map_overlap(cle_operation, darray[1], dtype=darray.dtype)\n",
    "processed_image"
   ]
  },
  {
   "cell_type": "code",
   "execution_count": null,
   "id": "350625b1",
   "metadata": {},
   "outputs": [],
   "source": [
    "start = timeit.default_timer()\n",
    "result = processed_image.compute()\n",
    "end = timeit.default_timer()\n",
    "print(f\"Time to compute: {end - start} seconds\")"
   ]
  },
  {
   "cell_type": "code",
   "execution_count": null,
   "id": "be316538",
   "metadata": {},
   "outputs": [],
   "source": [
    "fig, axs = plt.subplots(1, 1, figsize=(30, 10))\n",
    "axs.imshow(processed_image, cmap='viridis')\n",
    "plt.show()"
   ]
  },
  {
   "cell_type": "markdown",
   "id": "bcd72881",
   "metadata": {},
   "source": [
    "## Exercise 1: Extend the function to quantify this image"
   ]
  }
 ],
 "metadata": {
  "kernelspec": {
   "display_name": "neubias25",
   "language": "python",
   "name": "python3"
  },
  "language_info": {
   "codemirror_mode": {
    "name": "ipython",
    "version": 3
   },
   "file_extension": ".py",
   "mimetype": "text/x-python",
   "name": "python",
   "nbconvert_exporter": "python",
   "pygments_lexer": "ipython3",
   "version": "3.12.10"
  }
 },
 "nbformat": 4,
 "nbformat_minor": 5
}
