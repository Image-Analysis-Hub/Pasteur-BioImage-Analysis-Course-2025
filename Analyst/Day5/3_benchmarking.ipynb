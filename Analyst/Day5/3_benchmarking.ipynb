{
 "cells": [
  {
   "cell_type": "markdown",
   "id": "6390dd3c-7301-4167-b35c-eb2cd375f5b8",
   "metadata": {},
   "source": [
    "# Benchmarking\n"
   ]
  },
  {
   "cell_type": "code",
   "execution_count": 1,
   "id": "baa8694c",
   "metadata": {},
   "outputs": [],
   "source": [
    "import timeit\n",
    "import numpy as np\n",
    "from functools import partial\n",
    "\n",
    "import pyclesperanto as cle\n",
    "try:\n",
    "    import cupy as xp\n",
    "except:\n",
    "    import numpy as xp\n",
    "    Warning(\"Cupy not found, using numpy instead.\")\n",
    "try:\n",
    "    import cupyx.scipy.ndimage as xdi\n",
    "except:\n",
    "    import scipy.ndimage as xdi\n",
    "    Warning(\"Cupy not found, using scipy instead.\")\n",
    "\n",
    "import matplotlib.pyplot as plt\n",
    "\n",
    "from skimage.io import imread"
   ]
  },
  {
   "cell_type": "markdown",
   "id": "9519657c",
   "metadata": {},
   "source": [
    "## JIT Compilation and Cache\n",
    "\n",
    "Run the following cell and compare the speed run of the gaussian filter on your machine. What can you tell?"
   ]
  },
  {
   "cell_type": "code",
   "execution_count": 2,
   "id": "9c2b55a7",
   "metadata": {},
   "outputs": [],
   "source": [
    "# Random data for testing\n",
    "arr = np.random.rand(2,2000,2000).astype(np.float32)\n",
    "cl_arr = cle.push(arr)\n",
    "cu_arr = xp.asarray(arr)\n"
   ]
  },
  {
   "cell_type": "code",
   "execution_count": 3,
   "id": "76a6934d",
   "metadata": {},
   "outputs": [
    {
     "name": "stdout",
     "output_type": "stream",
     "text": [
      "skimage took 0.21884039900032803 seconds\n",
      "cupy took 0.027052187972003594 seconds\n",
      "clesperanto took 0.004499514994677156 seconds\n"
     ]
    }
   ],
   "source": [
    "from skimage.filters import gaussian\n",
    "\n",
    "start = timeit.default_timer()\n",
    "gaussian(arr, sigma=5)\n",
    "end = timeit.default_timer()\n",
    "print(\"skimage took\", end - start, \"seconds\")\n",
    "\n",
    "start = timeit.default_timer()\n",
    "xdi.gaussian_filter(cu_arr, sigma=5)\n",
    "end = timeit.default_timer()\n",
    "print(\"cupy took\", end - start, \"seconds\")\n",
    "\n",
    "start = timeit.default_timer()\n",
    "cle.gaussian_blur(cl_arr, sigma_x=5, sigma_y=5)\n",
    "end = timeit.default_timer()\n",
    "print(\"clesperanto took\", end - start, \"seconds\")"
   ]
  },
  {
   "cell_type": "markdown",
   "id": "3a420769",
   "metadata": {},
   "source": [
    "Re-run the cell and comment the different ...\n",
    "\n",
    "\n",
    "The first run on GPU will usually require a compilation time that is done at runtime. This allows fexibility on the operation to be runned to the cost of speed for the first execution. Both Cupy and clEsperanto will rely on a cache system which store all the kernel build previously to skip this compilation time if possible.\n",
    "\n",
    "You can see it in a `.cache` hidden folder for POSIX and in the `%APPDATA%` folder on Windows.\n",
    "\n",
    "## Blocking threads and asynchronisation"
   ]
  },
  {
   "cell_type": "code",
   "execution_count": 4,
   "id": "6135de25",
   "metadata": {},
   "outputs": [],
   "source": [
    "from skimage.filters import gaussian\n",
    "\n",
    "def cpu_function(arr, sigma):\n",
    "    gaussian(arr, sigma=sigma)\n",
    "\n",
    "def cle_function(arr, sigma):\n",
    "    cle.gaussian_blur(arr, sigma_x=sigma, sigma_y=sigma, sigma_z=sigma)\n",
    "\n",
    "def cu_function(arr, sigma):\n",
    "    xdi.gaussian_filter(arr, sigma)\n",
    "\n",
    "size = []\n",
    "cpu_times = []\n",
    "cupy_times = []\n",
    "cle_times = []\n",
    "\n",
    "sigma = 5\n",
    "warm_up_iter = 1\n",
    "eval_iter = 3\n",
    "for i in range(10, 1000, 100):\n",
    "    arr = np.random.rand(i, i, i).astype(np.float32)\n",
    "    cl_arr = cle.push(arr)\n",
    "    cu_arr = xp.asarray(arr)\n",
    "\n",
    "    size.append(arr.itemsize * arr.size / 1024 / 1024)\n",
    "\n",
    "    if size[-1] > 500:\n",
    "        cpu_times.append(np.nan)\n",
    "    else:\n",
    "        partial_function = partial(cpu_function, arr, sigma)\n",
    "        _ = timeit.timeit(partial_function, number=warm_up_iter)\n",
    "        t = timeit.timeit(partial_function, number=eval_iter)\n",
    "        cpu_times.append(t)\n",
    "\n",
    "    partial_function = partial(cu_function, cu_arr, sigma)\n",
    "    _ = timeit.timeit(partial_function, number=warm_up_iter)\n",
    "    t = timeit.timeit(partial_function, number=eval_iter)\n",
    "    cupy_times.append(t)\n",
    "\n",
    "    partial_function = partial(cle_function, cl_arr, sigma)\n",
    "    _ = timeit.timeit(partial_function, number=warm_up_iter)\n",
    "    t = timeit.timeit(partial_function, number=eval_iter)\n",
    "    cle_times.append(t)"
   ]
  },
  {
   "cell_type": "code",
   "execution_count": 5,
   "id": "80f58a05",
   "metadata": {},
   "outputs": [
    {
     "data": {
      "text/plain": [
       "<matplotlib.legend.Legend at 0x7f63f09a9d30>"
      ]
     },
     "execution_count": 5,
     "metadata": {},
     "output_type": "execute_result"
    },
    {
     "data": {
      "image/png": "[encoded data removed]",
      "text/plain": [
       "<Figure size 640x480 with 1 Axes>"
      ]
     },
     "metadata": {},
     "output_type": "display_data"
    }
   ],
   "source": [
    "plt.plot(size, cpu_times, label=\"skimage\", color=\"magenta\")\n",
    "plt.plot(size, cupy_times, label=\"cupy\", color=\"green\")\n",
    "plt.plot(size, cle_times, label=\"clesperanto\", color=\"cyan\")\n",
    "plt.xlabel(\"Data size (MB)\")\n",
    "plt.ylabel(\"Time (s)\")\n",
    "plt.legend()"
   ]
  },
  {
   "cell_type": "markdown",
   "id": "09148882",
   "metadata": {},
   "source": [
    "A second thing to take in account is the asynchronisation between the CPU and the GPU. When executing a kernel on a device, the CPU does not know when the device is finished or not. Hence, the extreme processing speed of the GPU while in reality we do not know when it actually finished. To enforce this, we need to tell the GPU to finish (synchronise) its command queue. \n",
    "\n",
    "### Exercise 1: Fix the benchmarking algorithm to have the correct time\n",
    "\n",
    "In clesperanto we use the `wait_for_kernel_to_finish` function to trigger this behaviour globally, in Cupy we can call the `cuda.runtime.deviceSynchronize()` after the operation to wait for it.\n",
    "\n",
    "### Exercise 2: What should be benchmark next?\n",
    "\n",
    "- Who has the fastest device?\n",
    "- Who is faster between cupy and clesperanto?"
   ]
  }
 ],
 "metadata": {
  "kernelspec": {
   "display_name": "skbe",
   "language": "python",
   "name": "python3"
  },
  "language_info": {
   "codemirror_mode": {
    "name": "ipython",
    "version": 3
   },
   "file_extension": ".py",
   "mimetype": "text/x-python",
   "name": "python",
   "nbconvert_exporter": "python",
   "pygments_lexer": "ipython3",
   "version": "3.12.7"
  }
 },
 "nbformat": 4,
 "nbformat_minor": 5
}
