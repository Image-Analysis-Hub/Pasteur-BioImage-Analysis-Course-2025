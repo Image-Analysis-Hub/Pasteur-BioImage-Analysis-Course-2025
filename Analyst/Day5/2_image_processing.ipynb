{
 "cells": [
  {
   "cell_type": "code",
   "execution_count": null,
   "id": "12f1b348",
   "metadata": {},
   "outputs": [],
   "source": [
    "import numpy as np\n",
    "import pandas as pd\n",
    "import time\n",
    "import matplotlib.pyplot as plt\n",
    "from skimage.io import imread"
   ]
  },
  {
   "cell_type": "markdown",
   "id": "0269b494",
   "metadata": {},
   "source": [
    "# Image Processing pipeline\n",
    "\n",
    "We now know how to select and transfer data towards our device, let's apply some processing on it.\n",
    "\n",
    "We will use a classic image processing pipeline: `blur > threshold > label > quantify`\n",
    "\n",
    "### CPU - skimage pipeline"
   ]
  },
  {
   "cell_type": "code",
   "execution_count": null,
   "id": "b1d7de06",
   "metadata": {},
   "outputs": [],
   "source": [
    "from skimage.filters import gaussian, threshold_otsu\n",
    "from skimage.measure import label, regionprops_table\n",
    "\n",
    "image = imread('./data/blobs.png').squeeze()\n",
    "\n",
    "start = time.time()\n",
    "blurred_image = gaussian(image, sigma=3)\n",
    "binary_image = blurred_image > threshold_otsu(blurred_image)\n",
    "labeled_image = label(binary_image)\n",
    "props = regionprops_table(labeled_image, intensity_image=image, properties=\n",
    "                          ['label', 'area', 'centroid', 'bbox', 'eccentricity', 'solidity', 'orientation', 'major_axis_length', 'minor_axis_length', \n",
    "                           'min_intensity', 'max_intensity', 'mean_intensity', 'std_intensity'])\n",
    "print(f\"Processing time: {time.time() - start} seconds\")\n",
    "\n",
    "fig, axs = plt.subplots(1, 4, figsize=(12, 6))\n",
    "axs[0].imshow(image, cmap='gray')\n",
    "axs[1].imshow(blurred_image, cmap='gray')\n",
    "axs[2].imshow(binary_image, cmap='gray')\n",
    "axs[3].imshow(labeled_image, cmap='nipy_spectral')\n",
    "for ax in axs:\n",
    "    ax.axis('off')\n",
    "plt.show()\n",
    "\n",
    "pd.DataFrame(props).head()"
   ]
  },
  {
   "cell_type": "markdown",
   "id": "ef053e38",
   "metadata": {},
   "source": [
    "### GPU - clesperanto pipeline\n",
    "\n",
    "Applying the same pipeline, this time using clesperanto. Naming are not exactly the same as we try to stick to wordy but clear operation name.\n",
    "\n",
    "However, the API follow a specific pattern:\n",
    "\n",
    "> output = cle.operation_name(input, output, args)\n",
    "\n",
    "where:\n",
    "\n",
    "- `cle` is the librairy handle\n",
    "- `operation_name` is the name of the operation you want to apply\n",
    "- `input` is the input data\n",
    "- `output` is the output data\n",
    "- `args` are the parameters of the operation (none, one, or more, generaly with default values)\n",
    "\n",
    "If the `output` array is provided, the library will use it as it is. If left to `None`, the library will automatically create it on the device and return it.\n",
    "In most usage, we will use the return `output` as it is easier but providing yourself the `output` variable allows you to have a more refine control on the device memory and output.\n",
    "\n",
    "Each functions are documented, you can access though your IDE or using the `cle.operation_name?` idiom in a notebook, or use the [Documentation](https://clesperanto-doc.readthedocs.io)\n",
    "\n",
    "#### Exercise 1: Reproduce the previous pipeline using clesperanto\n",
    "\n",
    "Hint on available functions to do this: `gaussian_blur`, `threshold_otsu`, `connected_component_labeling`, `statistics_of_labelled_pixels`\n"
   ]
  },
  {
   "cell_type": "code",
   "execution_count": null,
   "id": "51fe4a8a",
   "metadata": {},
   "outputs": [],
   "source": [
    "import pyclesperanto as cle\n",
    "cle.select_device(1, device_type='gpu')\n",
    "\n",
    "image = imread('./data/blobs.png').squeeze()\n",
    "\n",
    "# TODO process the image with pyclesperanto"
   ]
  },
  {
   "cell_type": "markdown",
   "id": "58a1d2ba",
   "metadata": {},
   "source": [
    "### GPU - cupy pipeline\n",
    "\n",
    "Cupy is not an __image processing__ package, it comes with a large set of operation from the `ndimage` module from __scipy__ which allows us to perform several operation right on images but we still need to rely on some of the __scikit-image__ package.\n",
    "\n",
    "> [NOTE]\n",
    "> Not all operation can be performed on GPU, __cupy__ or __clesperanto__ are not replacement package for __scikit-image__ !"
   ]
  },
  {
   "cell_type": "code",
   "execution_count": null,
   "id": "9e6933ea",
   "metadata": {},
   "outputs": [],
   "source": [
    "try:\n",
    "    import cupy as xp\n",
    "except:\n",
    "    import numpy as xp\n",
    "    Warning(\"Cupy not found, using numpy instead.\")\n",
    "\n",
    "try:\n",
    "    import cupyx.scipy.ndimage as xdi\n",
    "except:\n",
    "    import scipy.ndimage as xdi\n",
    "    Warning(\"Cupy not found, using scipy instead.\")\n",
    "\n",
    "image = imread('./data/blobs.png').squeeze()\n",
    "\n",
    "start = time.time()\n",
    "gpu_img = xp.asarray(image)\n",
    "blurred_image = xdi.gaussian_filter(gpu_img, sigma=3)\n",
    "binary_image = blurred_image > threshold_otsu(blurred_image.get())\n",
    "labeled_image, _ = xdi.label(binary_image)\n",
    "props = regionprops_table(labeled_image.get(), intensity_image=gpu_img.get(), properties=\n",
    "                          ['label', 'area', 'centroid', 'bbox', 'eccentricity', 'solidity', 'orientation', 'major_axis_length', 'minor_axis_length', \n",
    "                           'min_intensity', 'max_intensity', 'mean_intensity', 'std_intensity'])\n",
    "print(f\"Processing time: {time.time() - start} seconds\")\n",
    "\n",
    "fig, axs = plt.subplots(1, 4, figsize=(12, 6))\n",
    "axs[0].imshow(gpu_img.get(), cmap='gray')\n",
    "axs[1].imshow(blurred_image.get(), cmap='gray')\n",
    "axs[2].imshow(binary_image.get(), cmap='gray')\n",
    "axs[3].imshow(labeled_image.get(), cmap='nipy_spectral')\n",
    "for ax in axs:\n",
    "    ax.axis('off')\n",
    "plt.show()\n",
    "\n",
    "pd.DataFrame(props).head()"
   ]
  }
 ],
 "metadata": {
  "kernelspec": {
   "display_name": "neubias25",
   "language": "python",
   "name": "python3"
  },
  "language_info": {
   "codemirror_mode": {
    "name": "ipython",
    "version": 3
   },
   "file_extension": ".py",
   "mimetype": "text/x-python",
   "name": "python",
   "nbconvert_exporter": "python",
   "pygments_lexer": "ipython3",
   "version": "3.12.10"
  }
 },
 "nbformat": 4,
 "nbformat_minor": 5
}
