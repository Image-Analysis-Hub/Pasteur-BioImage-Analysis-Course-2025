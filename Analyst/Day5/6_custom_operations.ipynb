{
 "cells": [
  {
   "cell_type": "code",
   "execution_count": 1,
   "id": "c786d799",
   "metadata": {},
   "outputs": [],
   "source": [
    "import pyclesperanto as cle\n",
    "import numpy as np"
   ]
  },
  {
   "cell_type": "markdown",
   "id": "978d1d1e",
   "metadata": {},
   "source": [
    "# Custom kernel operation\n",
    "\n",
    "Several algorithms are already present in the library but you may want to perform more specific task or develop your own kernel operations. clEsperanto provides the functions `native_execute` to run OpenCL C code directly."
   ]
  },
  {
   "cell_type": "code",
   "execution_count": 2,
   "id": "5bb6216b",
   "metadata": {},
   "outputs": [
    {
     "name": "stdout",
     "output_type": "stream",
     "text": [
      "\u001b[31mSignature:\u001b[39m\n",
      "cle.native_execute(\n",
      "    anchor=\u001b[38;5;28;01mNone\u001b[39;00m,\n",
      "    kernel_source: str = \u001b[33m''\u001b[39m,\n",
      "    kernel_name: str = \u001b[33m''\u001b[39m,\n",
      "    global_size: tuple = (\u001b[32m1\u001b[39m, \u001b[32m1\u001b[39m, \u001b[32m1\u001b[39m),\n",
      "    local_size: tuple = (\u001b[32m1\u001b[39m, \u001b[32m1\u001b[39m, \u001b[32m1\u001b[39m),\n",
      "    parameters: dict = {},\n",
      "    device: pyclesperanto._pyclesperanto._Device = \u001b[38;5;28;01mNone\u001b[39;00m,\n",
      ")\n",
      "\u001b[31mDocstring:\u001b[39m\n",
      "Execute an OpenCL kernel from a file or a string\n",
      "\n",
      "Call, build, and execute a kernel compatible with OpenCL language.\n",
      "The kernel can be called from a file or a string.\n",
      "\n",
      "The parameters must still be passed as a dictionary with the correct types and order.\n",
      "Buffer parameters must be passed as Array objects. Scalars must be passed as Python native float or int.\n",
      "\n",
      "Warning: Only 1D buffers are supported for now.\n",
      "\n",
      "Parameters\n",
      "----------\n",
      "anchor : str, default = '__file__'\n",
      "    Enter __file__ when calling this method and the corresponding open.cl\n",
      "    file lies in the same folder as the python file calling it.\n",
      "    Ignored if kernel_source is a string.\n",
      "kernel_source : str\n",
      "    Filename of the open.cl file to be called or string containing the open.cl source code\n",
      "kernel_name : str\n",
      "    Kernel method inside the open.cl file to be called\n",
      "    most clij/clesperanto kernel functions have the same name as the file they are in\n",
      "global_size : tuple (z,y,x), default = (1, 1, 1)\n",
      "    Global_size according to OpenCL definition (usually shape of the destination image).\n",
      "local_size : tuple (z,y,x), default = (1, 1, 1)\n",
      "    Local_size according to OpenCL definition (usually default is good).\n",
      "parameters : dict(str, [Array, float, int])\n",
      "    Dictionary containing parameters. Take care: They must be of the\n",
      "    right type and in the right order as specified in the open.cl file.\n",
      "device : Device, default = None\n",
      "    The device to execute the kernel on. If None, use the current device\n",
      "\u001b[31mFile:\u001b[39m      ~/Libraries/miniforge3/envs/neubias25/lib/python3.12/site-packages/pyclesperanto/_functionalities.py\n",
      "\u001b[31mType:\u001b[39m      function"
     ]
    }
   ],
   "source": [
    "cle.native_execute?"
   ]
  },
  {
   "cell_type": "markdown",
   "id": "159c6453",
   "metadata": {},
   "source": [
    "## Native OpenCL Kernel\n",
    "\n",
    "```c\n",
    "__kernel void add_arrays(__global float* a, __global float* b, __global float* output, int size) {\n",
    "    int x = get_global_id(0); // Global ID in the 1st dimension\n",
    "\n",
    "    if (x < size) {\n",
    "        output[x] = a[x] + b[x];\n",
    "    }\n",
    "}\n",
    "```"
   ]
  },
  {
   "cell_type": "code",
   "execution_count": 3,
   "id": "26258f8f",
   "metadata": {},
   "outputs": [
    {
     "name": "stdout",
     "output_type": "stream",
     "text": [
      "[1. 1. 1. 1. 1. 1. 1. 1. 1. 1.] + \n",
      "[2. 2. 2. 2. 2. 2. 2. 2. 2. 2.] = \n",
      "[3. 3. 3. 3. 3. 3. 3. 3. 3. 3.]\n"
     ]
    }
   ],
   "source": [
    "a = cle.push(np.ones(10))\n",
    "b = cle.push(np.ones(10) * 2)\n",
    "output = cle.create(a.shape)\n",
    "\n",
    "kernel_source = \"\"\"\n",
    "__kernel void add_arrays(__global float* a, __global float* b, __global float* output) {\n",
    "    int x = get_global_id(0);\n",
    "    output[x] = a[x] + b[x];\n",
    "}\"\"\"\n",
    "\n",
    "kernel_name = \"add_arrays\"  # Must match the kernel name in the source !\n",
    "\n",
    "parameters = { # keys must match the kernel arguments name, type, and order in the source !\n",
    "    \"a\": a,\n",
    "    \"b\": b,\n",
    "    \"output\": output\n",
    "}\n",
    "\n",
    "cle.native_execute(\n",
    "    kernel_source=kernel_source,\n",
    "    kernel_name=kernel_name,\n",
    "    parameters=parameters,\n",
    "    global_size=a.size          # should correspond to the number of work items (e.g. pixels)\n",
    ")\n",
    "\n",
    "print(f\"{a} + \\n{b} = \\n{output}\")"
   ]
  },
  {
   "cell_type": "markdown",
   "id": "72f7ef25",
   "metadata": {},
   "source": [
    "## CLIJ-OpenCL Kernel\n",
    "\n",
    "```c\n",
    "__constant sampler_t sampler = CLK_NORMALIZED_COORDS_FALSE | CLK_ADDRESS_CLAMP_TO_EDGE | CLK_FILTER_NEAREST;\n",
    "__kernel void add_arrays(IMAGE_a_TYPE a, IMAGE_b_TYPE b, IMAGE_output_TYPE output) {\n",
    "    int x = get_global_id(0);\n",
    "    int y = get_global_id(1);\n",
    "    int z = get_global_id(2);\n",
    "    \n",
    "    IMAGE_a_PIXEL_TYPE value_a = READ_IMAGE(a, sampler, POS_a_INSTANCE(x,y,z,0)).x;\n",
    "    IMAGE_b_PIXEL_TYPE value_b = READ_IMAGE(b, sampler, POS_b_INSTANCE(x,y,z,0)).x;\n",
    "    WRITE_IMAGE(output, POS_output_INSTANCE(x,y,z,0), CONVERT_output_PIXEL_TYPE(value_a + value_b));\n",
    "}\n",
    "```\n",
    "\n",
    "This introduce placeholder to adapte the kernel to the data type and dimensionality and to facilitate algorithms"
   ]
  },
  {
   "cell_type": "code",
   "execution_count": 6,
   "id": "78c37c30",
   "metadata": {},
   "outputs": [
    {
     "name": "stdout",
     "output_type": "stream",
     "text": [
      "[1. 1. 1. 1. 1. 1. 1. 1. 1. 1.] + \n",
      "[2. 2. 2. 2. 2. 2. 2. 2. 2. 2.] = \n",
      "[3. 3. 3. 3. 3. 3. 3. 3. 3. 3.]\n"
     ]
    }
   ],
   "source": [
    "a = cle.push(np.ones(10))\n",
    "b = cle.push(np.ones(10) * 2)\n",
    "output = cle.create(a.shape)\n",
    "\n",
    "kernel_source = \"\"\"\n",
    "__constant sampler_t sampler = CLK_NORMALIZED_COORDS_FALSE | CLK_ADDRESS_CLAMP_TO_EDGE | CLK_FILTER_NEAREST;\n",
    "__kernel void add_arrays(IMAGE_a_TYPE a, IMAGE_b_TYPE b, IMAGE_output_TYPE output) {\n",
    "    int x = get_global_id(0);\n",
    "    int y = get_global_id(1);\n",
    "    int z = get_global_id(2);\n",
    "    \n",
    "    IMAGE_a_PIXEL_TYPE value_a = READ_IMAGE(a, sampler, POS_a_INSTANCE(x,y,z,0)).x;\n",
    "    IMAGE_b_PIXEL_TYPE value_b = READ_IMAGE(b, sampler, POS_b_INSTANCE(x,y,z,0)).x;\n",
    "    WRITE_IMAGE(output, POS_output_INSTANCE(x,y,z,0), CONVERT_output_PIXEL_TYPE(value_a + value_b));\n",
    "}\"\"\"\n",
    "\n",
    "kernel_name = \"add_arrays\"  # Must match the kernel name in the source !\n",
    "\n",
    "parameters = { # keys must match the kernel arguments name, type, and order in the source !\n",
    "    \"a\": a,\n",
    "    \"b\": b,\n",
    "    \"output\": output\n",
    "}\n",
    "\n",
    "cle.execute(\n",
    "    kernel_source=kernel_source,\n",
    "    kernel_name=kernel_name,\n",
    "    parameters=parameters,\n",
    "    global_size=a.shape,  # should correspond to the number of work items (e.g. pixels)\n",
    ")\n",
    "\n",
    "print(f\"{a} + \\n{b} = \\n{output}\")"
   ]
  },
  {
   "cell_type": "markdown",
   "id": "9e2b9af8",
   "metadata": {},
   "source": []
  }
 ],
 "metadata": {
  "kernelspec": {
   "display_name": "neubias25",
   "language": "python",
   "name": "python3"
  },
  "language_info": {
   "codemirror_mode": {
    "name": "ipython",
    "version": 3
   },
   "file_extension": ".py",
   "mimetype": "text/x-python",
   "name": "python",
   "nbconvert_exporter": "python",
   "pygments_lexer": "ipython3",
   "version": "3.12.10"
  }
 },
 "nbformat": 4,
 "nbformat_minor": 5
}
