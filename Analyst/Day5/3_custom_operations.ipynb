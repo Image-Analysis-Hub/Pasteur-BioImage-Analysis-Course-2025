{
 "cells": [
  {
   "cell_type": "markdown",
   "id": "978d1d1e",
   "metadata": {},
   "source": [
    "# Custome kernel operation\n",
    "\n"
   ]
  },
  {
   "cell_type": "code",
   "execution_count": null,
   "id": "5bb6216b",
   "metadata": {},
   "outputs": [],
   "source": []
  }
 ],
 "metadata": {
  "language_info": {
   "name": "python"
  }
 },
 "nbformat": 4,
 "nbformat_minor": 5
}
