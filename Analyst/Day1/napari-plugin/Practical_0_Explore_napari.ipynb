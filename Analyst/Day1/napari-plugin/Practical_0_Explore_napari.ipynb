{
 "cells": [
  {
   "cell_type": "markdown",
   "id": "897406c0-58d8-4408-a7fa-ccb7b16ff55e",
   "metadata": {},
   "source": [
    "# Practical 0: Explore napari"
   ]
  },
  {
   "cell_type": "code",
   "execution_count": null,
   "id": "a6e959cb-e425-4528-b8c4-1b2525adca23",
   "metadata": {},
   "outputs": [],
   "source": []
  }
 ],
 "metadata": {
  "kernelspec": {
   "display_name": "Python 3 (ipykernel)",
   "language": "python",
   "name": "python3"
  },
  "language_info": {
   "codemirror_mode": {
    "name": "ipython",
    "version": 3
   },
   "file_extension": ".py",
   "mimetype": "text/x-python",
   "name": "python",
   "nbconvert_exporter": "python",
   "pygments_lexer": "ipython3",
   "version": "3.11.12"
  }
 },
 "nbformat": 4,
 "nbformat_minor": 5
}
