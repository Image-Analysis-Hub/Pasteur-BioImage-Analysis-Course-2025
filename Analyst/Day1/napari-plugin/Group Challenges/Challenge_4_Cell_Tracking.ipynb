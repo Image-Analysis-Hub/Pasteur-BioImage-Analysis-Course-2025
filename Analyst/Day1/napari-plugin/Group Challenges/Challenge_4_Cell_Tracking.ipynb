{
 "cells": [
  {
   "cell_type": "markdown",
   "id": "2fae47ac-bad0-4404-a3bc-3635f84c8cb0",
   "metadata": {},
   "source": [
    "# Group Challenge 4: Cell Tracking \n",
    "\n",
    "Create a plugin to track cells \n",
    "\n",
    "1) Select image\n",
    "2) Segment cells\n",
    "3) Compute tracks\n",
    "4) Display tracks interactively\n",
    "\n",
    "To see what this plugin should look like in action, watch [this video](https://youtu.be/Lg6Cj1TSljI)"
   ]
  },
  {
   "cell_type": "markdown",
   "id": "da504bd6-8e6a-4cb6-8a8c-f67f0320f94a",
   "metadata": {},
   "source": [
    "# Primer on cell tracking \n",
    "\n",
    "### Segment cells with Cellpose\n",
    "\n",
    "### Track cells with btrack\n",
    "\n",
    "### The `Tracks` layer in napari"
   ]
  },
  {
   "cell_type": "code",
   "execution_count": 2,
   "id": "f66d35a6-7edd-4fcd-8eb2-5612b3a0d0b9",
   "metadata": {},
   "outputs": [],
   "source": [
    "from skimage.io import imread\n",
    "import numpy as np\n",
    "from magicgui import magicgui\n",
    "import napari"
   ]
  },
  {
   "cell_type": "markdown",
   "id": "aa5ecd34-3017-4691-acf6-34fa0982935e",
   "metadata": {},
   "source": [
    "## Load sample data"
   ]
  },
  {
   "cell_type": "code",
   "execution_count": 3,
   "id": "5ed24dc7-08c4-437b-a6d0-aa78ca6b2318",
   "metadata": {},
   "outputs": [],
   "source": [
    "IMAGE = imread('https://zenodo.org/records/5206107/files/P31-crop.tif?download=1')\n",
    "IMAGE_CROP = IMAGE[10:20,-100:,-100:]"
   ]
  },
  {
   "cell_type": "markdown",
   "id": "8e6a88f2-36c0-428d-b3cc-eda34470eb2c",
   "metadata": {},
   "source": [
    "## Define plugin functions"
   ]
  },
  {
   "cell_type": "code",
   "execution_count": 4,
   "id": "2b348e7d-9385-4103-99ff-d5c05f3db0e3",
   "metadata": {},
   "outputs": [],
   "source": [
    "def segment_cells(images):\n",
    "    from cellpose import models\n",
    "    from skimage.util import img_as_float\n",
    "    \n",
    "    masks = []\n",
    "    for image in images:\n",
    "        model = models.CellposeModel(gpu=True)\n",
    "        img = img_as_float(image)\n",
    "        mask, __, __ = model.eval(image)\n",
    "        masks.append(mask)\n",
    "        \n",
    "    return np.stack(masks)\n",
    "\n",
    "def track_cells(label_image, features, config_file):\n",
    "    import btrack\n",
    "    \n",
    "    objects = btrack.utils.segmentation_to_objects(label_image, properties=tuple(features))\n",
    "\n",
    "    with btrack.BayesianTracker() as tracker:\n",
    "        tracker.configure(config_file)\n",
    "        tracker.append(objects)\n",
    "        tracker.volume = ((0, label_image.shape[2]), (0, label_image.shape[1]))\n",
    "        tracker.track_interactive(step_size=100)\n",
    "        track_data = tracker.to_napari(ndim=2)\n",
    "    \n",
    "    return track_data"
   ]
  },
  {
   "cell_type": "markdown",
   "id": "2d894640-fa0f-49c6-aea5-3deff457da03",
   "metadata": {},
   "source": [
    "## Magicgui Implementation"
   ]
  },
  {
   "cell_type": "code",
   "execution_count": 5,
   "id": "89bedcdd-2d0a-41d8-bd58-53f72ba5c614",
   "metadata": {
    "jupyter": {
     "source_hidden": true
    },
    "scrolled": true
   },
   "outputs": [
    {
     "data": {
      "text/plain": [
       "<napari._qt.widgets.qt_viewer_dock_widget.QtViewerDockWidget at 0x7efde102b010>"
      ]
     },
     "execution_count": 5,
     "metadata": {},
     "output_type": "execute_result"
    }
   ],
   "source": [
    "@magicgui(config_file={'label': 'config file',\n",
    "                       'widget_type': 'FileEdit',\n",
    "                       'mode': 'r',\n",
    "                       'filter': '*.json'})\n",
    "def cell_tracking(\n",
    "    viewer: 'napari.viewer.Viewer',\n",
    "    image: 'napari.layers.Image',\n",
    "    config_file:  'pathlib.Path.home()'\n",
    ") -> 'Union[napari.types.LabelsData, napari.layers.Tracks]':\n",
    "\n",
    "    from napari.qt.threading import thread_worker\n",
    "\n",
    "    features = [\"area\", \"major_axis_length\", \"minor_axis_length\", \"orientation\", \"solidity\"]\n",
    "    \n",
    "    def _add_tracking_data(return_value):\n",
    "        mask, track_data = return_value\n",
    "        data, properties, graph = track_data\n",
    "        viewer.add_labels(mask)\n",
    "        viewer.add_tracks(data, properties=properties, graph=graph, name='Tracks')\n",
    "\n",
    "    @thread_worker(progress={\"total\":10})\n",
    "    def _cell_tracking(image, mask, features, config_file):\n",
    "        mask = segment_cells(image.data)\n",
    "        track_data = track_cells(mask, features, config_file)\n",
    "\n",
    "        yield mask, track_data\n",
    "\n",
    "    worker = _cell_tracking(image,mask,features, config_file)\n",
    "    worker.yielded.connect(_add_tracking_data)\n",
    "    worker.start()\n",
    "\n",
    "viewer = napari.view_image(IMAGE_CROP)\n",
    "viewer.window.add_dock_widget(cell_tracking)"
   ]
  },
  {
   "cell_type": "markdown",
   "id": "f159c796-e838-49e8-bc71-d6b5d7e59677",
   "metadata": {},
   "source": [
    "## Magic Factory Implementation"
   ]
  },
  {
   "cell_type": "code",
   "execution_count": 44,
   "id": "8f266775-be3e-4a28-bd2c-35510d2a48a7",
   "metadata": {},
   "outputs": [
    {
     "data": {
      "text/plain": [
       "<napari._qt.widgets.qt_viewer_dock_widget.QtViewerDockWidget at 0x7f88648e48b0>"
      ]
     },
     "execution_count": 44,
     "metadata": {},
     "output_type": "execute_result"
    },
    {
     "name": "stderr",
     "output_type": "stream",
     "text": [
      "[INFO][2025/05/11 02:05:05 ] Localizing objects from segmentation...\n",
      "WARNING: QObject::setParent: Cannot set parent, new parent is in a different thread\n",
      "[INFO][2025/05/11 02:05:05 ] Objects are of type: <class 'dict'>\n",
      "[INFO][2025/05/11 02:05:05 ] ...Found 96 objects in 10 frames.\n",
      "[INFO][2025/05/11 02:05:05 ] Loaded btrack: /home/daniel/anaconda3/envs/napari-env-2/lib/python3.11/site-packages/btrack/libs/libtracker.so\n",
      "[INFO][2025/05/11 02:05:05 ] Starting BayesianTracker session\n",
      "[INFO][2025/05/11 02:05:05 ] Loading configuration file: /home/daniel/Documents/TEACHING/Pasteur-BioImage-Analysis-Course-2025/Analyst/Day1/napari-plugin/Group Exercises/cell_config.json\n",
      "[INFO][2025/05/11 02:05:05 ] Objects are of type: <class 'list'>\n",
      "[WARNING][2025/05/11 02:05:05 ] `track_interactive` will be deprecated. Use `track` instead.\n",
      "[INFO][2025/05/11 02:05:05 ] Starting tracking... \n",
      "[INFO][2025/05/11 02:05:05 ] Update using: ['MOTION']\n",
      "[INFO][2025/05/11 02:05:05 ] Tracking objects in frames 0 to 10 (of 10)...\n",
      "[INFO][2025/05/11 02:05:05 ]  - Timing (Bayesian updates: 0.02ms, Linking: 0.02ms)\n",
      "[INFO][2025/05/11 02:05:05 ]  - Probabilities (Link: 1.00000, Lost: 0.45846)\n",
      "[INFO][2025/05/11 02:05:05 ] SUCCESS.\n",
      "[INFO][2025/05/11 02:05:05 ]  - Found 11 tracks in 10 frames (in 0.0s)\n",
      "[INFO][2025/05/11 02:05:05 ]  - Inserted 0 dummy objects to fill tracking gaps\n",
      "[INFO][2025/05/11 02:05:05 ] Ending BayesianTracker session\n"
     ]
    }
   ],
   "source": [
    "from magicgui import magic_factory\n",
    "\n",
    "def on_init(widget):\n",
    "\n",
    "    features = ['area', 'major_axis_length', 'minor_axis_length', 'orientation_', 'solidity', 'feature_header']\n",
    "\n",
    "    for x in features:\n",
    "        setattr(getattr(widget, x), 'visible', False)\n",
    "\n",
    "    def toggle_feature_visbility(select_features: bool):\n",
    "        if select_features:\n",
    "            for x in features:\n",
    "                setattr(getattr(widget, x), 'visible', True)\n",
    "        else:\n",
    "            for x in features:\n",
    "                setattr(getattr(widget, x), 'visible', False)            \n",
    "\n",
    "    widget.select_features.changed.connect(toggle_feature_visbility)\n",
    "    \n",
    "@magic_factory(\n",
    "    widget_init=on_init, layout='vertical', call_button='Track',\n",
    "    widget_header={'widget_type': 'Label',\n",
    "                   'label':  f'<h1 text-align=\"left\">Cell Tracking</h1>'},\n",
    "    image={'label': 'Input image'},\n",
    "    config_file={'label': 'config file',\n",
    "                 'widget_type': 'FileEdit',\n",
    "                 'mode': 'r',\n",
    "                 'filter': '*.json'},\n",
    "    \n",
    "    select_features={'widget_type': 'CheckBox',\n",
    "                     'label': 'Add features',\n",
    "                     'value': False},\n",
    "    feature_header={'widget_type': 'Label',\n",
    "                    'label': f'<h3 text-align=\"left\">Features</h3>'},\n",
    "    area={'widget_type': 'CheckBox',\n",
    "          'label': 'Area',\n",
    "          'value': False},\n",
    "    major_axis_length={'widget_type': 'CheckBox',\n",
    "                       'label': 'Major axis length',\n",
    "                       'value': False},\n",
    "    minor_axis_length={'widget_type': 'CheckBox',\n",
    "                       'label': 'Minor axis length',\n",
    "                       'value': False},\n",
    "    orientation_={'widget_type': 'CheckBox',\n",
    "                 'label': 'Orientation',\n",
    "                 'value': False},\n",
    "    solidity={'widget_type': 'CheckBox',\n",
    "              'label': 'Solidity',\n",
    "              'value': False})\n",
    "def cell_tracking(\n",
    "    viewer: 'napari.viewer.Viewer',\n",
    "    widget_header,\n",
    "    image: 'napari.layers.Image',\n",
    "    config_file,\n",
    "    select_features,\n",
    "    feature_header,\n",
    "    area,\n",
    "    major_axis_length,\n",
    "    minor_axis_length,\n",
    "    orientation_, \n",
    "    solidity\n",
    "):\n",
    "    from napari.qt.threading import thread_worker\n",
    "\n",
    "    features = []\n",
    "    if area:\n",
    "        features.append('area')\n",
    "    if major_axis_length:\n",
    "        features.append('major_axis_length')\n",
    "    if minor_axis_length:\n",
    "        features.append('minor_axis_length')\n",
    "    if orientation_:\n",
    "        features.append('orientation')\n",
    "    if solidity:\n",
    "        features.append('solidity')\n",
    "    \n",
    "    def _add_tracking_data(return_value):\n",
    "        mask, track_data = return_value\n",
    "        data, properties, graph = track_data\n",
    "        viewer.add_labels(mask)\n",
    "        viewer.add_tracks(data, properties=properties, graph=graph, name='Tracks')\n",
    "\n",
    "    @thread_worker(progress={\"total\":10})\n",
    "    def _cell_tracking(image, features, config_file):\n",
    "        mask = segment_cells(image.data)\n",
    "        track_data = track_cells(mask, features, config_file)\n",
    "\n",
    "        yield mask, track_data\n",
    "\n",
    "    worker = _cell_tracking(image, features, config_file)\n",
    "    worker.yielded.connect(_add_tracking_data)\n",
    "    worker.start()\n",
    "\n",
    "viewer = napari.view_image(IMAGE_CROP)\n",
    "widget = cell_tracking()\n",
    "viewer.window.add_dock_widget(widget)"
   ]
  },
  {
   "cell_type": "code",
   "execution_count": null,
   "id": "0958bc5b-1d80-4b29-b0dc-0cc8c60beeb8",
   "metadata": {},
   "outputs": [],
   "source": []
  }
 ],
 "metadata": {
  "kernelspec": {
   "display_name": "Python 3 (ipykernel)",
   "language": "python",
   "name": "python3"
  },
  "language_info": {
   "codemirror_mode": {
    "name": "ipython",
    "version": 3
   },
   "file_extension": ".py",
   "mimetype": "text/x-python",
   "name": "python",
   "nbconvert_exporter": "python",
   "pygments_lexer": "ipython3",
   "version": "3.11.12"
  }
 },
 "nbformat": 4,
 "nbformat_minor": 5
}
