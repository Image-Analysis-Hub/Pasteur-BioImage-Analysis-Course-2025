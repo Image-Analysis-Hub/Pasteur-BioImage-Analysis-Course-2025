{
 "cells": [
  {
   "cell_type": "markdown",
   "id": "25bd82a5-942f-4449-9d3e-f25966b19069",
   "metadata": {},
   "source": [
    "# Image registration plugin\n",
    "\n",
    "Create a plugin to register two images enabling users to choose from various algorithms \n",
    "1) Read in two images\n",
    "2) Select registration algorithm\n",
    "3) Warp moving image by modifying metadata of image layer\n",
    "4) Display result in napari viewer\n"
   ]
  },
  {
   "cell_type": "code",
   "execution_count": 30,
   "id": "7471da41-b6b4-4220-9480-8a049d846f12",
   "metadata": {},
   "outputs": [],
   "source": [
    "from skimage import data\n",
    "import numpy as np\n",
    "from scipy import ndimage\n",
    "\n",
    "import napari\n",
    "from magicgui import magicgui"
   ]
  },
  {
   "cell_type": "code",
   "execution_count": 31,
   "id": "f7cc964e-1ec7-4317-90a6-bb573a221452",
   "metadata": {},
   "outputs": [],
   "source": [
    "IMAGE2D = data.cells3d()[30,1]\n",
    "\n",
    "trafo_matrix = np.eye(3)\n",
    "trafo_matrix[0,2] = -22.4\n",
    "trafo_matrix[1,2] = 13.2    \n",
    "\n",
    "inv_mat = np.linalg.inv(trafo_matrix)\n",
    "IMAGE2D_offset = ndimage.affine_transform(input=IMAGE2D,\n",
    "                                          matrix=inv_mat,\n",
    "                                          output_shape=IMAGE2D.shape,\n",
    "                                          order=2)"
   ]
  },
  {
   "cell_type": "code",
   "execution_count": 32,
   "id": "e1751669-0a36-4e8b-8548-3547a1fdc28c",
   "metadata": {},
   "outputs": [
    {
     "data": {
      "text/plain": [
       "<napari._qt.widgets.qt_viewer_dock_widget.QtViewerDockWidget at 0x7f26e3452a30>"
      ]
     },
     "execution_count": 32,
     "metadata": {},
     "output_type": "execute_result"
    }
   ],
   "source": [
    "@magicgui\n",
    "def register_images(\n",
    "    fixed_image: 'napari.layers.Image', \n",
    "    moving_image: 'napari.layers.Image') -> 'napari.layers.Image':\n",
    "    \n",
    "    from skimage.registration import phase_cross_correlation \n",
    "    from napari.layers import Image\n",
    "\n",
    "    shift, __, __ = phase_cross_correlation(fixed_image.data, moving_image.data)\n",
    "\n",
    "    trafo_matrix = np.eye(3)\n",
    "    trafo_matrix[0,2] = shift[0]\n",
    "    trafo_matrix[1,2] = shift[1]\n",
    "    \n",
    "    warped_image_data = moving_image.data.copy()\n",
    "    warped_image = Image(warped_image_data)\n",
    "    warped_image.affine.affine_matrix = trafo_matrix\n",
    "    warped_image.name = moving_image.name + '_warped'\n",
    "    \n",
    "    return warped_image\n",
    "\n",
    "viewer = napari.view_image(IMAGE2D)\n",
    "viewer.add_image(IMAGE2D_wrp)\n",
    "\n",
    "viewer.window.add_dock_widget(register_images)"
   ]
  },
  {
   "cell_type": "code",
   "execution_count": null,
   "id": "c7029c28-3dd6-448a-8d06-b236d30fba26",
   "metadata": {},
   "outputs": [],
   "source": []
  }
 ],
 "metadata": {
  "kernelspec": {
   "display_name": "Python 3 (ipykernel)",
   "language": "python",
   "name": "python3"
  },
  "language_info": {
   "codemirror_mode": {
    "name": "ipython",
    "version": 3
   },
   "file_extension": ".py",
   "mimetype": "text/x-python",
   "name": "python",
   "nbconvert_exporter": "python",
   "pygments_lexer": "ipython3",
   "version": "3.13.2"
  }
 },
 "nbformat": 4,
 "nbformat_minor": 5
}
