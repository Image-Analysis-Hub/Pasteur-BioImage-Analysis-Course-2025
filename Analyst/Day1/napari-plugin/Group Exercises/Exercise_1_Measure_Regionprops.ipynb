{
 "cells": [
  {
   "cell_type": "markdown",
   "id": "22a4cbe5-82cd-440c-9034-d430f2045478",
   "metadata": {},
   "source": [
    "# Measure regionprops plugin\n",
    "\n",
    "Create a plugin to profile morphological features from cells. The plugin should enable users to:\n",
    "\n",
    "1) Read an image stack\n",
    "2) Segment cells\n",
    "3) Measure image features of each cell\n",
    "4) Store the result as a CSV file "
   ]
  },
  {
   "cell_type": "code",
   "execution_count": 2,
   "id": "4cf73c7f-01d1-43eb-b22e-07ed44a87d36",
   "metadata": {},
   "outputs": [],
   "source": [
    "from skimage import data\n",
    "from skimage.util import img_as_float\n",
    "import matplotlib.pyplot as plt\n",
    "import numpy as np\n",
    "\n",
    "import napari\n",
    "from magicgui import magicgui\n",
    "\n",
    "from napari.layers import Image\n",
    "from napari.types import LabelsData\n",
    "import pathlib"
   ]
  },
  {
   "cell_type": "markdown",
   "id": "e12a76ec-1fbd-4812-adc4-4fd5782f8346",
   "metadata": {},
   "source": [
    "## Load sample data"
   ]
  },
  {
   "cell_type": "code",
   "execution_count": 3,
   "id": "41154956-0902-4be3-a19c-7aec71bcdd75",
   "metadata": {},
   "outputs": [],
   "source": [
    "IMAGE2D = data.cells3d()[30,1]"
   ]
  },
  {
   "cell_type": "markdown",
   "id": "5330dcbb-bd03-4856-a254-21ce2c4d2926",
   "metadata": {},
   "source": [
    "## Define plugin functions"
   ]
  },
  {
   "cell_type": "code",
   "execution_count": 144,
   "id": "2bc3df11-2932-479f-964c-6acae32d56b9",
   "metadata": {},
   "outputs": [],
   "source": [
    "def segment_cells(img):\n",
    "    from cellpose import models\n",
    "    \n",
    "    model = models.CellposeModel(gpu=True)\n",
    "    img = img_as_float(img)\n",
    "    mask, __, __ = model.eval(img)\n",
    "    \n",
    "    return mask\n",
    "\n",
    "def get_properties(mask, img):\n",
    "    from skimage.measure import regionprops \n",
    "    \n",
    "    return regionprops(mask, img)\n",
    "    \n",
    "def save_props_table(props, mask, properties, path):\n",
    "    import pandas as pd\n",
    "\n",
    "    prop_list = []\n",
    "    for index in range(1, mask.max()):\n",
    "        prop_list.append([index] + [props[index][prop_name] for prop_name in properties])\n",
    "    prop_array = np.asarray(prop_list)\n",
    "    df = pd.DataFrame(prop_array, columns=['CellID'] + properties)\n",
    "    df.to_csv(path)"
   ]
  },
  {
   "cell_type": "markdown",
   "id": "ae6c6558-3768-476f-bd9f-c237b494ffac",
   "metadata": {},
   "source": [
    "## Magicgui implementation"
   ]
  },
  {
   "cell_type": "code",
   "execution_count": 154,
   "id": "f003d796-5a0c-4bd2-aa58-4fd28ada8eaa",
   "metadata": {},
   "outputs": [
    {
     "data": {
      "text/plain": [
       "<napari._qt.widgets.qt_viewer_dock_widget.QtViewerDockWidget at 0x7f4d299f5ea0>"
      ]
     },
     "execution_count": 154,
     "metadata": {},
     "output_type": "execute_result"
    }
   ],
   "source": [
    "@magicgui(path={'label': 'Path to save',\n",
    "                'widget_type': 'FileEdit',\n",
    "                'mode': 'w',\n",
    "                'filter': '*.csv'})\n",
    "def measure_regionprops(\n",
    "    img: 'napari.layers.Image', \n",
    "    area: 'bool',\n",
    "    eccentricity: 'bool',\n",
    "    perimeter: 'bool',\n",
    "    intensity_mean: 'bool',\n",
    "    path: 'pathlib.Path.home()'\n",
    "):\n",
    "\n",
    "    properties = []\n",
    "\n",
    "    if area:\n",
    "        properties.append('area')\n",
    "    if eccentricity:\n",
    "        properties.append('eccentricity')\n",
    "    if perimeter:\n",
    "        properties.append('perimeter')\n",
    "    if intensity_mean:\n",
    "        properties.append('intensity_mean')\n",
    "    \n",
    "    mask = segment_cells(img.data)\n",
    "    props = get_properties(mask, img.data)\n",
    "    save_props_table(props, mask, properties, path)\n",
    "    \n",
    "\n",
    "viewer = napari.view_image(IMAGE2D)\n",
    "viewer.window.add_dock_widget(measure_regionprops)"
   ]
  },
  {
   "cell_type": "markdown",
   "id": "97cfd1e9-a35d-4b9d-b104-a6f1411620ea",
   "metadata": {},
   "source": [
    "## Magic Factory Implementation"
   ]
  },
  {
   "cell_type": "code",
   "execution_count": 155,
   "id": "3d1f8719-d733-44cb-bb96-4b45650ab961",
   "metadata": {},
   "outputs": [
    {
     "data": {
      "text/plain": [
       "<napari._qt.widgets.qt_viewer_dock_widget.QtViewerDockWidget at 0x7f4d2085b640>"
      ]
     },
     "execution_count": 155,
     "metadata": {},
     "output_type": "execute_result"
    }
   ],
   "source": [
    "from magicgui import magic_factory   \n",
    "\n",
    "def on_init(widget):\n",
    "    properties = ['area', 'eccentricity', 'perimeter', 'intensity_mean', 'properties_header']\n",
    "\n",
    "    for x in properties:\n",
    "        setattr(getattr(widget, x), 'visible', False)\n",
    "\n",
    "    def toggle_show_properties(show_properties: bool):\n",
    "        if show_properties:\n",
    "            for x in properties:\n",
    "                setattr(getattr(widget, x), 'visible', True)  \n",
    "        else:\n",
    "            for x in properties:\n",
    "                setattr(getattr(widget, x), 'visible', False)      \n",
    "\n",
    "    widget.show_properties.changed.connect(toggle_show_properties)\n",
    "    \n",
    "@magic_factory(\n",
    "    widget_init=on_init, layout='vertical', call_button='Measure',\n",
    "    widget_header={'widget_type': 'Label',\n",
    "                   'label': f'<h1 text-align=\"left\">Measure Region Properties</h1>'},\n",
    "    img={'label': 'Input image'},\n",
    "    path={'label': 'Save as',\n",
    "          'widget_type': 'FileEdit',\n",
    "          'mode': 'r',\n",
    "          'filter': '*.csv'},\n",
    "    show_properties={'label': 'Select properties',\n",
    "                     'widget_type': 'CheckBox',\n",
    "                     'value': False},\n",
    "    properties_header={'widget_type': 'Label',\n",
    "                       'label': f'<h4 text-align=\"left\">Select Region Properties</h4>'},\n",
    "    area={'label': 'Area',\n",
    "          'widget_type': 'CheckBox',\n",
    "          'value': True},\n",
    "    eccentricity={'label': 'Eccentricity',\n",
    "                  'widget_type': 'CheckBox',\n",
    "                  'value': True},\n",
    "    perimeter={'label': 'Perimeter',\n",
    "               'widget_type': 'CheckBox',\n",
    "               'value': True},\n",
    "    intensity_mean={'label': 'Mean intensity',\n",
    "                    'widget_type': 'CheckBox',\n",
    "                    'value': True}\n",
    ")\n",
    "def measure_regionprops(\n",
    "    viewer: 'napari.viewer.Viewer',\n",
    "    widget_header,\n",
    "    img: 'napari.layers.Image',\n",
    "    path,\n",
    "    show_properties,\n",
    "    properties_header,\n",
    "    area,\n",
    "    eccentricity,\n",
    "    perimeter,\n",
    "    intensity_mean\n",
    "):\n",
    "\n",
    "    properties = []\n",
    "    \n",
    "    if area:\n",
    "        properties.append('area')\n",
    "    if eccentricity:\n",
    "        properties.append('eccentricity')\n",
    "    if perimeter:\n",
    "        properties.append('perimeter')\n",
    "    if intensity_mean:\n",
    "        properties.append('intensity_mean')\n",
    "\n",
    "    \n",
    "    mask = segment_cells(img.data)\n",
    "\n",
    "    viewer.add_labels(mask)\n",
    "    \n",
    "    props = get_properties(mask, img.data)\n",
    "    save_props_table(props, mask, properties, path)    \n",
    "    \n",
    "viewer = napari.view_image(IMAGE2D)\n",
    "widget = measure_regionprops()\n",
    "viewer.window.add_dock_widget(widget)"
   ]
  }
 ],
 "metadata": {
  "kernelspec": {
   "display_name": "Python 3 (ipykernel)",
   "language": "python",
   "name": "python3"
  },
  "language_info": {
   "codemirror_mode": {
    "name": "ipython",
    "version": 3
   },
   "file_extension": ".py",
   "mimetype": "text/x-python",
   "name": "python",
   "nbconvert_exporter": "python",
   "pygments_lexer": "ipython3",
   "version": "3.11.12"
  }
 },
 "nbformat": 4,
 "nbformat_minor": 5
}
