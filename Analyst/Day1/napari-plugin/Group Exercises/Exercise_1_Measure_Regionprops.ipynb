{
 "cells": [
  {
   "cell_type": "markdown",
   "id": "22a4cbe5-82cd-440c-9034-d430f2045478",
   "metadata": {},
   "source": [
    "# Measure regionprops plugin\n",
    "\n",
    "Create a plugin to profile morphological features from cells. The plugin should enable users to:\n",
    "\n",
    "1) Read an image stack\n",
    "2) Segment cells\n",
    "3) Measure image features of each cell\n",
    "4) Store the result as a CSV file "
   ]
  },
  {
   "cell_type": "code",
   "execution_count": 57,
   "id": "4cf73c7f-01d1-43eb-b22e-07ed44a87d36",
   "metadata": {},
   "outputs": [],
   "source": [
    "from skimage import data\n",
    "from skimage.util import img_as_float\n",
    "import matplotlib.pyplot as plt\n",
    "import numpy as np\n",
    "\n",
    "import napari\n",
    "from magicgui import magicgui\n",
    "\n",
    "from napari.layers import Image\n",
    "from napari.types import LabelsData\n",
    "import pathlib"
   ]
  },
  {
   "cell_type": "code",
   "execution_count": 58,
   "id": "41154956-0902-4be3-a19c-7aec71bcdd75",
   "metadata": {},
   "outputs": [],
   "source": [
    "IMAGE2D = data.cells3d()[30,1]"
   ]
  },
  {
   "cell_type": "code",
   "execution_count": 59,
   "id": "2bc3df11-2932-479f-964c-6acae32d56b9",
   "metadata": {},
   "outputs": [],
   "source": [
    "def segment_cells(img):\n",
    "    from cellpose import models\n",
    "    \n",
    "    model = models.CellposeModel(gpu=True)\n",
    "    img = img_as_float(img)\n",
    "    mask, __, __ = model.eval(img)\n",
    "    \n",
    "    return mask\n",
    "\n",
    "def get_properties(mask, img):\n",
    "    from skimage.measure import regionprops \n",
    "    \n",
    "    return regionprops(mask, img)\n",
    "    \n",
    "def save_props_table(props, mask, properties, path):\n",
    "    import pandas as pd\n",
    "\n",
    "    prop_list = []\n",
    "    for index in range(1, mask.max()):\n",
    "        prop_list.append([index] + [props[index][prop_name] for prop_name in properties])\n",
    "    \n",
    "    prop_array = np.vstack(prop_list)\n",
    "    \n",
    "    df = pd.DataFrame(prop_array, columns=['CellID'] + properties)\n",
    "    df.to_csv(path)"
   ]
  },
  {
   "cell_type": "code",
   "execution_count": 60,
   "id": "b7a8dcd2-ff38-4a3c-9e55-b223d139e131",
   "metadata": {},
   "outputs": [
    {
     "data": {
      "text/plain": [
       "<napari._qt.widgets.qt_viewer_dock_widget.QtViewerDockWidget at 0x7f88bdf45130>"
      ]
     },
     "execution_count": 60,
     "metadata": {},
     "output_type": "execute_result"
    }
   ],
   "source": [
    "@magicgui(path={'label': 'Path to save',\n",
    "                'widget_type': 'FileEdit',\n",
    "                'mode': 'w',\n",
    "                'filter': '*.csv'})\n",
    "def measure_regionprops(\n",
    "    img: 'napari.layers.Image', \n",
    "    area: 'bool',\n",
    "    eccentricity: 'bool',\n",
    "    perimeter: 'bool',\n",
    "    intensity_mean: 'bool',\n",
    "    path: 'pathlib.Path.home()'):\n",
    "\n",
    "    properties = []\n",
    "\n",
    "    if area:\n",
    "        properties.append('area')\n",
    "    if eccentricity:\n",
    "        properties.append('eccentricity')\n",
    "    if perimeter:\n",
    "        properties.append('perimeter')\n",
    "    if intensity_mean:\n",
    "        properties.append('intensity_mean')\n",
    "    \n",
    "    mask = segment_cells(img.data)\n",
    "    props = get_properties(mask, img.data)\n",
    "    save_props_table(props, mask, properties, path)\n",
    "    \n",
    "\n",
    "viewer = napari.view_image(IMAGE2D)\n",
    "viewer.window.add_dock_widget(measure_regionprops)"
   ]
  },
  {
   "cell_type": "code",
   "execution_count": null,
   "id": "c68b2835-719a-4b90-968b-c8bd88b473ff",
   "metadata": {},
   "outputs": [],
   "source": []
  }
 ],
 "metadata": {
  "kernelspec": {
   "display_name": "Python 3 (ipykernel)",
   "language": "python",
   "name": "python3"
  },
  "language_info": {
   "codemirror_mode": {
    "name": "ipython",
    "version": 3
   },
   "file_extension": ".py",
   "mimetype": "text/x-python",
   "name": "python",
   "nbconvert_exporter": "python",
   "pygments_lexer": "ipython3",
   "version": "3.13.2"
  }
 },
 "nbformat": 4,
 "nbformat_minor": 5
}
