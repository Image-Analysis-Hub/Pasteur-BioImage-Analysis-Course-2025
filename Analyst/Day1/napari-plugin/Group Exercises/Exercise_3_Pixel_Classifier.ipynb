{
 "cells": [
  {
   "cell_type": "markdown",
   "id": "7739f5ec-398e-48ae-a761-2bf42d6bb637",
   "metadata": {},
   "source": [
    "# Pixel classification plugin\n",
    "\n",
    "Create a plugin to interactively label and classify pixels with a random forest\n",
    "\n",
    "1) Read images\n",
    "2) Extract features from each pixel\n",
    "3) Label images in napari\n",
    "4) Train a random forest classifier\n",
    "5) Interactively display results"
   ]
  },
  {
   "cell_type": "markdown",
   "id": "074246e3-3c01-4e4d-92fd-18134620e051",
   "metadata": {},
   "source": [
    "## Primer on pixel classification \n",
    "\n",
    "For this plugin, you will rely on the `scikit-learn` package which ships various classification algorithms. Your plugin should enable users to select between different classification algorithms and also fine-tune key settings of each algorithm. \n",
    "\n",
    "At least three classification algorithms should be supported by your plugin. \n",
    "\n",
    "To achieve robust classification performance, it is advisable to provide the classification algorithms with feature vectors corresponding to each of the pixels. Here, you should use the `scikit-image` package. \n",
    "\n",
    "When training your classifier, you should keep in mind that the data will have to be reshaped.\n",
    "\n",
    "After obtaining your predicted pixel classification mask, you should show the result in the napari viewer for the user to inspect it."
   ]
  },
  {
   "cell_type": "code",
   "execution_count": 1,
   "id": "77d8864d-1874-4199-a6de-8fbedc89c471",
   "metadata": {},
   "outputs": [],
   "source": [
    "from skimage import data\n",
    "import numpy as np\n",
    "import matplotlib.pyplot as plt\n",
    "\n",
    "import napari\n",
    "from magicgui import magicgui"
   ]
  },
  {
   "cell_type": "markdown",
   "id": "ff66a20c-2835-400f-aa99-2c67aac8381b",
   "metadata": {},
   "source": [
    "## Load sample data"
   ]
  },
  {
   "cell_type": "code",
   "execution_count": 2,
   "id": "23bcf43a-7ffb-4a50-a5fe-41ca07965741",
   "metadata": {},
   "outputs": [],
   "source": [
    "IMAGE3D = data.cells3d()[:,1]"
   ]
  },
  {
   "cell_type": "markdown",
   "id": "15d6d1d6-ac8a-49b4-bd24-d23ab191ac29",
   "metadata": {},
   "source": [
    "## Define plugin functions"
   ]
  },
  {
   "cell_type": "code",
   "execution_count": 3,
   "id": "46880298-35f6-4170-8f63-247ab72ad56c",
   "metadata": {},
   "outputs": [],
   "source": [
    "def get_image_features(img):\n",
    "    from skimage import filters\n",
    "    img_blurred = filters.gaussian(img, sigma=2)\n",
    "    img_edges = filters.sobel(img_blurred)\n",
    "\n",
    "    img_features = [img.ravel(), img_blurred.ravel(), img_edges.ravel()]\n",
    "\n",
    "    return np.asarray(img_features).T\n",
    "\n",
    "def get_training_data(img_features, labels):\n",
    "    X = img_features\n",
    "    y = labels.ravel()\n",
    "\n",
    "    X = X[y > 0]\n",
    "    y = y[y > 0]\n",
    "\n",
    "    return X, y"
   ]
  },
  {
   "cell_type": "markdown",
   "id": "9216d9ca-30da-4dc0-9f54-a7b53656906c",
   "metadata": {},
   "source": [
    "## Magicgui Implementation"
   ]
  },
  {
   "cell_type": "code",
   "execution_count": 8,
   "id": "b967694f-4d4f-4d2f-a308-5ddef69186ca",
   "metadata": {},
   "outputs": [
    {
     "data": {
      "text/plain": [
       "<napari._qt.widgets.qt_viewer_dock_widget.QtViewerDockWidget at 0x7ff20fecc310>"
      ]
     },
     "execution_count": 8,
     "metadata": {},
     "output_type": "execute_result"
    }
   ],
   "source": [
    "@magicgui\n",
    "def random_forest_pixel_classifier(\n",
    "    image: 'napari.layers.Image', \n",
    "    labels: 'napari.layers.Labels'\n",
    ") -> 'napari.types.LabelsData':\n",
    "\n",
    "    from sklearn.ensemble import RandomForestClassifier\n",
    "    \n",
    "    img_features = get_image_features(image.data)\n",
    "    \n",
    "    X, y = get_training_data(img_features, labels.data)\n",
    "    \n",
    "    clf = RandomForestClassifier(max_depth=2, random_state=1)\n",
    "    clf.fit(X, y)\n",
    "\n",
    "    return clf.predict(img_features).reshape(image.data.shape)\n",
    "\n",
    "viewer = napari.view_image(IMAGE3D)\n",
    "viewer.window.add_dock_widget(random_forest_pixel_classifier)"
   ]
  },
  {
   "cell_type": "markdown",
   "id": "22ad8e70-6687-4e5e-bc63-308c139f6209",
   "metadata": {},
   "source": [
    "## Magic Factory Implementation"
   ]
  },
  {
   "cell_type": "code",
   "execution_count": 17,
   "id": "caf60cf5-101b-495b-8402-ba19ecdd8c46",
   "metadata": {},
   "outputs": [
    {
     "data": {
      "text/plain": [
       "<napari._qt.widgets.qt_viewer_dock_widget.QtViewerDockWidget at 0x7ff20c08cf70>"
      ]
     },
     "execution_count": 17,
     "metadata": {},
     "output_type": "execute_result"
    }
   ],
   "source": [
    "from magicgui import magic_factory\n",
    "\n",
    "def on_init(widget):\n",
    "    # Show different settings depending on what classifier was selected\n",
    "    rforest_settings = ['n_estimators', 'max_depth']\n",
    "    kneigh_settings = ['n_neighbors', 'metric']\n",
    "    mlp_settings = ['hidden_layer_sizes', 'activation', 'solver']\n",
    "\n",
    "    for x in rforest_settings:\n",
    "        setattr(getattr(widget, x), 'visible', True)\n",
    "    for x in kneigh_settings + mlp_settings:\n",
    "        setattr(getattr(widget, x), 'visible', False)\n",
    "\n",
    "    def toggle_classifier_settings(classifier: str):\n",
    "        if classifier == 'RandomForest':\n",
    "            for x in rforest_settings:\n",
    "                setattr(getattr(widget, x), 'visible', True)\n",
    "            for x in kneigh_settings + mlp_settings:\n",
    "                setattr(getattr(widget, x), 'visible', False)\n",
    "        \n",
    "        elif classifier == 'KNeighborsClassifier':\n",
    "            for x in kneigh_settings:\n",
    "                setattr(getattr(widget, x), 'visible', True)\n",
    "            for x in rforest_settings + mlp_settings:\n",
    "                setattr(getattr(widget, x), 'visible', False)      \n",
    "\n",
    "        elif classifier == 'MLPClassifier':\n",
    "            for x in mlp_settings:\n",
    "                setattr(getattr(widget, x), 'visible', True)\n",
    "            for x in rforest_settings + kneigh_settings:\n",
    "                setattr(getattr(widget, x), 'visible', False)                  \n",
    "\n",
    "    widget.classifier.changed.connect(toggle_classifier_settings)\n",
    "                \n",
    "@magic_factory(\n",
    "    widget_init=on_init, layout='vertical', \n",
    "    widget_header={'widget_type': 'Label',\n",
    "                   'label': f'<h1 text-align=\"left\">Pixel Classifier</h1>'},\n",
    "    image={'label': 'Input image'},\n",
    "    labels={'label': 'Labels'},\n",
    "    classifier={'label': 'Classifier',\n",
    "                'widget_type': 'ComboBox',\n",
    "                'choices': ['RandomForest', 'KNeighborsClassifier', 'MLPClassifier'],\n",
    "                'value': 'RandomForest'},\n",
    "    settings_header={'widget_type': 'Label',\n",
    "                     'label': f'<h4 text-align=\"left\">Classifier Settings</h4>'},\n",
    "    n_estimators={'widget_type': 'SpinBox',\n",
    "                  'min': 1, 'step': 1,\n",
    "                  'value': 100}, \n",
    "    max_depth={'widget_type': 'SpinBox',\n",
    "               'min': 0, 'step': 1,\n",
    "               'value': 2},\n",
    "    n_neighbors={'widget_type': 'SpinBox',\n",
    "                 'min': 1, 'step': 1,\n",
    "                 'value': 5},\n",
    "    metric={'widget_type': 'ComboBox',\n",
    "            'choices': ['euclidean', 'cosine', 'manhattan'],\n",
    "            'value': 'euclidean'},\n",
    "    hidden_layer_sizes={'widget_type': 'TupleEdit',\n",
    "                        'nullable': False,\n",
    "                        'value': (10, 10, 10)},\n",
    "    activation={'widget_type': 'ComboBox',\n",
    "                'choices': ['identity', 'logistic', 'tanh', 'relu'],\n",
    "                'value': 'relu'},\n",
    "    solver={'widget_type': 'ComboBox',\n",
    "            'choices': ['lbfgs', 'sgd', 'adam'],\n",
    "            'value': 'adam'}    \n",
    ")\n",
    "def pixel_classifier(\n",
    "    viewer: 'napari.viewer.Viewer',\n",
    "    widget_header,\n",
    "    image: 'napari.layers.Image',\n",
    "    labels: 'napari.layers.Labels',\n",
    "    classifier,\n",
    "    settings_header,\n",
    "    n_estimators,\n",
    "    max_depth,\n",
    "    n_neighbors,\n",
    "    metric,\n",
    "    hidden_layer_sizes,\n",
    "    activation,\n",
    "    solver\n",
    "):\n",
    "    from sklearn.ensemble import RandomForestClassifier\n",
    "    from sklearn.neural_network import MLPClassifier\n",
    "    from sklearn.neighbors import KNeighborsClassifier\n",
    "\n",
    "    img_features = get_image_features(image.data)\n",
    "    \n",
    "    X, y = get_training_data(img_features, labels.data)\n",
    "\n",
    "    if classifier == 'RandomForest':\n",
    "        clf = RandomForestClassifier(n_estimators=n_estimators, max_depth=max_depth, random_state=1)\n",
    "    elif classifier == 'KNeighborsClassifier':\n",
    "        clf = KNeighborsClassifier(n_neighbors=n_neighbors, metric=metric)\n",
    "    elif classifier == 'MLPClassifier':\n",
    "        clf = MLPClassifier(hidden_layer_sizes=hidden_layer_sizes, activation=activation, solver=solver)\n",
    "    \n",
    "    clf.fit(X, y)\n",
    "\n",
    "    clf_preds = clf.predict(img_features).reshape(image.data.shape)\n",
    "\n",
    "    viewer.add_labels(clf_preds, name=f'{classifier}_predictions')\n",
    "\n",
    "viewer = napari.view_image(IMAGE3D)\n",
    "widget = pixel_classifier()\n",
    "viewer.window.add_dock_widget(widget)"
   ]
  }
 ],
 "metadata": {
  "kernelspec": {
   "display_name": "Python 3 (ipykernel)",
   "language": "python",
   "name": "python3"
  },
  "language_info": {
   "codemirror_mode": {
    "name": "ipython",
    "version": 3
   },
   "file_extension": ".py",
   "mimetype": "text/x-python",
   "name": "python",
   "nbconvert_exporter": "python",
   "pygments_lexer": "ipython3",
   "version": "3.11.12"
  }
 },
 "nbformat": 4,
 "nbformat_minor": 5
}
