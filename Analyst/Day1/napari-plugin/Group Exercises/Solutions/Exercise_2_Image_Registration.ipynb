{
 "cells": [
  {
   "cell_type": "markdown",
   "id": "25bd82a5-942f-4449-9d3e-f25966b19069",
   "metadata": {},
   "source": [
    "# Image registration plugin\n",
    "\n",
    "Create a plugin to register two images enabling users to choose from various algorithms \n",
    "1) Read in two images\n",
    "2) Select registration algorithm\n",
    "3) Warp moving image by modifying metadata of image layer\n",
    "4) Display result in napari viewer\n"
   ]
  },
  {
   "cell_type": "code",
   "execution_count": 1,
   "id": "7471da41-b6b4-4220-9480-8a049d846f12",
   "metadata": {},
   "outputs": [],
   "source": [
    "from skimage import data\n",
    "import numpy as np\n",
    "from scipy import ndimage\n",
    "\n",
    "import napari\n",
    "from magicgui import magicgui"
   ]
  },
  {
   "cell_type": "markdown",
   "id": "0e8a7a0e-c566-4e21-89aa-2b51d95694af",
   "metadata": {},
   "source": [
    "## Load sample data"
   ]
  },
  {
   "cell_type": "code",
   "execution_count": 2,
   "id": "f7cc964e-1ec7-4317-90a6-bb573a221452",
   "metadata": {},
   "outputs": [],
   "source": [
    "IMAGE2D = data.cells3d()[30,1]\n",
    "\n",
    "trafo_matrix = np.eye(3)\n",
    "trafo_matrix[0,2] = -22.4\n",
    "trafo_matrix[1,2] = 13.2    \n",
    "\n",
    "inv_mat = np.linalg.inv(trafo_matrix)\n",
    "IMAGE2D_offset = ndimage.affine_transform(input=IMAGE2D,\n",
    "                                          matrix=inv_mat,\n",
    "                                          output_shape=IMAGE2D.shape,\n",
    "                                          order=2)"
   ]
  },
  {
   "cell_type": "markdown",
   "id": "67204e8a-191c-4ad3-a2a5-c6f3f5124673",
   "metadata": {},
   "source": [
    "## Magicgui Implementation"
   ]
  },
  {
   "cell_type": "code",
   "execution_count": 9,
   "id": "e1751669-0a36-4e8b-8548-3547a1fdc28c",
   "metadata": {},
   "outputs": [
    {
     "data": {
      "text/plain": [
       "<napari._qt.widgets.qt_viewer_dock_widget.QtViewerDockWidget at 0x7f1649332f80>"
      ]
     },
     "execution_count": 9,
     "metadata": {},
     "output_type": "execute_result"
    }
   ],
   "source": [
    "@magicgui\n",
    "def register_images(\n",
    "    fixed_image: 'napari.layers.Image', \n",
    "    moving_image: 'napari.layers.Image'\n",
    ") -> 'napari.layers.Image':\n",
    "    \n",
    "    from skimage.registration import phase_cross_correlation \n",
    "    from napari.layers import Image\n",
    "\n",
    "    shift, __, __ = phase_cross_correlation(fixed_image.data, moving_image.data)\n",
    "\n",
    "    trafo_matrix = np.eye(3)\n",
    "    trafo_matrix[0,2] = shift[0]\n",
    "    trafo_matrix[1,2] = shift[1]\n",
    "    \n",
    "    warped_image_data = moving_image.data.copy()\n",
    "    warped_image = Image(warped_image_data)\n",
    "    warped_image.affine.affine_matrix = trafo_matrix\n",
    "    warped_image.name = moving_image.name + '_warped'\n",
    "    \n",
    "    return warped_image\n",
    "\n",
    "viewer = napari.view_image(IMAGE2D)\n",
    "viewer.add_image(IMAGE2D_offset)\n",
    "\n",
    "viewer.window.add_dock_widget(register_images)"
   ]
  },
  {
   "cell_type": "markdown",
   "id": "226391e9-0b9a-4a61-b594-9e25acb48170",
   "metadata": {},
   "source": [
    "## Magic Factory Implementation"
   ]
  },
  {
   "cell_type": "code",
   "execution_count": 45,
   "id": "2c8f4d38-9563-4652-adec-2aa57818d2cc",
   "metadata": {},
   "outputs": [
    {
     "data": {
      "text/plain": [
       "<napari._qt.widgets.qt_viewer_dock_widget.QtViewerDockWidget at 0x7f158fb19360>"
      ]
     },
     "execution_count": 45,
     "metadata": {},
     "output_type": "execute_result"
    }
   ],
   "source": [
    "from magicgui import magic_factory   \n",
    "\n",
    "@magic_factory(\n",
    "    layout='vertical', call_button='Register',\n",
    "    widget_header={'widget_type': 'Label',\n",
    "                   'label': f'<h1 text-align=\"left\">Register Images</h1>'},\n",
    "    fixed_image={'label': 'Fixed image'},\n",
    "    moving_image={'label': 'Moving image'},\n",
    "    registration_method={'label': 'Method',\n",
    "                         'widget_type': 'ComboBox',\n",
    "                         'choices': ['Phase correlation', 'Optical flow'],\n",
    "                         'value': 'Phase correlation'},\n",
    ")\n",
    "def register_images(\n",
    "    viewer: 'napari.viewer.Viewer',\n",
    "    widget_header,\n",
    "    fixed_image: 'napari.layers.Image',\n",
    "    moving_image: 'napari.layers.Image',\n",
    "    registration_method\n",
    "):\n",
    "    from skimage.registration import phase_cross_correlation, optical_flow_tvl1\n",
    "    from skimage.color import rgb2gray\n",
    "    from skimage.transform import warp\n",
    "    from napari.layers import Image\n",
    "\n",
    "    if registration_method == 'Phase correlation':\n",
    "        shift, __, __ = phase_cross_correlation(fixed_image.data, moving_image.data)\n",
    "    \n",
    "        trafo_matrix = np.eye(3)\n",
    "        trafo_matrix[0,2] = shift[0]\n",
    "        trafo_matrix[1,2] = shift[1]\n",
    "        \n",
    "        warped_image_data = moving_image.data.copy()\n",
    "        warped_image = Image(warped_image_data)\n",
    "        warped_image.affine.affine_matrix = trafo_matrix\n",
    "        warped_image.name = moving_image.name + '_warped'\n",
    "    \n",
    "        viewer.add_layer(warped_image)\n",
    "        \n",
    "    elif registration_method == 'Optical flow':\n",
    "        moving = moving_image.data\n",
    "        fixed = fixed_image.data\n",
    "        \n",
    "        v, u = optical_flow_tvl1(fixed, moving)\n",
    "        h, w = fixed.shape\n",
    "        row_coords, col_coords = np.meshgrid(np.arange(h), np.arange(w), indexing='ij')\n",
    "        moving_warped = warp(moving, np.array([row_coords + v, col_coords + u]), mode='edge')\n",
    "        \n",
    "        warped_image = Image(moving_warped)\n",
    "        warped_image.name = moving_image.name + '_warped'\n",
    "\n",
    "        vector_list = []\n",
    "        for i, (v_, u_, r_, c_) in enumerate(zip(v.ravel(), u.ravel(), row_coords.ravel(), col_coords.ravel())):\n",
    "            if i % 100 == 0:\n",
    "                vector_list.append([[r_, c_], [-v_, -u_]])\n",
    "\n",
    "        optical_flow_vectors = np.asarray(vector_list)\n",
    "        viewer.add_layer(warped_image)\n",
    "        viewer.add_vectors(optical_flow_vectors, name='Optical flow', vector_style='arrow', length=0.25)\n",
    "        \n",
    "viewer = napari.view_image(IMAGE2D)\n",
    "viewer.add_image(IMAGE2D_offset)\n",
    "widget = register_images()\n",
    "viewer.window.add_dock_widget(widget)"
   ]
  }
 ],
 "metadata": {
  "kernelspec": {
   "display_name": "Python 3 (ipykernel)",
   "language": "python",
   "name": "python3"
  },
  "language_info": {
   "codemirror_mode": {
    "name": "ipython",
    "version": 3
   },
   "file_extension": ".py",
   "mimetype": "text/x-python",
   "name": "python",
   "nbconvert_exporter": "python",
   "pygments_lexer": "ipython3",
   "version": "3.11.12"
  }
 },
 "nbformat": 4,
 "nbformat_minor": 5
}
