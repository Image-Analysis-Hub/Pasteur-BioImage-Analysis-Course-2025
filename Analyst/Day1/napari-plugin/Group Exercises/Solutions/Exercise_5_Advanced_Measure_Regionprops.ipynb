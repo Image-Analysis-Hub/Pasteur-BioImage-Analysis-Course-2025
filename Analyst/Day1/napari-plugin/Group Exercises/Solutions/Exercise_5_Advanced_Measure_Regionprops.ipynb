{
 "cells": [
  {
   "cell_type": "markdown",
   "id": "1dcc98db-d836-4e30-b2fe-e03c666fbb78",
   "metadata": {},
   "source": [
    "# Advanced Measure Region Properties plugin\n",
    "\n",
    "Create a plugin that measures region properties and display results as a table. Use QtPy to implement this plugin.\n",
    "\n",
    "1) Load data\n",
    "2) Segment cells\n",
    "3) Measure properties\n",
    "4) Display measured properties in a table\n",
    "5) Optional: Show a UMAP plot of the measured properties"
   ]
  },
  {
   "cell_type": "markdown",
   "id": "49f0d6c1-3e05-432d-9930-0ee6f9652743",
   "metadata": {},
   "source": [
    "## Primer\n",
    "\n",
    "Measuring properties of cells is an important task to identify sub-populations of cells.\n",
    "\n",
    "There are a number of QtPy widgets that will come in handy. "
   ]
  },
  {
   "cell_type": "code",
   "execution_count": 1,
   "id": "9b36cbf0-9742-4604-9d8d-ec3bac214a5d",
   "metadata": {},
   "outputs": [],
   "source": [
    "from skimage import data\n",
    "from skimage.util import img_as_float\n",
    "import matplotlib.pyplot as plt\n",
    "import numpy as np\n",
    "\n",
    "import napari\n",
    "from magicgui import magicgui\n",
    "\n",
    "from napari.layers import Image\n",
    "from napari.types import LabelsData\n",
    "import pathlib"
   ]
  },
  {
   "cell_type": "markdown",
   "id": "167ba1ba-42f5-46a4-aa69-2d562921d39c",
   "metadata": {},
   "source": [
    "## Load sample data"
   ]
  },
  {
   "cell_type": "code",
   "execution_count": 4,
   "id": "cf22e936-3ae9-444b-962c-2e9cbdd6b2a7",
   "metadata": {},
   "outputs": [],
   "source": [
    "IMAGE2D = data.cells3d()[30,1]"
   ]
  },
  {
   "cell_type": "markdown",
   "id": "817bebbe-c26b-42eb-9495-f9addc18c00f",
   "metadata": {},
   "source": [
    "## Define plugin functions"
   ]
  },
  {
   "cell_type": "code",
   "execution_count": 6,
   "id": "957ad7dd-1e50-47ee-8692-1723676d3d37",
   "metadata": {},
   "outputs": [],
   "source": [
    "def segment_cells(img):\n",
    "    from cellpose import models\n",
    "    \n",
    "    model = models.CellposeModel(gpu=True)\n",
    "    img = img_as_float(img)\n",
    "    mask, __, __ = model.eval(img)\n",
    "    \n",
    "    return mask\n",
    "\n",
    "def get_properties(mask, img):\n",
    "    from skimage.measure import regionprops \n",
    "    \n",
    "    return regionprops(mask, img)\n",
    "    \n",
    "def save_props_table(props, mask, properties, path):\n",
    "    import pandas as pd\n",
    "\n",
    "    prop_list = []\n",
    "    for index in range(1, mask.max()):\n",
    "        prop_list.append([index] + [props[index][prop_name] for prop_name in properties])\n",
    "    prop_array = np.asarray(prop_list)\n",
    "    df = pd.DataFrame(prop_array, columns=['CellID'] + properties)\n",
    "    df.to_csv(path)"
   ]
  },
  {
   "cell_type": "markdown",
   "id": "0f5da05d-301b-4d69-894d-15c5db2a1a45",
   "metadata": {},
   "source": [
    "## QtPy Implementation"
   ]
  },
  {
   "cell_type": "code",
   "execution_count": 7,
   "id": "2189b8cd-f30a-4d1c-adcd-eb10152fe348",
   "metadata": {},
   "outputs": [
    {
     "name": "stdout",
     "output_type": "stream",
     "text": [
      "napari.Viewer: napari\n"
     ]
    },
    {
     "data": {
      "text/plain": [
       "<napari._qt.widgets.qt_viewer_dock_widget.QtViewerDockWidget at 0x7eff90d239a0>"
      ]
     },
     "execution_count": 7,
     "metadata": {},
     "output_type": "execute_result"
    },
    {
     "name": "stdout",
     "output_type": "stream",
     "text": [
      "\n",
      "\n",
      "Welcome to CellposeSAM, cellpose v4.0.1! The neural network component of\n",
      "CPSAM is much larger than in previous versions and CPU excution is slow. \n",
      "We encourage users to use GPU/MPS if available. \n",
      "\n",
      "\n"
     ]
    }
   ],
   "source": [
    "from qtpy.QtWidgets import (QWidget, QTabWidget, QTableWidget, QLabel,\n",
    "                            QAbstractItemView, QVBoxLayout, QHBoxLayout,\n",
    "                            QCheckBox, QScrollArea, QFileDialog, QPushButton,\n",
    "                            QLineEdit, QComboBox, QTableWidgetItem)\n",
    "\n",
    "class MeasureRegionprops(QWidget):\n",
    "    def __init__(self, napari_viewer='napari.viewer.Viewer'):\n",
    "        super().__init__()\n",
    "        self.viewer = napari_viewer\n",
    "        print(self.viewer)\n",
    "        self.setLayout(QVBoxLayout())\n",
    "\n",
    "        # Create tab widget\n",
    "        main_tab = QTabWidget()\n",
    "        main_tab.setLayout(QVBoxLayout())\n",
    "        \n",
    "        # Create main widget for user settings\n",
    "        main_widget = QWidget()\n",
    "        main_widget.setLayout(QVBoxLayout())\n",
    "        main_widget.setFixedHeight(200)\n",
    "\n",
    "        # Select image layer\n",
    "        layer_widget = QWidget()\n",
    "        layer_widget.setLayout(QHBoxLayout())\n",
    "        layer_label = QLabel('Select image')\n",
    "        self._image_layers = QComboBox(self)        \n",
    "        layer_widget.layout().addWidget(layer_label)\n",
    "        layer_widget.layout().addWidget(self._image_layers)\n",
    "        main_widget.layout().addWidget(layer_widget)\n",
    "\n",
    "        # Select path to save results\n",
    "        path_widget = QWidget()\n",
    "        path_widget.setLayout(QHBoxLayout())\n",
    "        self.path_line_edit = QLineEdit('')\n",
    "        path_btn = QPushButton('Save as...')\n",
    "        path_btn.clicked.connect(self._select_path)        \n",
    "        path_widget.layout().addWidget(self.path_line_edit)\n",
    "        path_widget.layout().addWidget(path_btn)\n",
    "        main_widget.layout().addWidget(path_widget)\n",
    "        \n",
    "        # Run plugin\n",
    "        run_btn = QPushButton('Measure')\n",
    "        run_btn.clicked.connect(self._measure_regionprops)\n",
    "        main_widget.layout().addWidget(run_btn)\n",
    "        \n",
    "        main_tab.addTab(main_widget, 'Main')\n",
    "        \n",
    "        # List all properties that can be measured\n",
    "        prop_widget = QWidget()\n",
    "        prop_widget.setLayout(QVBoxLayout())\n",
    "        all_props = self._get_all_region_properties()\n",
    "        self.widget_dict = dict()\n",
    "        for prop in all_props:\n",
    "            widget_ = QWidget()\n",
    "            widget_.setLayout(QHBoxLayout())\n",
    "            self.widget_dict[prop] = QCheckBox()\n",
    "            self.widget_dict[prop].setChecked(True)\n",
    "            qlabel_ = QLabel(prop)\n",
    "            widget_.layout().addWidget(qlabel_)\n",
    "            widget_.layout().addWidget(self.widget_dict[prop])\n",
    "            prop_widget.layout().addWidget(widget_)\n",
    "\n",
    "        # Make the widget scrollable\n",
    "        scroll = QScrollArea()\n",
    "        scroll.setWidget(prop_widget)\n",
    "        main_tab.addTab(scroll, 'Properties')\n",
    "\n",
    "        # Create widget to display results in a table\n",
    "        self.table = QTableWidget(self)\n",
    "        self.table.setEditTriggers(QAbstractItemView.NoEditTriggers)\n",
    "        \n",
    "        # Widget to select region properties from drop down menu to add to list that extends\n",
    "        main_tab.addTab(self.table, 'Table')\n",
    "        self.layout().addWidget(main_tab)\n",
    "\n",
    "        self._update_combo_box()\n",
    "\n",
    "    def _select_path(self):\n",
    "        self.path = QFileDialog().getOpenFileName(self, \"Save as...\", \".\", \"CSV file (*.csv)\")[0]\n",
    "        self.path_line_edit.setText(self.path)\n",
    "\n",
    "    def _measure_regionprops(self):\n",
    "        all_props = self._get_all_region_properties()\n",
    "\n",
    "        properties = []\n",
    "        for prop in all_props:\n",
    "            if self.widget_dict[prop].isChecked():\n",
    "                properties.append(prop)\n",
    "                \n",
    "        img = self._get_selected_image_layer()\n",
    "        \n",
    "        mask = segment_cells(img.data)\n",
    "        self.viewer.add_labels(mask)\n",
    "        props = get_properties(mask, img.data)\n",
    "        save_props_table(props, mask, properties, self.path)    \n",
    "\n",
    "        props_list, props_names = self._make_props_table(props, mask, properties)\n",
    "\n",
    "        self._update_table(props_list, props_names)\n",
    "\n",
    "    def _update_combo_box(self):\n",
    "        for layer_name in [self._image_layers.itemText(i) for i in range(self._image_layers.count())]:\n",
    "            layer_name_index = self._image_layers.findText(layer_name)\n",
    "            self._image_layers.removeItem(layer_name_index)\n",
    "\n",
    "        for layer in [l for l in self.viewer.layers if isinstance(l, napari.layers.Image)]:\n",
    "            if layer.name not in [self._image_layers.itemText(i) for i in range(self._image_layers.count())]:\n",
    "                self._image_layers.addItem(layer.name)\n",
    "\n",
    "    def _get_selected_image_layer(self):\n",
    "        return self.viewer.layers[self._image_layers.currentText()]\n",
    "    \n",
    "    def _get_all_region_properties(self):\n",
    "        from skimage.measure import regionprops, label\n",
    "        image_ = np.random.rand(10,10)\n",
    "        mask_ = label(image_ > 0.5)\n",
    "        props = regionprops(mask_, image_)\n",
    "\n",
    "        all_props = []\n",
    "        for prop in props[0]:\n",
    "            if isinstance(props[0][prop], int) or isinstance(props[0][prop], float):\n",
    "                all_props.append(prop)\n",
    "\n",
    "        return all_props\n",
    "\n",
    "    def _make_props_table(self, props, mask, properties):\n",
    "        prop_list = []\n",
    "        for index in range(1, mask.max()):\n",
    "            prop_list.append([index] + [props[index][prop_name] for prop_name in properties])\n",
    "\n",
    "        return prop_list, ['CellID'] + properties\n",
    "\n",
    "    def _update_table(self, props_list, props_names):\n",
    "        self.table.setColumnCount(len(props_names))\n",
    "\n",
    "        for row, props in enumerate(props_list):\n",
    "            self.table.insertRow(self.table.rowCount())\n",
    "            for col, prop in enumerate(props):\n",
    "                self.table.setItem(self.table.rowCount()-1, col, QTableWidgetItem(str(prop)))\n",
    "        self.table.setHorizontalHeaderLabels(props_names)\n",
    "\n",
    "viewer = napari.view_image(IMAGE2D)\n",
    "widget = MeasureRegionprops(napari_viewer=viewer)\n",
    "viewer.window.add_dock_widget(widget)"
   ]
  }
 ],
 "metadata": {
  "kernelspec": {
   "display_name": "Python 3 (ipykernel)",
   "language": "python",
   "name": "python3"
  },
  "language_info": {
   "codemirror_mode": {
    "name": "ipython",
    "version": 3
   },
   "file_extension": ".py",
   "mimetype": "text/x-python",
   "name": "python",
   "nbconvert_exporter": "python",
   "pygments_lexer": "ipython3",
   "version": "3.11.12"
  }
 },
 "nbformat": 4,
 "nbformat_minor": 5
}
