{
 "cells": [
  {
   "cell_type": "markdown",
   "id": "7739f5ec-398e-48ae-a761-2bf42d6bb637",
   "metadata": {},
   "source": [
    "# Pixel classification with Random Forest plugin\n",
    "\n",
    "Create a plugin to interactively label and classify pixels with a random forest\n",
    "\n",
    "1) Read images\n",
    "2) Extract features from each pixel\n",
    "3) Label images in napari\n",
    "4) Train a random forest classifier\n",
    "5) Interactively display results"
   ]
  },
  {
   "cell_type": "code",
   "execution_count": 5,
   "id": "77d8864d-1874-4199-a6de-8fbedc89c471",
   "metadata": {},
   "outputs": [],
   "source": [
    "from skimage import data\n",
    "import numpy as np\n",
    "import matplotlib.pyplot as plt\n",
    "\n",
    "import napari\n",
    "from magicgui import magicgui"
   ]
  },
  {
   "cell_type": "code",
   "execution_count": 6,
   "id": "23bcf43a-7ffb-4a50-a5fe-41ca07965741",
   "metadata": {},
   "outputs": [],
   "source": [
    "IMAGE3D = data.cells3d()[:,1]"
   ]
  },
  {
   "cell_type": "code",
   "execution_count": 7,
   "id": "46880298-35f6-4170-8f63-247ab72ad56c",
   "metadata": {},
   "outputs": [],
   "source": [
    "def get_image_features(img):\n",
    "    from skimage import filters\n",
    "    img_blurred = filters.gaussian(img, sigma=2)\n",
    "    img_edges = filters.sobel(img_blurred)\n",
    "\n",
    "    img_features = [img.ravel(), img_blurred.ravel(), img_edges.ravel()]\n",
    "\n",
    "    return np.asarray(img_features).T\n",
    "\n",
    "def get_training_data(img_features, labels):\n",
    "    X = img_features\n",
    "    y = labels.ravel()\n",
    "\n",
    "    X = X[y > 0]\n",
    "    y = y[y > 0]\n",
    "\n",
    "    return X, y"
   ]
  },
  {
   "cell_type": "code",
   "execution_count": 8,
   "id": "b967694f-4d4f-4d2f-a308-5ddef69186ca",
   "metadata": {},
   "outputs": [
    {
     "data": {
      "text/plain": [
       "<napari._qt.widgets.qt_viewer_dock_widget.QtViewerDockWidget at 0x7f5ebd648eb0>"
      ]
     },
     "execution_count": 8,
     "metadata": {},
     "output_type": "execute_result"
    }
   ],
   "source": [
    "@magicgui\n",
    "def random_forest_pixel_classifier(\n",
    "    image: 'napari.layers.Image', \n",
    "    labels: 'napari.layers.Labels') -> 'napari.types.LabelsData':\n",
    "\n",
    "    from sklearn.ensemble import RandomForestClassifier\n",
    "    \n",
    "    img_features = get_image_features(image.data)\n",
    "    \n",
    "    X, y = get_training_data(img_features, labels.data)\n",
    "    \n",
    "    clf = RandomForestClassifier(max_depth=2, random_state=1)\n",
    "    clf.fit(X, y)\n",
    "\n",
    "    return clf.predict(img_features).reshape(image.data.shape)\n",
    "\n",
    "viewer = napari.view_image(IMAGE3D)\n",
    "viewer.window.add_dock_widget(random_forest_pixel_classifier)"
   ]
  },
  {
   "cell_type": "code",
   "execution_count": null,
   "id": "43bceef8-bf2d-4c61-8d73-1a6d09c4534a",
   "metadata": {},
   "outputs": [],
   "source": []
  }
 ],
 "metadata": {
  "kernelspec": {
   "display_name": "Python 3 (ipykernel)",
   "language": "python",
   "name": "python3"
  },
  "language_info": {
   "codemirror_mode": {
    "name": "ipython",
    "version": 3
   },
   "file_extension": ".py",
   "mimetype": "text/x-python",
   "name": "python",
   "nbconvert_exporter": "python",
   "pygments_lexer": "ipython3",
   "version": "3.13.2"
  }
 },
 "nbformat": 4,
 "nbformat_minor": 5
}
