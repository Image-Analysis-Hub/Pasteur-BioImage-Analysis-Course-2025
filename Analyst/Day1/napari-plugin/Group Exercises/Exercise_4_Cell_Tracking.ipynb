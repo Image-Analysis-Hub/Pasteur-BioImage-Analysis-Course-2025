{
 "cells": [
  {
   "cell_type": "markdown",
   "id": "2fae47ac-bad0-4404-a3bc-3635f84c8cb0",
   "metadata": {},
   "source": [
    "# Cell tracking plugin \n",
    "\n",
    "Create a plugin to track cells \n",
    "\n",
    "1) Select image\n",
    "2) Segment cells\n",
    "3) Compute tracks\n",
    "4) Display tracks interactively"
   ]
  },
  {
   "cell_type": "code",
   "execution_count": 1,
   "id": "f66d35a6-7edd-4fcd-8eb2-5612b3a0d0b9",
   "metadata": {},
   "outputs": [],
   "source": [
    "from skimage.io import imread\n",
    "import numpy as np\n",
    "\n"
   ]
  },
  {
   "cell_type": "code",
   "execution_count": 2,
   "id": "5ed24dc7-08c4-437b-a6d0-aa78ca6b2318",
   "metadata": {},
   "outputs": [],
   "source": [
    "IMAGE = imread('https://zenodo.org/records/5206107/files/P31-crop.tif?download=1')\n",
    "IMAGE_CROP = IMAGE[10:20,-100:,-100:]"
   ]
  },
  {
   "cell_type": "code",
   "execution_count": 3,
   "id": "2b348e7d-9385-4103-99ff-d5c05f3db0e3",
   "metadata": {},
   "outputs": [],
   "source": [
    "def segment_cells(images):\n",
    "    from cellpose import models\n",
    "    from skimage.util import img_as_float\n",
    "    \n",
    "    masks = []\n",
    "    for image in images:\n",
    "        model = models.CellposeModel(gpu=True)\n",
    "        img = img_as_float(image)\n",
    "        mask, __, __ = model.eval(image)\n",
    "        masks.append(mask)\n",
    "        \n",
    "    return np.stack(masks)"
   ]
  },
  {
   "cell_type": "code",
   "execution_count": 4,
   "id": "69573cf0-6161-4557-b19d-52b6915942df",
   "metadata": {
    "scrolled": true
   },
   "outputs": [
    {
     "name": "stdout",
     "output_type": "stream",
     "text": [
      "\n",
      "\n",
      "Welcome to CellposeSAM, cellpose v4.0.1! The neural network component of\n",
      "CPSAM is much larger than in previous versions and CPU excution is slow. \n",
      "We encourage users to use GPU/MPS if available. \n",
      "\n",
      "\n"
     ]
    }
   ],
   "source": [
    "masks = segment_cells(IMAGE_CROP)"
   ]
  },
  {
   "cell_type": "code",
   "execution_count": 5,
   "id": "37077922-0ff0-4cdf-8fc0-111574552fee",
   "metadata": {},
   "outputs": [],
   "source": [
    "label_image = masks"
   ]
  },
  {
   "cell_type": "code",
   "execution_count": 6,
   "id": "f002258f-9d5a-4d0b-9045-46087ad91792",
   "metadata": {},
   "outputs": [
    {
     "data": {
      "text/plain": [
       "(10, 100, 100)"
      ]
     },
     "execution_count": 6,
     "metadata": {},
     "output_type": "execute_result"
    }
   ],
   "source": [
    "label_image.shape"
   ]
  },
  {
   "cell_type": "code",
   "execution_count": 7,
   "id": "10a0ed40-cb25-4556-9f1f-2c0f237d1a35",
   "metadata": {},
   "outputs": [
    {
     "data": {
      "text/plain": [
       "(86, 490, 1024)"
      ]
     },
     "execution_count": 7,
     "metadata": {},
     "output_type": "execute_result"
    }
   ],
   "source": [
    "IMAGE.shape"
   ]
  },
  {
   "cell_type": "code",
   "execution_count": 11,
   "id": "9d3563cc-7cec-4019-af1b-09c4a413c6e2",
   "metadata": {
    "scrolled": true
   },
   "outputs": [
    {
     "name": "stderr",
     "output_type": "stream",
     "text": [
      "[INFO][2025/05/09 05:54:08 PM] Localizing objects from segmentation...\n",
      "100%|██████████████████████████████████████████| 10/10 [00:00<00:00, 589.72it/s]\n",
      "[INFO][2025/05/09 05:54:08 PM] Objects are of type: <class 'dict'>\n",
      "[INFO][2025/05/09 05:54:08 PM] ...Found 96 objects in 10 frames.\n"
     ]
    }
   ],
   "source": [
    "import btrack\n",
    "objects = btrack.utils.segmentation_to_objects(label_image)"
   ]
  },
  {
   "cell_type": "code",
   "execution_count": 31,
   "id": "589eeadb-8f73-4f1a-8e80-80a8d6e598d8",
   "metadata": {},
   "outputs": [
    {
     "data": {
      "text/plain": [
       "'/home/daniel/.cache/btrack-examples/examples/cell_config.json'"
      ]
     },
     "execution_count": 31,
     "metadata": {},
     "output_type": "execute_result"
    }
   ],
   "source": [
    "from btrack import datasets\n",
    "config_file = datasets.cell_config()\n",
    "config_file"
   ]
  },
  {
   "cell_type": "code",
   "execution_count": 32,
   "id": "79c1ca7c-c52e-4b7d-a3f4-0e444152a5ce",
   "metadata": {
    "collapsed": true,
    "jupyter": {
     "outputs_hidden": true,
     "source_hidden": true
    }
   },
   "outputs": [
    {
     "name": "stderr",
     "output_type": "stream",
     "text": [
      "[INFO][2025/05/09 05:38:02 PM] Loaded btrack: /home/daniel/anaconda3/envs/napari-env/lib/python3.13/site-packages/btrack/libs/libtracker.so\n",
      "[INFO][2025/05/09 05:38:02 PM] Starting BayesianTracker session\n",
      "[INFO][2025/05/09 05:38:02 PM] Loading configuration file: /home/daniel/.cache/btrack-examples/examples/cell_config.json\n",
      "[INFO][2025/05/09 05:38:02 PM] Objects are of type: <class 'list'>\n",
      "[WARNING][2025/05/09 05:38:02 PM] `track_interactive` will be deprecated. Use `track` instead.\n",
      "[INFO][2025/05/09 05:38:02 PM] Starting tracking... \n",
      "[INFO][2025/05/09 05:38:02 PM] Update using: ['MOTION']\n",
      "[INFO][2025/05/09 05:38:02 PM] Tracking objects in frames 0 to 86 (of 86)...\n",
      "[INFO][2025/05/09 05:38:02 PM]  - Timing (Bayesian updates: 0.43ms, Linking: 0.16ms)\n",
      "[INFO][2025/05/09 05:38:02 PM]  - Probabilities (Link: 0.99902, Lost: 0.98133)\n",
      "[INFO][2025/05/09 05:38:02 PM] SUCCESS.\n",
      "[INFO][2025/05/09 05:38:02 PM]  - Found 22481 tracks in 86 frames (in 0.0s)\n",
      "[INFO][2025/05/09 05:38:02 PM]  - Inserted 0 dummy objects to fill tracking gaps\n",
      "[INFO][2025/05/09 05:38:03 PM] Ending BayesianTracker session\n"
     ]
    }
   ],
   "source": [
    "with btrack.BayesianTracker() as tracker:\n",
    "\n",
    "  # configure the tracker using a preconfigured config file\n",
    "  tracker.configure(config_file)\n",
    "\n",
    "  # append the objects to be tracked\n",
    "  tracker.append(objects)\n",
    "    \n",
    "  # set the volume\n",
    "  tracker.volume = ((0, 130), (0, 130)) # if the dataset has multiple z-dimensions, we need an additional bracket\n",
    "\n",
    "  # track\n",
    "  tracker.track_interactive(step_size=100)\n",
    "\n",
    "  # get the tracks in a format for napari visualization\n",
    "  data, properties, graph = tracker.to_napari(ndim=2)"
   ]
  },
  {
   "cell_type": "code",
   "execution_count": 10,
   "id": "5e3958df-8240-4a1c-9b88-35b93b0f78d5",
   "metadata": {
    "scrolled": true
   },
   "outputs": [
    {
     "ename": "ImportError",
     "evalue": "cannot import name 'display_errors' from 'pydantic.v1.error_wrappers' (/home/daniel/anaconda3/envs/napari-env/lib/python3.13/site-packages/pydantic/v1/error_wrappers.py)",
     "output_type": "error",
     "traceback": [
      "\u001b[31m---------------------------------------------------------------------------\u001b[39m",
      "\u001b[31mImportError\u001b[39m                               Traceback (most recent call last)",
      "\u001b[36mCell\u001b[39m\u001b[36m \u001b[39m\u001b[32mIn[10]\u001b[39m\u001b[32m, line 3\u001b[39m\n\u001b[32m      1\u001b[39m \u001b[38;5;28;01mimport\u001b[39;00m\u001b[38;5;250m \u001b[39m\u001b[34;01mnapari\u001b[39;00m \n\u001b[32m----> \u001b[39m\u001b[32m3\u001b[39m viewer = \u001b[43mnapari\u001b[49m\u001b[43m.\u001b[49m\u001b[43mview_image\u001b[49m(IMAGE_CROP)\n\u001b[32m      4\u001b[39m \u001b[38;5;66;03m# viewer.add_labels(label_image)\u001b[39;00m\n\u001b[32m      5\u001b[39m \u001b[38;5;66;03m# tracks_layer = viewer.add_tracks(data)\u001b[39;00m\n",
      "\u001b[36mFile \u001b[39m\u001b[32m~/anaconda3/envs/napari-env/lib/python3.1/site-packages/lazy_loader/__init__.py:82\u001b[39m, in \u001b[36mattach.<locals>.__getattr__\u001b[39m\u001b[34m(name)\u001b[39m\n\u001b[32m     80\u001b[39m \u001b[38;5;28;01melif\u001b[39;00m name \u001b[38;5;129;01min\u001b[39;00m attr_to_modules:\n\u001b[32m     81\u001b[39m     submod_path = \u001b[33mf\u001b[39m\u001b[33m\"\u001b[39m\u001b[38;5;132;01m{\u001b[39;00mpackage_name\u001b[38;5;132;01m}\u001b[39;00m\u001b[33m.\u001b[39m\u001b[38;5;132;01m{\u001b[39;00mattr_to_modules[name]\u001b[38;5;132;01m}\u001b[39;00m\u001b[33m\"\u001b[39m\n\u001b[32m---> \u001b[39m\u001b[32m82\u001b[39m     submod = \u001b[43mimportlib\u001b[49m\u001b[43m.\u001b[49m\u001b[43mimport_module\u001b[49m\u001b[43m(\u001b[49m\u001b[43msubmod_path\u001b[49m\u001b[43m)\u001b[49m\n\u001b[32m     83\u001b[39m     attr = \u001b[38;5;28mgetattr\u001b[39m(submod, name)\n\u001b[32m     85\u001b[39m     \u001b[38;5;66;03m# If the attribute lives in a file (module) with the same\u001b[39;00m\n\u001b[32m     86\u001b[39m     \u001b[38;5;66;03m# name as the attribute, ensure that the attribute and *not*\u001b[39;00m\n\u001b[32m     87\u001b[39m     \u001b[38;5;66;03m# the module is accessible on the package.\u001b[39;00m\n",
      "\u001b[36mFile \u001b[39m\u001b[32m~/anaconda3/envs/napari-env/lib/python3.13/importlib/__init__.py:88\u001b[39m, in \u001b[36mimport_module\u001b[39m\u001b[34m(name, package)\u001b[39m\n\u001b[32m     86\u001b[39m             \u001b[38;5;28;01mbreak\u001b[39;00m\n\u001b[32m     87\u001b[39m         level += \u001b[32m1\u001b[39m\n\u001b[32m---> \u001b[39m\u001b[32m88\u001b[39m \u001b[38;5;28;01mreturn\u001b[39;00m \u001b[43m_bootstrap\u001b[49m\u001b[43m.\u001b[49m\u001b[43m_gcd_import\u001b[49m\u001b[43m(\u001b[49m\u001b[43mname\u001b[49m\u001b[43m[\u001b[49m\u001b[43mlevel\u001b[49m\u001b[43m:\u001b[49m\u001b[43m]\u001b[49m\u001b[43m,\u001b[49m\u001b[43m \u001b[49m\u001b[43mpackage\u001b[49m\u001b[43m,\u001b[49m\u001b[43m \u001b[49m\u001b[43mlevel\u001b[49m\u001b[43m)\u001b[49m\n",
      "\u001b[36mFile \u001b[39m\u001b[32m<frozen importlib._bootstrap>:1387\u001b[39m, in \u001b[36m_gcd_import\u001b[39m\u001b[34m(name, package, level)\u001b[39m\n",
      "\u001b[36mFile \u001b[39m\u001b[32m<frozen importlib._bootstrap>:1360\u001b[39m, in \u001b[36m_find_and_load\u001b[39m\u001b[34m(name, import_)\u001b[39m\n",
      "\u001b[36mFile \u001b[39m\u001b[32m<frozen importlib._bootstrap>:1331\u001b[39m, in \u001b[36m_find_and_load_unlocked\u001b[39m\u001b[34m(name, import_)\u001b[39m\n",
      "\u001b[36mFile \u001b[39m\u001b[32m<frozen importlib._bootstrap>:935\u001b[39m, in \u001b[36m_load_unlocked\u001b[39m\u001b[34m(spec)\u001b[39m\n",
      "\u001b[36mFile \u001b[39m\u001b[32m<frozen importlib._bootstrap_external>:1026\u001b[39m, in \u001b[36mexec_module\u001b[39m\u001b[34m(self, module)\u001b[39m\n",
      "\u001b[36mFile \u001b[39m\u001b[32m<frozen importlib._bootstrap>:488\u001b[39m, in \u001b[36m_call_with_frames_removed\u001b[39m\u001b[34m(f, *args, **kwds)\u001b[39m\n",
      "\u001b[36mFile \u001b[39m\u001b[32m~/anaconda3/envs/napari-env/lib/python3.1/site-packages/napari/view_layers.py:21\u001b[39m\n\u001b[32m     17\u001b[39m \u001b[38;5;28;01mfrom\u001b[39;00m\u001b[38;5;250m \u001b[39m\u001b[34;01mtyping\u001b[39;00m\u001b[38;5;250m \u001b[39m\u001b[38;5;28;01mimport\u001b[39;00m Any\n\u001b[32m     19\u001b[39m \u001b[38;5;28;01mfrom\u001b[39;00m\u001b[38;5;250m \u001b[39m\u001b[34;01mnumpydoc\u001b[39;00m\u001b[34;01m.\u001b[39;00m\u001b[34;01mdocscrape\u001b[39;00m\u001b[38;5;250m \u001b[39m\u001b[38;5;28;01mimport\u001b[39;00m NumpyDocString \u001b[38;5;28;01mas\u001b[39;00m _NumpyDocString\n\u001b[32m---> \u001b[39m\u001b[32m21\u001b[39m \u001b[38;5;28;01mfrom\u001b[39;00m\u001b[38;5;250m \u001b[39m\u001b[34;01mnapari\u001b[39;00m\u001b[34;01m.\u001b[39;00m\u001b[34;01mcomponents\u001b[39;00m\u001b[34;01m.\u001b[39;00m\u001b[34;01mdims\u001b[39;00m\u001b[38;5;250m \u001b[39m\u001b[38;5;28;01mimport\u001b[39;00m Dims\n\u001b[32m     22\u001b[39m \u001b[38;5;28;01mfrom\u001b[39;00m\u001b[38;5;250m \u001b[39m\u001b[34;01mnapari\u001b[39;00m\u001b[34;01m.\u001b[39;00m\u001b[34;01mlayers\u001b[39;00m\u001b[38;5;250m \u001b[39m\u001b[38;5;28;01mimport\u001b[39;00m Image\n\u001b[32m     23\u001b[39m \u001b[38;5;28;01mfrom\u001b[39;00m\u001b[38;5;250m \u001b[39m\u001b[34;01mnapari\u001b[39;00m\u001b[34;01m.\u001b[39;00m\u001b[34;01mviewer\u001b[39;00m\u001b[38;5;250m \u001b[39m\u001b[38;5;28;01mimport\u001b[39;00m Viewer\n",
      "\u001b[36mFile \u001b[39m\u001b[32m~/anaconda3/envs/napari-env/lib/python3.1/site-packages/napari/components/__init__.py:17\u001b[39m\n\u001b[32m      1\u001b[39m \u001b[33;03m\"\"\"napari.components provides the public-facing models for widgets\u001b[39;00m\n\u001b[32m      2\u001b[39m \u001b[33;03mand other utilities that the user will be able to programmatically interact\u001b[39;00m\n\u001b[32m      3\u001b[39m \u001b[33;03mwith.\u001b[39;00m\n\u001b[32m   (...)\u001b[39m\u001b[32m     14\u001b[39m \u001b[33;03m    layer-related controls.\u001b[39;00m\n\u001b[32m     15\u001b[39m \u001b[33;03m\"\"\"\u001b[39;00m\n\u001b[32m---> \u001b[39m\u001b[32m17\u001b[39m \u001b[38;5;28;01mfrom\u001b[39;00m\u001b[38;5;250m \u001b[39m\u001b[34;01mnapari\u001b[39;00m\u001b[34;01m.\u001b[39;00m\u001b[34;01mcomponents\u001b[39;00m\u001b[34;01m.\u001b[39;00m\u001b[34;01mcamera\u001b[39;00m\u001b[38;5;250m \u001b[39m\u001b[38;5;28;01mimport\u001b[39;00m Camera\n\u001b[32m     18\u001b[39m \u001b[38;5;28;01mfrom\u001b[39;00m\u001b[38;5;250m \u001b[39m\u001b[34;01mnapari\u001b[39;00m\u001b[34;01m.\u001b[39;00m\u001b[34;01mcomponents\u001b[39;00m\u001b[34;01m.\u001b[39;00m\u001b[34;01mdims\u001b[39;00m\u001b[38;5;250m \u001b[39m\u001b[38;5;28;01mimport\u001b[39;00m Dims\n\u001b[32m     19\u001b[39m \u001b[38;5;28;01mfrom\u001b[39;00m\u001b[38;5;250m \u001b[39m\u001b[34;01mnapari\u001b[39;00m\u001b[34;01m.\u001b[39;00m\u001b[34;01mcomponents\u001b[39;00m\u001b[34;01m.\u001b[39;00m\u001b[34;01mlayerlist\u001b[39;00m\u001b[38;5;250m \u001b[39m\u001b[38;5;28;01mimport\u001b[39;00m LayerList\n",
      "\u001b[36mFile \u001b[39m\u001b[32m~/anaconda3/envs/napari-env/lib/python3.1/site-packages/napari/components/camera.py:6\u001b[39m\n\u001b[32m      3\u001b[39m \u001b[38;5;28;01mimport\u001b[39;00m\u001b[38;5;250m \u001b[39m\u001b[34;01mnumpy\u001b[39;00m\u001b[38;5;250m \u001b[39m\u001b[38;5;28;01mas\u001b[39;00m\u001b[38;5;250m \u001b[39m\u001b[34;01mnp\u001b[39;00m\n\u001b[32m      4\u001b[39m \u001b[38;5;28;01mfrom\u001b[39;00m\u001b[38;5;250m \u001b[39m\u001b[34;01mscipy\u001b[39;00m\u001b[34;01m.\u001b[39;00m\u001b[34;01mspatial\u001b[39;00m\u001b[34;01m.\u001b[39;00m\u001b[34;01mtransform\u001b[39;00m\u001b[38;5;250m \u001b[39m\u001b[38;5;28;01mimport\u001b[39;00m Rotation \u001b[38;5;28;01mas\u001b[39;00m R\n\u001b[32m----> \u001b[39m\u001b[32m6\u001b[39m \u001b[38;5;28;01mfrom\u001b[39;00m\u001b[38;5;250m \u001b[39m\u001b[34;01mnapari\u001b[39;00m\u001b[34;01m.\u001b[39;00m\u001b[34;01m_pydantic_compat\u001b[39;00m\u001b[38;5;250m \u001b[39m\u001b[38;5;28;01mimport\u001b[39;00m validator\n\u001b[32m      7\u001b[39m \u001b[38;5;28;01mfrom\u001b[39;00m\u001b[38;5;250m \u001b[39m\u001b[34;01mnapari\u001b[39;00m\u001b[34;01m.\u001b[39;00m\u001b[34;01mutils\u001b[39;00m\u001b[34;01m.\u001b[39;00m\u001b[34;01mcamera_orientations\u001b[39;00m\u001b[38;5;250m \u001b[39m\u001b[38;5;28;01mimport\u001b[39;00m (\n\u001b[32m      8\u001b[39m     DEFAULT_ORIENTATION_TYPED,\n\u001b[32m      9\u001b[39m     DepthAxisOrientation,\n\u001b[32m   (...)\u001b[39m\u001b[32m     14\u001b[39m     VerticalAxisOrientationStr,\n\u001b[32m     15\u001b[39m )\n\u001b[32m     16\u001b[39m \u001b[38;5;28;01mfrom\u001b[39;00m\u001b[38;5;250m \u001b[39m\u001b[34;01mnapari\u001b[39;00m\u001b[34;01m.\u001b[39;00m\u001b[34;01mutils\u001b[39;00m\u001b[34;01m.\u001b[39;00m\u001b[34;01mevents\u001b[39;00m\u001b[38;5;250m \u001b[39m\u001b[38;5;28;01mimport\u001b[39;00m EventedModel\n",
      "\u001b[36mFile \u001b[39m\u001b[32m~/anaconda3/envs/napari-env/lib/python3.1/site-packages/napari/_pydantic_compat.py:33\u001b[39m\n\u001b[32m     10\u001b[39m \u001b[38;5;28;01mfrom\u001b[39;00m\u001b[38;5;250m \u001b[39m\u001b[34;01mpydantic\u001b[39;00m\u001b[34;01m.\u001b[39;00m\u001b[34;01mv1\u001b[39;00m\u001b[38;5;250m \u001b[39m\u001b[38;5;28;01mimport\u001b[39;00m (\n\u001b[32m     11\u001b[39m     BaseModel,\n\u001b[32m     12\u001b[39m     BaseSettings,\n\u001b[32m   (...)\u001b[39m\u001b[32m     26\u001b[39m     validator,\n\u001b[32m     27\u001b[39m )\n\u001b[32m     28\u001b[39m \u001b[38;5;28;01mfrom\u001b[39;00m\u001b[38;5;250m \u001b[39m\u001b[34;01mpydantic\u001b[39;00m\u001b[34;01m.\u001b[39;00m\u001b[34;01mv1\u001b[39;00m\u001b[34;01m.\u001b[39;00m\u001b[34;01menv_settings\u001b[39;00m\u001b[38;5;250m \u001b[39m\u001b[38;5;28;01mimport\u001b[39;00m (\n\u001b[32m     29\u001b[39m     EnvSettingsSource,\n\u001b[32m     30\u001b[39m     SettingsError,\n\u001b[32m     31\u001b[39m     SettingsSourceCallable,\n\u001b[32m     32\u001b[39m )\n\u001b[32m---> \u001b[39m\u001b[32m33\u001b[39m \u001b[38;5;28;01mfrom\u001b[39;00m\u001b[38;5;250m \u001b[39m\u001b[34;01mpydantic\u001b[39;00m\u001b[34;01m.\u001b[39;00m\u001b[34;01mv1\u001b[39;00m\u001b[34;01m.\u001b[39;00m\u001b[34;01merror_wrappers\u001b[39;00m\u001b[38;5;250m \u001b[39m\u001b[38;5;28;01mimport\u001b[39;00m ErrorWrapper, display_errors\n\u001b[32m     34\u001b[39m \u001b[38;5;28;01mfrom\u001b[39;00m\u001b[38;5;250m \u001b[39m\u001b[34;01mpydantic\u001b[39;00m\u001b[34;01m.\u001b[39;00m\u001b[34;01mv1\u001b[39;00m\u001b[34;01m.\u001b[39;00m\u001b[34;01mfields\u001b[39;00m\u001b[38;5;250m \u001b[39m\u001b[38;5;28;01mimport\u001b[39;00m SHAPE_LIST, ModelField\n\u001b[32m     35\u001b[39m \u001b[38;5;28;01mfrom\u001b[39;00m\u001b[38;5;250m \u001b[39m\u001b[34;01mpydantic\u001b[39;00m\u001b[34;01m.\u001b[39;00m\u001b[34;01mv1\u001b[39;00m\u001b[34;01m.\u001b[39;00m\u001b[34;01mgenerics\u001b[39;00m\u001b[38;5;250m \u001b[39m\u001b[38;5;28;01mimport\u001b[39;00m GenericModel\n",
      "\u001b[31mImportError\u001b[39m: cannot import name 'display_errors' from 'pydantic.v1.error_wrappers' (/home/daniel/anaconda3/envs/napari-env/lib/python3.13/site-packages/pydantic/v1/error_wrappers.py)"
     ]
    }
   ],
   "source": [
    "import napari \n",
    "\n",
    "viewer = napari.view_image(IMAGE_CROP)\n",
    "# viewer.add_labels(label_image)\n",
    "# tracks_layer = viewer.add_tracks(data)"
   ]
  },
  {
   "cell_type": "code",
   "execution_count": 7,
   "id": "ef1bc0e3-328f-4946-8294-208ae5577337",
   "metadata": {
    "scrolled": true
   },
   "outputs": [
    {
     "name": "stdout",
     "output_type": "stream",
     "text": [
      "Collecting btrack\n",
      "  Downloading btrack-0.6.5-py3-none-any.whl.metadata (8.7 kB)\n",
      "Collecting cvxopt>=1.3.1 (from btrack)\n",
      "  Downloading cvxopt-1.3.2-cp313-cp313-manylinux_2_28_x86_64.whl.metadata (1.3 kB)\n",
      "Collecting h5py>=2.10.0 (from btrack)\n",
      "  Downloading h5py-3.13.0-cp313-cp313-manylinux_2_17_x86_64.manylinux2014_x86_64.whl.metadata (2.5 kB)\n",
      "Requirement already satisfied: numpy>=1.17.3 in /home/daniel/anaconda3/envs/napari-env/lib/python3.13/site-packages (from btrack) (2.2.5)\n",
      "Requirement already satisfied: pandas>=2.0.3 in /home/daniel/anaconda3/envs/napari-env/lib/python3.13/site-packages (from btrack) (2.2.3)\n",
      "Requirement already satisfied: pooch>=1.0.0 in /home/daniel/anaconda3/envs/napari-env/lib/python3.1/site-packages (from btrack) (1.8.2)\n",
      "Collecting pydantic<2 (from btrack)\n",
      "  Downloading pydantic-1.10.22-cp313-cp313-manylinux_2_17_x86_64.manylinux2014_x86_64.whl.metadata (154 kB)\n",
      "Requirement already satisfied: scikit-image>=0.16.2 in /home/daniel/anaconda3/envs/napari-env/lib/python3.13/site-packages (from btrack) (0.25.2)\n",
      "Requirement already satisfied: scipy>=1.3.1 in /home/daniel/anaconda3/envs/napari-env/lib/python3.13/site-packages (from btrack) (1.15.2)\n",
      "Requirement already satisfied: tqdm>=4.65.0 in /home/daniel/anaconda3/envs/napari-env/lib/python3.1/site-packages (from btrack) (4.67.1)\n",
      "Requirement already satisfied: typing-extensions>=4.2.0 in /home/daniel/anaconda3/envs/napari-env/lib/python3.1/site-packages (from pydantic<2->btrack) (4.13.2)\n",
      "Requirement already satisfied: python-dateutil>=2.8.2 in /home/daniel/anaconda3/envs/napari-env/lib/python3.1/site-packages (from pandas>=2.0.3->btrack) (2.9.0.post0)\n",
      "Requirement already satisfied: pytz>=2020.1 in /home/daniel/anaconda3/envs/napari-env/lib/python3.1/site-packages (from pandas>=2.0.3->btrack) (2025.2)\n",
      "Requirement already satisfied: tzdata>=2022.7 in /home/daniel/anaconda3/envs/napari-env/lib/python3.1/site-packages (from pandas>=2.0.3->btrack) (2025.2)\n",
      "Requirement already satisfied: platformdirs>=2.5.0 in /home/daniel/anaconda3/envs/napari-env/lib/python3.1/site-packages (from pooch>=1.0.0->btrack) (4.3.7)\n",
      "Requirement already satisfied: packaging>=20.0 in /home/daniel/anaconda3/envs/napari-env/lib/python3.1/site-packages (from pooch>=1.0.0->btrack) (25.0)\n",
      "Requirement already satisfied: requests>=2.19.0 in /home/daniel/anaconda3/envs/napari-env/lib/python3.1/site-packages (from pooch>=1.0.0->btrack) (2.32.3)\n",
      "Requirement already satisfied: six>=1.5 in /home/daniel/anaconda3/envs/napari-env/lib/python3.1/site-packages (from python-dateutil>=2.8.2->pandas>=2.0.3->btrack) (1.17.0)\n",
      "Requirement already satisfied: charset_normalizer<4,>=2 in /home/daniel/anaconda3/envs/napari-env/lib/python3.1/site-packages (from requests>=2.19.0->pooch>=1.0.0->btrack) (3.4.2)\n",
      "Requirement already satisfied: idna<4,>=2.5 in /home/daniel/anaconda3/envs/napari-env/lib/python3.1/site-packages (from requests>=2.19.0->pooch>=1.0.0->btrack) (3.10)\n",
      "Requirement already satisfied: urllib3<3,>=1.21.1 in /home/daniel/anaconda3/envs/napari-env/lib/python3.1/site-packages (from requests>=2.19.0->pooch>=1.0.0->btrack) (2.4.0)\n",
      "Requirement already satisfied: certifi>=2017.4.17 in /home/daniel/anaconda3/envs/napari-env/lib/python3.1/site-packages (from requests>=2.19.0->pooch>=1.0.0->btrack) (2025.1.31)\n",
      "Requirement already satisfied: networkx>=3.0 in /home/daniel/anaconda3/envs/napari-env/lib/python3.1/site-packages (from scikit-image>=0.16.2->btrack) (3.4.2)\n",
      "Requirement already satisfied: pillow>=10.1 in /home/daniel/anaconda3/envs/napari-env/lib/python3.13/site-packages (from scikit-image>=0.16.2->btrack) (11.1.0)\n",
      "Requirement already satisfied: imageio!=2.35.0,>=2.33 in /home/daniel/anaconda3/envs/napari-env/lib/python3.1/site-packages (from scikit-image>=0.16.2->btrack) (2.37.0)\n",
      "Requirement already satisfied: tifffile>=2022.8.12 in /home/daniel/anaconda3/envs/napari-env/lib/python3.13/site-packages (from scikit-image>=0.16.2->btrack) (2025.2.18)\n",
      "Requirement already satisfied: lazy-loader>=0.4 in /home/daniel/anaconda3/envs/napari-env/lib/python3.1/site-packages (from scikit-image>=0.16.2->btrack) (0.4)\n",
      "Downloading btrack-0.6.5-py3-none-any.whl (1.3 MB)\n",
      "\u001b[2K   \u001b[38;2;114;156;31m━━━━━━━━━━━━━━━━━━━━━━━━━━━━━━━━━━━━━━━━\u001b[0m \u001b[32m1.3/1.3 MB\u001b[0m \u001b[31m14.8 MB/s\u001b[0m eta \u001b[36m0:00:00\u001b[0m\n",
      "\u001b[?25hDownloading pydantic-1.10.22-cp313-cp313-manylinux_2_17_x86_64.manylinux2014_x86_64.whl (3.0 MB)\n",
      "\u001b[2K   \u001b[38;2;114;156;31m━━━━━━━━━━━━━━━━━━━━━━━━━━━━━━━━━━━━━━━━\u001b[0m \u001b[32m3.0/3.0 MB\u001b[0m \u001b[31m21.5 MB/s\u001b[0m eta \u001b[36m0:00:00\u001b[0m\n",
      "\u001b[?25hDownloading cvxopt-1.3.2-cp313-cp313-manylinux_2_28_x86_64.whl (21.3 MB)\n",
      "\u001b[2K   \u001b[38;2;114;156;31m━━━━━━━━━━━━━━━━━━━━━━━━━━━━━━━━━━━━━━━━\u001b[0m \u001b[32m21.3/21.3 MB\u001b[0m \u001b[31m10.7 MB/s\u001b[0m eta \u001b[36m0:00:00\u001b[0m MB/s\u001b[0m eta \u001b[36m0:00:01\u001b[0m:01\u001b[0m\n",
      "\u001b[?25hDownloading h5py-3.13.0-cp313-cp313-manylinux_2_17_x86_64.manylinux2014_x86_64.whl (4.9 MB)\n",
      "\u001b[2K   \u001b[38;2;114;156;31m━━━━━━━━━━━━━━━━━━━━━━━━━━━━━━━━━━━━━━━━\u001b[0m \u001b[32m4.9/4.9 MB\u001b[0m \u001b[31m20.8 MB/s\u001b[0m eta \u001b[36m0:00:00\u001b[0m MB/s\u001b[0m eta \u001b[36m0:00:01\u001b[0m\n",
      "\u001b[?25hInstalling collected packages: pydantic, h5py, cvxopt, btrack\n",
      "\u001b[2K  Attempting uninstall: pydantic\n",
      "\u001b[2K    Found existing installation: pydantic 2.10.1\n",
      "\u001b[2K    Uninstalling pydantic-2.10.1:\n",
      "\u001b[2K      Successfully uninstalled pydantic-2.10.1\n",
      "\u001b[2K   \u001b[38;2;114;156;31m━━━━━━━━━━━━━━━━━━━━━━━━━━━━━━━━━━━━━━━━\u001b[0m \u001b[32m4/4\u001b[0m [btrack]━━━━\u001b[0m \u001b[32m2/4\u001b[0m [cvxopt]\n",
      "\u001b[1A\u001b[2K\u001b[31mERROR: pip's dependency resolver does not currently take into account all the packages that are installed. This behaviour is the source of the following dependency conflicts.\n",
      "napari 0.6.0 requires pydantic>=2.2.0, but you have pydantic 1.10.22 which is incompatible.\u001b[0m\u001b[31m\n",
      "\u001b[0mSuccessfully installed btrack-0.6.5 cvxopt-1.3.2 h5py-3.13.0 pydantic-1.10.22\n"
     ]
    }
   ],
   "source": [
    "\n",
    "\n",
    "\n",
    "def track_cells(images):\n",
    "\n",
    "    @thread_worker\n",
    "    def _segment_cells():\n",
    "        return labels\n",
    "    "
   ]
  },
  {
   "cell_type": "code",
   "execution_count": 30,
   "id": "a469bfb3-cb78-4ec6-91c9-5b2c10a0ba9e",
   "metadata": {},
   "outputs": [
    {
     "name": "stdout",
     "output_type": "stream",
     "text": [
      "Requirement already satisfied: btrack in /home/daniel/anaconda3/envs/napari-env/lib/python3.13/site-packages (0.6.5)\n",
      "Requirement already satisfied: cvxopt>=1.3.1 in /home/daniel/anaconda3/envs/napari-env/lib/python3.13/site-packages (from btrack) (1.3.2)\n",
      "Requirement already satisfied: h5py>=2.10.0 in /home/daniel/anaconda3/envs/napari-env/lib/python3.13/site-packages (from btrack) (3.13.0)\n",
      "Requirement already satisfied: numpy>=1.17.3 in /home/daniel/anaconda3/envs/napari-env/lib/python3.13/site-packages (from btrack) (2.2.5)\n",
      "Requirement already satisfied: pandas>=2.0.3 in /home/daniel/anaconda3/envs/napari-env/lib/python3.13/site-packages (from btrack) (2.2.3)\n",
      "Requirement already satisfied: pooch>=1.0.0 in /home/daniel/anaconda3/envs/napari-env/lib/python3.1/site-packages (from btrack) (1.8.2)\n",
      "Requirement already satisfied: pydantic<2 in /home/daniel/anaconda3/envs/napari-env/lib/python3.13/site-packages (from btrack) (1.10.22)\n",
      "Requirement already satisfied: scikit-image>=0.16.2 in /home/daniel/anaconda3/envs/napari-env/lib/python3.13/site-packages (from btrack) (0.25.2)\n",
      "Requirement already satisfied: scipy>=1.3.1 in /home/daniel/anaconda3/envs/napari-env/lib/python3.13/site-packages (from btrack) (1.15.2)\n",
      "Requirement already satisfied: tqdm>=4.65.0 in /home/daniel/anaconda3/envs/napari-env/lib/python3.1/site-packages (from btrack) (4.67.1)\n",
      "Requirement already satisfied: typing-extensions>=4.2.0 in /home/daniel/anaconda3/envs/napari-env/lib/python3.1/site-packages (from pydantic<2->btrack) (4.13.2)\n",
      "Requirement already satisfied: python-dateutil>=2.8.2 in /home/daniel/anaconda3/envs/napari-env/lib/python3.1/site-packages (from pandas>=2.0.3->btrack) (2.9.0.post0)\n",
      "Requirement already satisfied: pytz>=2020.1 in /home/daniel/anaconda3/envs/napari-env/lib/python3.1/site-packages (from pandas>=2.0.3->btrack) (2025.2)\n",
      "Requirement already satisfied: tzdata>=2022.7 in /home/daniel/anaconda3/envs/napari-env/lib/python3.1/site-packages (from pandas>=2.0.3->btrack) (2025.2)\n",
      "Requirement already satisfied: platformdirs>=2.5.0 in /home/daniel/anaconda3/envs/napari-env/lib/python3.1/site-packages (from pooch>=1.0.0->btrack) (4.3.7)\n",
      "Requirement already satisfied: packaging>=20.0 in /home/daniel/anaconda3/envs/napari-env/lib/python3.1/site-packages (from pooch>=1.0.0->btrack) (25.0)\n",
      "Requirement already satisfied: requests>=2.19.0 in /home/daniel/anaconda3/envs/napari-env/lib/python3.1/site-packages (from pooch>=1.0.0->btrack) (2.32.3)\n",
      "Requirement already satisfied: six>=1.5 in /home/daniel/anaconda3/envs/napari-env/lib/python3.1/site-packages (from python-dateutil>=2.8.2->pandas>=2.0.3->btrack) (1.17.0)\n",
      "Requirement already satisfied: charset_normalizer<4,>=2 in /home/daniel/anaconda3/envs/napari-env/lib/python3.1/site-packages (from requests>=2.19.0->pooch>=1.0.0->btrack) (3.4.2)\n",
      "Requirement already satisfied: idna<4,>=2.5 in /home/daniel/anaconda3/envs/napari-env/lib/python3.1/site-packages (from requests>=2.19.0->pooch>=1.0.0->btrack) (3.10)\n",
      "Requirement already satisfied: urllib3<3,>=1.21.1 in /home/daniel/anaconda3/envs/napari-env/lib/python3.1/site-packages (from requests>=2.19.0->pooch>=1.0.0->btrack) (2.4.0)\n",
      "Requirement already satisfied: certifi>=2017.4.17 in /home/daniel/anaconda3/envs/napari-env/lib/python3.1/site-packages (from requests>=2.19.0->pooch>=1.0.0->btrack) (2025.1.31)\n",
      "Requirement already satisfied: networkx>=3.0 in /home/daniel/anaconda3/envs/napari-env/lib/python3.1/site-packages (from scikit-image>=0.16.2->btrack) (3.4.2)\n",
      "Requirement already satisfied: pillow>=10.1 in /home/daniel/anaconda3/envs/napari-env/lib/python3.13/site-packages (from scikit-image>=0.16.2->btrack) (11.1.0)\n",
      "Requirement already satisfied: imageio!=2.35.0,>=2.33 in /home/daniel/anaconda3/envs/napari-env/lib/python3.1/site-packages (from scikit-image>=0.16.2->btrack) (2.37.0)\n",
      "Requirement already satisfied: tifffile>=2022.8.12 in /home/daniel/anaconda3/envs/napari-env/lib/python3.13/site-packages (from scikit-image>=0.16.2->btrack) (2025.2.18)\n",
      "Requirement already satisfied: lazy-loader>=0.4 in /home/daniel/anaconda3/envs/napari-env/lib/python3.1/site-packages (from scikit-image>=0.16.2->btrack) (0.4)\n"
     ]
    }
   ],
   "source": [
    "!pip install --upgrade btrack"
   ]
  },
  {
   "cell_type": "code",
   "execution_count": null,
   "id": "5fac2c3c-723c-414d-af34-f9ebff860db5",
   "metadata": {},
   "outputs": [],
   "source": []
  }
 ],
 "metadata": {
  "kernelspec": {
   "display_name": "Python 3 (ipykernel)",
   "language": "python",
   "name": "python3"
  },
  "language_info": {
   "codemirror_mode": {
    "name": "ipython",
    "version": 3
   },
   "file_extension": ".py",
   "mimetype": "text/x-python",
   "name": "python",
   "nbconvert_exporter": "python",
   "pygments_lexer": "ipython3",
   "version": "3.13.2"
  }
 },
 "nbformat": 4,
 "nbformat_minor": 5
}
