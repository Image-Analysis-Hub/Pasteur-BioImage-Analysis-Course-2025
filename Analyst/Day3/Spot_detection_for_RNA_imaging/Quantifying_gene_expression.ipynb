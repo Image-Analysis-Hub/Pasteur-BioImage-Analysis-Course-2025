{
 "cells": [
  {
   "cell_type": "markdown",
   "metadata": {},
   "source": [
    "# Spot detection for RNA imaging, part II: quantifying gene expression\n",
    "\n",
    "Neubias course. May 14 th and may 15 th 2025. Pasteur Institute. \n",
    "\n",
    "Teacher: Jacques Bourg    \n",
    "Helper:  Gaëlle Letort"
   ]
  },
  {
   "cell_type": "markdown",
   "metadata": {},
   "source": [
    "We are going in this part to cover the basic steps of quantifying gene expression using fluorescence in situ hybridisation (FISH imaging). \n",
    "\n",
    "Although this notebook is a follow up from the previous part, there is no need to have done it."
   ]
  },
  {
   "cell_type": "markdown",
   "metadata": {},
   "source": [
    "# Introduction \n",
    "\n",
    "Quantifying gene expression using FISH is vital as it provides spatial resolution, showing expression levels in individual cells and their location within tissue architecture. This reveals cell-to-cell heterogeneity and localization missed by bulk measurements.\n",
    "\n",
    "Biological questions answered include: Which specific cell types express a gene? How does expression vary across different tissue regions? What is the extent of cell-to-cell variability in expression? How does spatial context influence gene activity?"
   ]
  },
  {
   "cell_type": "code",
   "execution_count": 53,
   "metadata": {},
   "outputs": [
    {
     "name": "stdout",
     "output_type": "stream",
     "text": [
      "The autoreload extension is already loaded. To reload it, use:\n",
      "  %reload_ext autoreload\n"
     ]
    }
   ],
   "source": [
    "import napari\n",
    "import numpy as np\n",
    "import pandas\n",
    "from skimage import io\n",
    "import matplotlib.pyplot as plt\n",
    "from pathlib import Path\n",
    "from skimage.segmentation import expand_labels\n",
    "\n",
    "from bigfish.classification import prepare_extracted_data, features_dispersion, compute_features\n",
    "from bigfish.multistack import detect_spots_colocalization\n",
    "\n",
    " \n",
    "from detect_spots import DetectionPipeline\n",
    "dt = DetectionPipeline()\n",
    "\n",
    "from thresh_big_fish import SpotsThresholding\n",
    "from cleaning import Cleaning\n",
    "from quantify import Quantify\n",
    "\n",
    "cl = Cleaning()\n",
    "qf = Quantify()\n",
    "\n",
    "%load_ext autoreload\n",
    "%autoreload 2"
   ]
  },
  {
   "cell_type": "code",
   "execution_count": 75,
   "metadata": {},
   "outputs": [
    {
     "name": "stderr",
     "output_type": "stream",
     "text": [
      "/home/jacques/miniconda3/envs/spot_course_env/lib/python3.10/site-packages/skimage/_shared/utils.py:328: UserWarning: dapi_image_2d.tif is a low contrast image\n",
      "  return func(*args, **kwargs)\n",
      "/home/jacques/miniconda3/envs/spot_course_env/lib/python3.10/site-packages/skimage/_shared/utils.py:328: UserWarning: fish_image_g1_2d.tif is a low contrast image\n",
      "  return func(*args, **kwargs)\n",
      "/home/jacques/miniconda3/envs/spot_course_env/lib/python3.10/site-packages/skimage/_shared/utils.py:328: UserWarning: fish_image_g2_2d.tif is a low contrast image\n",
      "  return func(*args, **kwargs)\n"
     ]
    }
   ],
   "source": [
    "im = io.imread(Path('./data/D.tif'))\n",
    "\n",
    "# split the channels in two : DAPI and FISH. Save as two separated files.\n",
    "im_dapi  = im[...,0]\n",
    "im_gene1 = im[...,1]\n",
    "im_gene2 = im[...,2]\n",
    "\n",
    "io.imsave( \"dapi_image_2d.tif\", im_dapi)\n",
    "io.imsave( \"fish_image_g1_2d.tif\", im_gene1)\n",
    "io.imsave( \"fish_image_g2_2d.tif\", im_gene2)"
   ]
  },
  {
   "cell_type": "markdown",
   "metadata": {},
   "source": [
    "Load a Cellpose generated segmentation (unperfect but good enough for our purposes)."
   ]
  },
  {
   "cell_type": "code",
   "execution_count": 77,
   "metadata": {},
   "outputs": [],
   "source": [
    "mask =  np.load('dapi_image_2d_seg.npy', allow_pickle=True)[()]\n",
    "masks = mask['masks']\n",
    "\n",
    "value_max_d  = np.percentile(im_dapi, 99.9)\n",
    "value_max_g1 = np.percentile(im_gene1, 99.9)\n",
    "value_max_g2 = np.percentile(im_gene2, 99.9)\n",
    "\n",
    "viewer = napari.Viewer()\n",
    "viewer.add_image(im_gene1, rgb=False, name=f\" gene1 \", contrast_limits=(0, value_max_g1),  opacity=0.6,  colormap='green');\n",
    "viewer.add_image(im_gene2, rgb=False, name=f\" gene2 \", contrast_limits=(0, value_max_g2), opacity=0.6,  colormap='red');\n",
    "viewer.add_image(im_dapi, rgb=False, name=f\" dapi\", contrast_limits=(0, value_max_d), opacity=0.35);\n",
    "viewer.add_labels(masks,   name=f\" segmentation\", opacity=0.2);"
   ]
  },
  {
   "cell_type": "markdown",
   "metadata": {},
   "source": [
    "Determine the region in which we will acount for the rna expression:  To do so we use an algorithm called expand labels. \n",
    "\n",
    "This algorithm is designed to grow labeled regions (connected components) in a label image outwards by a specified distance. "
   ]
  },
  {
   "cell_type": "code",
   "execution_count": 79,
   "metadata": {},
   "outputs": [],
   "source": [
    "mask_bin = masks.copy()\n",
    "mask_bin[mask_bin > 0] = 1\n",
    "\n",
    "d = 40 # pixels\n",
    "area_fish = expand_labels(mask_bin, distance=d)\n",
    "\n",
    "viewer = napari.Viewer()\n",
    "viewer.add_image(im_dapi, rgb=False, name=f\" dapi\", contrast_limits=(0, value_max_d), opacity=0.5);\n",
    "viewer.add_labels(mask_bin, name=f\" binary mask of segmented cells\", opacity=0.5);\n",
    "viewer.add_labels(area_fish, name=f\" fish expression area\", opacity=0.5);\n"
   ]
  },
  {
   "cell_type": "markdown",
   "metadata": {},
   "source": [
    "Cleaning the rois: retain only the nuclei with a big area. We do not want to keep nuclei that are too small since they can be parts of nuclei, or dying nuclei (become smaller).  "
   ]
  },
  {
   "cell_type": "code",
   "execution_count": 81,
   "metadata": {},
   "outputs": [
    {
     "data": {
      "image/png": "[encoded data removed]",
      "text/plain": [
       "<Figure size 500x200 with 1 Axes>"
      ]
     },
     "metadata": {},
     "output_type": "display_data"
    }
   ],
   "source": [
    "background_value = 0\n",
    "labels, counts   = np.unique(masks, return_counts=True)\n",
    "\n",
    "fig, ax = plt.subplots(figsize=(5,2))\n",
    "ax.hist(counts[1:],bins= 30);\n",
    "ax.set_xlabel('areas');"
   ]
  },
  {
   "cell_type": "code",
   "execution_count": 82,
   "metadata": {},
   "outputs": [],
   "source": [
    "threshold = 5000 # try a threshold, observe the effect on the masks\n",
    "\n",
    "labels_to_keep   = set(labels[counts >= threshold])   \n",
    "if background_value in labels:\n",
    "    labels_to_keep.add(background_value)\n",
    "\n",
    "masks_nuclei = np.zeros(np.shape(masks), dtype=masks.dtype)\n",
    "for label in labels_to_keep:\n",
    "    masks_nuclei[masks == label] = label\n",
    "        \n",
    "value_max = np.percentile(im_dapi, 99.9)\n",
    "viewer = napari.Viewer()\n",
    "viewer.add_image(im_dapi, rgb=False, name=f\" dapi\", contrast_limits=(0, value_max), opacity=0.5);\n",
    "viewer.add_labels(masks,   name=f\" segmentation\");    \n",
    "viewer.add_labels(masks_nuclei,   name=f\" cleaned segmentation\", blending='additive');    "
   ]
  },
  {
   "cell_type": "markdown",
   "metadata": {},
   "source": [
    "spot detection: gene 1 and 2\n",
    "\n",
    "As in the first notebook, we detect semi manually the spots. Just move the slider, observe the result, and close the window when you are satisfied with the threshold.\n",
    "\n",
    "To get the Voxel size, I opened the D file in fiji and clicked on image/show Info.   "
   ]
  },
  {
   "cell_type": "code",
   "execution_count": 83,
   "metadata": {},
   "outputs": [
    {
     "data": {
      "image/png": "[encoded data removed]",
      "text/plain": [
       "<Figure size 640x480 with 1 Axes>"
      ]
     },
     "metadata": {},
     "output_type": "display_data"
    }
   ],
   "source": [
    "st_g1 = SpotsThresholding(BATCH=[Path('./fish_image_g1_2d.tif')], subtract_fish=False, voxel_size_nm=(112, 112), object_radius_nm=(150, 150)) \n",
    "st_g1.run();"
   ]
  },
  {
   "cell_type": "code",
   "execution_count": 84,
   "metadata": {},
   "outputs": [],
   "source": [
    "spots_bf_g1 = st_g1.detected_spots['fish_image_g1_2d']"
   ]
  },
  {
   "cell_type": "code",
   "execution_count": 85,
   "metadata": {},
   "outputs": [
    {
     "data": {
      "image/png": "[encoded data removed]",
      "text/plain": [
       "<Figure size 640x480 with 1 Axes>"
      ]
     },
     "metadata": {},
     "output_type": "display_data"
    }
   ],
   "source": [
    "st_g2 = SpotsThresholding(BATCH=[Path('./fish_image_g2_2d.tif')], subtract_fish=False, voxel_size_nm=(112, 112), object_radius_nm=(150, 150)) # to get the Voxel size, I opened the \"D.tif\" file in fiji and clicked on image/show Info.   \n",
    "st_g2.run();"
   ]
  },
  {
   "cell_type": "code",
   "execution_count": 86,
   "metadata": {},
   "outputs": [],
   "source": [
    "spots_bf_g2 = st_g2.detected_spots['fish_image_g2_2d']"
   ]
  },
  {
   "cell_type": "markdown",
   "metadata": {},
   "source": [
    "#### Clean the spots\n",
    "\n",
    "a) Spots in the FISH expression area"
   ]
  },
  {
   "cell_type": "code",
   "execution_count": 88,
   "metadata": {},
   "outputs": [],
   "source": [
    "spots_clean_g1, _ = cl.subsel_points_in_mask_fish(spots_bf_g1, area_fish)\n",
    "spots_clean_g2, _ = cl.subsel_points_in_mask_fish(spots_bf_g2, area_fish)"
   ]
  },
  {
   "cell_type": "markdown",
   "metadata": {},
   "source": [
    "Look at the next plot in detail and find spots which were excluded."
   ]
  },
  {
   "cell_type": "code",
   "execution_count": 89,
   "metadata": {},
   "outputs": [],
   "source": [
    "value_max = np.percentile(im_dapi, 99.9) \n",
    "viewer = napari.Viewer()\n",
    "viewer.add_image(im_dapi, rgb=False, name=f\" dapi\", contrast_limits=(0, value_max), opacity=0.5);\n",
    "viewer.add_labels(masks_nuclei,   name=f\" nuclei cleaned segmentation\"); \n",
    "viewer.add_labels(area_fish, name=f\" fish expression area\", opacity=0.5);\n",
    "viewer.add_points(spots_bf_g1,   name=f\" g1 raw spots\",  size=2, face_color='green' ); \n",
    "viewer.add_points(spots_clean_g1,   name=f\" g1 cleaned spots\",  size=5, face_color=[0, 0, 0, 0], border_color= \"#006400\"); \n",
    "viewer.add_points(spots_bf_g2,   name=f\" g2 raw spots\",  size=2, face_color='red' ); \n",
    "viewer.add_points(spots_clean_g2,   name=f\" g2 cleaned spots\",  size=5, face_color=[0, 0, 0, 0], border_color= \"#8B0000\"); "
   ]
  },
  {
   "cell_type": "markdown",
   "metadata": {},
   "source": [
    "# Quantification"
   ]
  },
  {
   "cell_type": "markdown",
   "metadata": {},
   "source": [
    "a) Spot intensity. Why does it makes sense to quantify spot intensity ? Assuming the spatial expression is very sparse, what would it be the reason to get variability in the spot intensity ? "
   ]
  },
  {
   "cell_type": "code",
   "execution_count": 90,
   "metadata": {},
   "outputs": [],
   "source": [
    "g1_int, g2_int = [], []     # measure the intensity of the spots in the corresponding images:\n",
    " \n",
    "for pos in spots_clean_g1:\n",
    "    g1_int.append(im_gene1[pos[0], pos[1]])\n",
    "\n",
    "for pos in spots_clean_g2:\n",
    "    g2_int.append(im_gene2[pos[0], pos[1]])"
   ]
  },
  {
   "cell_type": "code",
   "execution_count": 91,
   "metadata": {},
   "outputs": [
    {
     "data": {
      "image/png": "[encoded data removed]",
      "text/plain": [
       "<Figure size 400x200 with 1 Axes>"
      ]
     },
     "metadata": {},
     "output_type": "display_data"
    },
    {
     "data": {
      "image/png": "[encoded data removed]",
      "text/plain": [
       "<Figure size 400x200 with 1 Axes>"
      ]
     },
     "metadata": {},
     "output_type": "display_data"
    }
   ],
   "source": [
    "fig, ax = plt.subplots(figsize=(4,2))\n",
    "ax.hist(g1_int, bins = 30, color='green');\n",
    "ax.set_xlabel('intensity');\n",
    "ax.set_ylabel('g1');\n",
    "\n",
    "fig, ax = plt.subplots(figsize=(4,2))\n",
    "ax.hist(g2_int, bins = 30, color='red');\n",
    "ax.set_xlabel('intensity');\n",
    "ax.set_ylabel('g2');"
   ]
  },
  {
   "cell_type": "markdown",
   "metadata": {},
   "source": [
    "Another way to measure gene expression is to quantify the spots width and sum the pixels in the estimated disk. \n",
    "\n",
    "1 - Biologically, why would one do this ? \n",
    "\n",
    "2- In the literature, people fit a gaussian to each spot and estimate the half-width of the gaussian.\n",
    "What is the problem with taking the half-width ? Do you have a better idea to estimate the spots width ? "
   ]
  },
  {
   "cell_type": "markdown",
   "metadata": {},
   "source": [
    "b) Count matrix : count the spots/nuclei"
   ]
  },
  {
   "cell_type": "code",
   "execution_count": 92,
   "metadata": {},
   "outputs": [],
   "source": [
    "area_bin_masks_clean = np.zeros_like(masks_nuclei)\n",
    "area_bin_masks_clean[masks_nuclei >0] = 1\n",
    "\n",
    "spots_clean_nuc_g1, _ = cl.subsel_points_in_mask_fish(spots_clean_g1, area_bin_masks_clean)\n",
    "spots_clean_nuc_g2, _ = cl.subsel_points_in_mask_fish(spots_clean_g2, area_bin_masks_clean)"
   ]
  },
  {
   "cell_type": "code",
   "execution_count": 93,
   "metadata": {},
   "outputs": [
    {
     "data": {
      "text/html": [
       "<div>\n",
       "<style scoped>\n",
       "    .dataframe tbody tr th:only-of-type {\n",
       "        vertical-align: middle;\n",
       "    }\n",
       "\n",
       "    .dataframe tbody tr th {\n",
       "        vertical-align: top;\n",
       "    }\n",
       "\n",
       "    .dataframe thead th {\n",
       "        text-align: right;\n",
       "    }\n",
       "</style>\n",
       "<table border=\"1\" class=\"dataframe\">\n",
       "  <thead>\n",
       "    <tr style=\"text-align: right;\">\n",
       "      <th></th>\n",
       "      <th>cell_id</th>\n",
       "      <th>spot_count</th>\n",
       "    </tr>\n",
       "  </thead>\n",
       "  <tbody>\n",
       "    <tr>\n",
       "      <th>0</th>\n",
       "      <td>1</td>\n",
       "      <td>1</td>\n",
       "    </tr>\n",
       "    <tr>\n",
       "      <th>1</th>\n",
       "      <td>3</td>\n",
       "      <td>1</td>\n",
       "    </tr>\n",
       "    <tr>\n",
       "      <th>2</th>\n",
       "      <td>4</td>\n",
       "      <td>0</td>\n",
       "    </tr>\n",
       "    <tr>\n",
       "      <th>3</th>\n",
       "      <td>5</td>\n",
       "      <td>0</td>\n",
       "    </tr>\n",
       "    <tr>\n",
       "      <th>4</th>\n",
       "      <td>6</td>\n",
       "      <td>4</td>\n",
       "    </tr>\n",
       "    <tr>\n",
       "      <th>...</th>\n",
       "      <td>...</td>\n",
       "      <td>...</td>\n",
       "    </tr>\n",
       "    <tr>\n",
       "      <th>85</th>\n",
       "      <td>115</td>\n",
       "      <td>0</td>\n",
       "    </tr>\n",
       "    <tr>\n",
       "      <th>86</th>\n",
       "      <td>116</td>\n",
       "      <td>3</td>\n",
       "    </tr>\n",
       "    <tr>\n",
       "      <th>87</th>\n",
       "      <td>117</td>\n",
       "      <td>3</td>\n",
       "    </tr>\n",
       "    <tr>\n",
       "      <th>88</th>\n",
       "      <td>118</td>\n",
       "      <td>4</td>\n",
       "    </tr>\n",
       "    <tr>\n",
       "      <th>89</th>\n",
       "      <td>120</td>\n",
       "      <td>0</td>\n",
       "    </tr>\n",
       "  </tbody>\n",
       "</table>\n",
       "<p>90 rows × 2 columns</p>\n",
       "</div>"
      ],
      "text/plain": [
       "    cell_id  spot_count\n",
       "0         1           1\n",
       "1         3           1\n",
       "2         4           0\n",
       "3         5           0\n",
       "4         6           4\n",
       "..      ...         ...\n",
       "85      115           0\n",
       "86      116           3\n",
       "87      117           3\n",
       "88      118           4\n",
       "89      120           0\n",
       "\n",
       "[90 rows x 2 columns]"
      ]
     },
     "execution_count": 93,
     "metadata": {},
     "output_type": "execute_result"
    }
   ],
   "source": [
    "df_count_mat_g1  = qf.count_matrix(masks_nuclei, spots_clean_nuc_g1)\n",
    "df_count_mat_g1"
   ]
  },
  {
   "cell_type": "code",
   "execution_count": 94,
   "metadata": {},
   "outputs": [
    {
     "data": {
      "text/html": [
       "<div>\n",
       "<style scoped>\n",
       "    .dataframe tbody tr th:only-of-type {\n",
       "        vertical-align: middle;\n",
       "    }\n",
       "\n",
       "    .dataframe tbody tr th {\n",
       "        vertical-align: top;\n",
       "    }\n",
       "\n",
       "    .dataframe thead th {\n",
       "        text-align: right;\n",
       "    }\n",
       "</style>\n",
       "<table border=\"1\" class=\"dataframe\">\n",
       "  <thead>\n",
       "    <tr style=\"text-align: right;\">\n",
       "      <th></th>\n",
       "      <th>cell_id</th>\n",
       "      <th>spot_count</th>\n",
       "    </tr>\n",
       "  </thead>\n",
       "  <tbody>\n",
       "    <tr>\n",
       "      <th>0</th>\n",
       "      <td>1</td>\n",
       "      <td>8</td>\n",
       "    </tr>\n",
       "    <tr>\n",
       "      <th>1</th>\n",
       "      <td>3</td>\n",
       "      <td>36</td>\n",
       "    </tr>\n",
       "    <tr>\n",
       "      <th>2</th>\n",
       "      <td>4</td>\n",
       "      <td>7</td>\n",
       "    </tr>\n",
       "    <tr>\n",
       "      <th>3</th>\n",
       "      <td>5</td>\n",
       "      <td>4</td>\n",
       "    </tr>\n",
       "    <tr>\n",
       "      <th>4</th>\n",
       "      <td>6</td>\n",
       "      <td>28</td>\n",
       "    </tr>\n",
       "    <tr>\n",
       "      <th>...</th>\n",
       "      <td>...</td>\n",
       "      <td>...</td>\n",
       "    </tr>\n",
       "    <tr>\n",
       "      <th>85</th>\n",
       "      <td>115</td>\n",
       "      <td>16</td>\n",
       "    </tr>\n",
       "    <tr>\n",
       "      <th>86</th>\n",
       "      <td>116</td>\n",
       "      <td>36</td>\n",
       "    </tr>\n",
       "    <tr>\n",
       "      <th>87</th>\n",
       "      <td>117</td>\n",
       "      <td>15</td>\n",
       "    </tr>\n",
       "    <tr>\n",
       "      <th>88</th>\n",
       "      <td>118</td>\n",
       "      <td>15</td>\n",
       "    </tr>\n",
       "    <tr>\n",
       "      <th>89</th>\n",
       "      <td>120</td>\n",
       "      <td>11</td>\n",
       "    </tr>\n",
       "  </tbody>\n",
       "</table>\n",
       "<p>90 rows × 2 columns</p>\n",
       "</div>"
      ],
      "text/plain": [
       "    cell_id  spot_count\n",
       "0         1           8\n",
       "1         3          36\n",
       "2         4           7\n",
       "3         5           4\n",
       "4         6          28\n",
       "..      ...         ...\n",
       "85      115          16\n",
       "86      116          36\n",
       "87      117          15\n",
       "88      118          15\n",
       "89      120          11\n",
       "\n",
       "[90 rows x 2 columns]"
      ]
     },
     "execution_count": 94,
     "metadata": {},
     "output_type": "execute_result"
    }
   ],
   "source": [
    "df_count_mat_g2 = qf.count_matrix(masks_nuclei, spots_clean_nuc_g2)\n",
    "df_count_mat_g2"
   ]
  },
  {
   "cell_type": "markdown",
   "metadata": {},
   "source": [
    "Check visually that we counted correctly the number of rna's by putting your mouse on the top nuclei.   \n",
    "In napari the label L (in this case the nuclei id) can be seen at the bottom left of the window  [x,y]: L. "
   ]
  },
  {
   "cell_type": "code",
   "execution_count": 97,
   "metadata": {},
   "outputs": [],
   "source": [
    "value_max = np.percentile(im_dapi, 99.9)      # you can leave this napari window open\n",
    "viewer = napari.Viewer()\n",
    "viewer.add_image(im_dapi, rgb=False, name=f\" dapi\", contrast_limits=(0, value_max), opacity=0.5);\n",
    "viewer.add_labels(masks_nuclei, name=f\" nuclei cleaned segmentation\", opacity=0.5);\n",
    "viewer.add_points(spots_clean_nuc_g1,   name=f\" g1 cleaned spots in nuclei\",  size=5, face_color='green'); \n",
    "viewer.add_points(spots_clean_nuc_g2,   name=f\" g2 cleaned spots in nuclei\",  size=5, face_color='red'); "
   ]
  },
  {
   "cell_type": "code",
   "execution_count": 98,
   "metadata": {},
   "outputs": [
    {
     "data": {
      "image/png": "[encoded data removed]",
      "text/plain": [
       "<Figure size 400x200 with 1 Axes>"
      ]
     },
     "metadata": {},
     "output_type": "display_data"
    },
    {
     "data": {
      "image/png": "[encoded data removed]",
      "text/plain": [
       "<Figure size 400x200 with 1 Axes>"
      ]
     },
     "metadata": {},
     "output_type": "display_data"
    }
   ],
   "source": [
    "fig, ax = plt.subplots(figsize=(4,2))\n",
    "ax.hist(df_count_mat_g1['spot_count'].values, bins =30, color = 'green');\n",
    "ax.set_xlabel('spots / cell');\n",
    "ax.set_ylabel('gene 1');\n",
    "\n",
    "fig, ax = plt.subplots(figsize=(4,2))\n",
    "ax.hist(df_count_mat_g2['spot_count'].values, bins = 30, color = 'red');\n",
    "ax.set_xlabel('spots / cell');\n",
    "ax.set_ylabel('gene 2');"
   ]
  },
  {
   "cell_type": "markdown",
   "metadata": {},
   "source": [
    "c) Subcellular/ subnuclear location"
   ]
  },
  {
   "cell_type": "markdown",
   "metadata": {},
   "source": [
    "In Stueland et al.[2019], there are different indexes to characterize RNA distribution. \n",
    "\n",
    "Stueland, M., Wang, T., Park, H.Y. et al. RDI Calculator: An Analysis Tool to Assess RNA Distributions in Cells. Sci Rep 9, 8267 (2019). https://doi.org/10.1038/s41598-019-44783-2\n",
    "\n",
    "Applying these indexes, the authors of the following paper revealed widespread co-translational RNA targeting to various cytoplasmic locations and identified specialized translation factories that compartmentalize translation and regulate nascent protein metabolism.\n",
    "\n",
    "Chouaib, R., Safieddine, A., Pichon, X., Imbert, A., Kwon, O. S., Samacoits, A., Traboulsi, A. M., Robert, M. C., Tsanov, N., Coleno, E., et al. (2020). A dual protein–mRNA localization screen reveals compartmentalized translation and widespread co-translational RNA targeting. Developmental Cell, 54(6), 773–791.e5. https://doi.org/10.1016/j.devcel.2020.07.010\n"
   ]
  },
  {
   "cell_type": "markdown",
   "metadata": {},
   "source": [
    "<div style=\"text-align: center;\">\n",
    "  <img src=\"misc/subcellular_location.png\" alt=\"FISH imaging\" width=\"706\" height=\"439\">\n",
    "</div>\n",
    "\n",
    "The polarization index (PI) and the dispersion index µ2 are computed as:\n",
    "\n",
    " \n",
    "<div style=\"text-align: left;\">\n",
    "  <img src=\"misc/PI.png\" alt=\" \" width=\"332\" height=\"75\" style=\"display: inline-block; margin-right: 5px; vertical-align: middle;\">\n",
    "  <img src=\"misc/DI.png\" alt=\" \" width=\"176\" height=\"75\" style=\"display: inline-block; vertical-align: middle;\">\n",
    "</div>\n",
    "\n",
    "\n",
    "Rg being the radius of gyration of the cell. \n",
    "r is the distance of the pixel (i,j) to the centroid of the RNA signal and I is the intensity value of pixel (i,j)\n",
    "in the two dimensional image. \n",
    "\n",
    "The Peripheral Distribution Index (PDI) is calculated similar to the dispersion index, but in this case the second moment\n",
    " of RNA pixel intensity positions is calculated relative to the centroid of the nucleus\n",
    "\n",
    "\n",
    "These indexes are implemented in bigfish."
   ]
  },
  {
   "cell_type": "code",
   "execution_count": 99,
   "metadata": {},
   "outputs": [],
   "source": [
    "# As we don't have the masks for the cells, and the nuclei are very packed \n",
    "# lets create artificially a mask for each cell making a dilation of the nuclei.\n",
    "\n",
    "d = 2 # pixels\n",
    "masks_cell = expand_labels(masks_nuclei, distance=d)\n",
    "\n",
    "viewer = napari.Viewer()\n",
    "viewer.add_image(im_dapi, rgb=False, name=f\" dapi\", contrast_limits=(0, value_max), opacity=0.5);\n",
    "viewer.add_labels(masks_cell, name=f\" masks cells\", opacity=0.5);\n",
    "viewer.add_labels(masks_nuclei, name=f\" masks nuclei\", opacity=0.5, blending='additive');"
   ]
  },
  {
   "cell_type": "markdown",
   "metadata": {},
   "source": [
    "Choose a nuclei in napari and note its label.\n",
    "Verify that the number of points is the same as in napari.\n",
    "\n",
    "We choose gene 2 as there are more spots on it."
   ]
  },
  {
   "cell_type": "code",
   "execution_count": 100,
   "metadata": {},
   "outputs": [
    {
     "name": "stdout",
     "output_type": "stream",
     "text": [
      "32\n"
     ]
    }
   ],
   "source": [
    "lab_n  = 107                              \n",
    "mask_c = np.zeros_like(masks_cell)\n",
    "mask_c[masks_cell == lab_n] = 1\n",
    "\n",
    "mask_n = np.zeros_like(masks_cell)\n",
    "mask_n[masks_nuclei == lab_n] = 1\n",
    "       \n",
    "spot_nuclei_n, _ = cl.subsel_points_in_mask_fish(spots_clean_nuc_g2, mask_c)\n",
    "print(len(spot_nuclei_n))         "
   ]
  },
  {
   "cell_type": "code",
   "execution_count": 101,
   "metadata": {},
   "outputs": [
    {
     "data": {
      "image/png": "[encoded data removed]",
      "text/plain": [
       "<Figure size 800x200 with 3 Axes>"
      ]
     },
     "metadata": {},
     "output_type": "display_data"
    }
   ],
   "source": [
    "temp = prepare_extracted_data(mask_c, nuc_mask = mask_n,   rna_coord=spot_nuclei_n, ndim= 2)\n",
    "(cell_mask, \n",
    "distance_cell,\n",
    "distance_cell_normalized,\n",
    "centroid_cell,\n",
    "distance_centroid_cell,\n",
    "nuc_mask,\n",
    "cell_mask_out_nuc,\n",
    "distance_nuc,\n",
    "distance_nuc_normalized,\n",
    "centroid_nuc,\n",
    "distance_centroid_nuc,\n",
    "rna_coord_out_nuc,\n",
    "centroid_rna,\n",
    "distance_centroid_rna,\n",
    "centroid_rna_out_nuc,\n",
    "distance_centroid_rna_out_nuc,\n",
    "distance_centrosome) = temp\n",
    "\n",
    "\n",
    "fig, ax = plt.subplots(1,3,figsize=(8,2))\n",
    "ax[0].imshow(cell_mask); ax[0].set_axis_off(); ax[0].set_title('nucleus mask');\n",
    "ax[1].imshow(distance_cell); ax[1].set_axis_off(); ax[1].set_title('distance to cell boundary');\n",
    "ax[2].imshow(distance_centroid_rna); ax[2].set_axis_off(); ax[2].set_title('distance to rna centroid');"
   ]
  },
  {
   "cell_type": "code",
   "execution_count": 102,
   "metadata": {},
   "outputs": [
    {
     "name": "stdout",
     "output_type": "stream",
     "text": [
      "Polarization index : 0.6124465317764333\n",
      "Dispersion index : 0.541591513842054\n",
      "Peripheral distribution index: 0.9774482015523206\n"
     ]
    }
   ],
   "source": [
    "ndim = 2\n",
    "index_polarization, index_dispersion, index_peripheral_distribution = features_dispersion(im_gene2, spot_nuclei_n, centroid_rna, cell_mask, centroid_cell, centroid_nuc, ndim, check_input=False)\n",
    "\n",
    "print(f\"Polarization index : {index_polarization}\")\n",
    "print(f\"Dispersion index : {index_dispersion}\")\n",
    "print(f\"Peripheral distribution index: {index_peripheral_distribution}\")\n"
   ]
  },
  {
   "cell_type": "markdown",
   "metadata": {},
   "source": [
    "Comment on the results of these indexes and on the spatial distributions we observe in our data."
   ]
  },
  {
   "cell_type": "markdown",
   "metadata": {},
   "source": [
    "#### d) Colocalization \n",
    "\n",
    "When we do the experiment with two or more genes, we can study their colocalization, which means to what extent two genes are expressed together in a given spatial scale. \n",
    "\n",
    "Studying the colocalization of two genes helps reveal their functional relationships, shared regulatory mechanisms, and potential combined effects on disease development"
   ]
  },
  {
   "cell_type": "code",
   "execution_count": 103,
   "metadata": {},
   "outputs": [],
   "source": [
    "value_max = np.percentile(im_dapi, 99.9)      # you can leave this napari window open\n",
    "viewer = napari.Viewer()\n",
    "viewer.add_image(im_dapi, rgb=False, name=f\" dapi\", contrast_limits=(0, value_max), opacity=0.5);\n",
    "viewer.add_labels(masks_nuclei, name=f\" cleaned segmentation\", opacity=0.5);\n",
    "viewer.add_points(spots_clean_nuc_g1,   name=f\" g1 cleaned spots in nuclei\",  size=5, face_color='green'); \n",
    "viewer.add_points(spots_clean_nuc_g2,   name=f\" g2 cleaned spots in nuclei\",  size=5, face_color='red'); "
   ]
  },
  {
   "cell_type": "markdown",
   "metadata": {},
   "source": [
    "d.1 The first information we want to know is whether two genes are expressed in a same cell."
   ]
  },
  {
   "cell_type": "code",
   "execution_count": 104,
   "metadata": {},
   "outputs": [
    {
     "data": {
      "text/html": [
       "<div>\n",
       "<style scoped>\n",
       "    .dataframe tbody tr th:only-of-type {\n",
       "        vertical-align: middle;\n",
       "    }\n",
       "\n",
       "    .dataframe tbody tr th {\n",
       "        vertical-align: top;\n",
       "    }\n",
       "\n",
       "    .dataframe thead th {\n",
       "        text-align: right;\n",
       "    }\n",
       "</style>\n",
       "<table border=\"1\" class=\"dataframe\">\n",
       "  <thead>\n",
       "    <tr style=\"text-align: right;\">\n",
       "      <th></th>\n",
       "      <th>cell_id</th>\n",
       "      <th>bin_coloc</th>\n",
       "    </tr>\n",
       "  </thead>\n",
       "  <tbody>\n",
       "    <tr>\n",
       "      <th>0</th>\n",
       "      <td>1</td>\n",
       "      <td>True</td>\n",
       "    </tr>\n",
       "    <tr>\n",
       "      <th>1</th>\n",
       "      <td>3</td>\n",
       "      <td>True</td>\n",
       "    </tr>\n",
       "    <tr>\n",
       "      <th>2</th>\n",
       "      <td>4</td>\n",
       "      <td>False</td>\n",
       "    </tr>\n",
       "    <tr>\n",
       "      <th>3</th>\n",
       "      <td>5</td>\n",
       "      <td>False</td>\n",
       "    </tr>\n",
       "    <tr>\n",
       "      <th>4</th>\n",
       "      <td>6</td>\n",
       "      <td>True</td>\n",
       "    </tr>\n",
       "    <tr>\n",
       "      <th>...</th>\n",
       "      <td>...</td>\n",
       "      <td>...</td>\n",
       "    </tr>\n",
       "    <tr>\n",
       "      <th>85</th>\n",
       "      <td>115</td>\n",
       "      <td>False</td>\n",
       "    </tr>\n",
       "    <tr>\n",
       "      <th>86</th>\n",
       "      <td>116</td>\n",
       "      <td>True</td>\n",
       "    </tr>\n",
       "    <tr>\n",
       "      <th>87</th>\n",
       "      <td>117</td>\n",
       "      <td>True</td>\n",
       "    </tr>\n",
       "    <tr>\n",
       "      <th>88</th>\n",
       "      <td>118</td>\n",
       "      <td>True</td>\n",
       "    </tr>\n",
       "    <tr>\n",
       "      <th>89</th>\n",
       "      <td>120</td>\n",
       "      <td>False</td>\n",
       "    </tr>\n",
       "  </tbody>\n",
       "</table>\n",
       "<p>90 rows × 2 columns</p>\n",
       "</div>"
      ],
      "text/plain": [
       "    cell_id  bin_coloc\n",
       "0         1       True\n",
       "1         3       True\n",
       "2         4      False\n",
       "3         5      False\n",
       "4         6       True\n",
       "..      ...        ...\n",
       "85      115      False\n",
       "86      116       True\n",
       "87      117       True\n",
       "88      118       True\n",
       "89      120      False\n",
       "\n",
       "[90 rows x 2 columns]"
      ]
     },
     "execution_count": 104,
     "metadata": {},
     "output_type": "execute_result"
    }
   ],
   "source": [
    "df_bin_coloc = qf.bin_colocalization(masks_nuclei, spots_clean_nuc_g1, spots_clean_nuc_g2)\n",
    "df_bin_coloc"
   ]
  },
  {
   "cell_type": "markdown",
   "metadata": {},
   "source": [
    "Choose a cell and verify manually that the algorithm output coherent results"
   ]
  },
  {
   "cell_type": "code",
   "execution_count": 105,
   "metadata": {},
   "outputs": [
    {
     "data": {
      "text/html": [
       "<div>\n",
       "<style scoped>\n",
       "    .dataframe tbody tr th:only-of-type {\n",
       "        vertical-align: middle;\n",
       "    }\n",
       "\n",
       "    .dataframe tbody tr th {\n",
       "        vertical-align: top;\n",
       "    }\n",
       "\n",
       "    .dataframe thead th {\n",
       "        text-align: right;\n",
       "    }\n",
       "</style>\n",
       "<table border=\"1\" class=\"dataframe\">\n",
       "  <thead>\n",
       "    <tr style=\"text-align: right;\">\n",
       "      <th></th>\n",
       "      <th>cell_id</th>\n",
       "      <th>bin_coloc</th>\n",
       "    </tr>\n",
       "  </thead>\n",
       "  <tbody>\n",
       "    <tr>\n",
       "      <th>78</th>\n",
       "      <td>106</td>\n",
       "      <td>False</td>\n",
       "    </tr>\n",
       "  </tbody>\n",
       "</table>\n",
       "</div>"
      ],
      "text/plain": [
       "    cell_id  bin_coloc\n",
       "78      106      False"
      ]
     },
     "execution_count": 105,
     "metadata": {},
     "output_type": "execute_result"
    }
   ],
   "source": [
    "df_bin_coloc[df_bin_coloc['cell_id']==106]   "
   ]
  },
  {
   "cell_type": "code",
   "execution_count": 106,
   "metadata": {},
   "outputs": [
    {
     "data": {
      "image/png": "[encoded data removed]",
      "text/plain": [
       "<Figure size 400x200 with 1 Axes>"
      ]
     },
     "metadata": {},
     "output_type": "display_data"
    }
   ],
   "source": [
    "count_ones  = np.sum(df_bin_coloc['bin_coloc'].values*1 == 1)\n",
    "count_zeros = np.sum(df_bin_coloc['bin_coloc'].values*1 == 0)\n",
    "\n",
    "fig, ax = plt.subplots(figsize=(4, 2))\n",
    "ax.bar([0, 1], [count_zeros, count_ones], tick_label=['False', 'True'])\n",
    "ax.set_xlabel('Both genes ')\n",
    "ax.set_ylabel('Count')\n",
    "ax.set_title('Binary colocalization counts in different cells')\n",
    "plt.show()"
   ]
  },
  {
   "cell_type": "markdown",
   "metadata": {},
   "source": [
    "d.1 We also may ask if the proportion of genes that are expressed at the same spatial location."
   ]
  },
  {
   "cell_type": "code",
   "execution_count": 107,
   "metadata": {},
   "outputs": [],
   "source": [
    "pixel_size = 112\n",
    "threshold  = pixel_size*2    # you can play with this variable, for instance threshold = pixel_size*5\n",
    "spots_1_colocalized, spots_2_colocalized, distances, pixel_size, indices_2, threshold = detect_spots_colocalization(spots_clean_nuc_g1, spots_clean_nuc_g2, pixel_size, threshold=threshold, return_indices=True, return_threshold=True)\n",
    "\n",
    "viewer = napari.Viewer()\n",
    "viewer.add_image(im_dapi, rgb=False, name=f\" dapi\", contrast_limits=(0, value_max), opacity=0.5);\n",
    "viewer.add_labels(masks_nuclei, name=f\" cleaned segmentation\", opacity=0.5);\n",
    "viewer.add_points(spots_1_colocalized,   name=f\" g1 colocalization spots\",  size=5, face_color='green'); \n",
    "viewer.add_points(spots_2_colocalized,   name=f\" g2 colocalization spots\",  size=5, face_color='red'); "
   ]
  },
  {
   "cell_type": "markdown",
   "metadata": {},
   "source": [
    "Lets define the proportion of colocalization at a given distance as the proportion of spots at a distance lower than a threshold over the minimum of spots of both genes.\n",
    "What if there would be a gene with a lot of spots, and another with a small number of spots. What if the second has all its \n",
    "spots matched ? Could you propose another definition ? \n",
    "\n",
    "<div style=\"text-align: center;\">\n",
    "  <img src=\"misc/colocalization.png\" alt=\"FISH imaging\" width=\"410\" height=\"75\">\n",
    "</div>"
   ]
  },
  {
   "cell_type": "code",
   "execution_count": 108,
   "metadata": {},
   "outputs": [],
   "source": [
    "n1 = len(spots_clean_nuc_g1)\n",
    "n2 = len(spots_clean_nuc_g2)\n",
    "pix_siz = 112\n",
    "dist_pix = np.arange(1,40)\n",
    "thresh_arr = (dist_pix*pix_siz).astype(float)\n",
    "\n",
    "prop_coloc = []\n",
    "for thresh in thresh_arr:\n",
    "    spots_1_colocalized, spots_2_colocalized, distances, pixel_size, indices_2, threshold = \\\n",
    "                detect_spots_colocalization(spots_clean_nuc_g1, spots_clean_nuc_g2, pix_siz, threshold=thresh, return_indices=True, return_threshold=True)\n",
    "    prop = 100*len(spots_1_colocalized)/np.min([n1,n2])\n",
    "    \n",
    "    prop_coloc.append(prop)"
   ]
  },
  {
   "cell_type": "code",
   "execution_count": 109,
   "metadata": {},
   "outputs": [
    {
     "data": {
      "text/plain": [
       "Text(0, 0.5, '% colocalization')"
      ]
     },
     "execution_count": 109,
     "metadata": {},
     "output_type": "execute_result"
    },
    {
     "data": {
      "image/png": "[encoded data removed]",
      "text/plain": [
       "<Figure size 400x200 with 1 Axes>"
      ]
     },
     "metadata": {},
     "output_type": "display_data"
    }
   ],
   "source": [
    "fig, ax = plt.subplots(figsize=(4,2))\n",
    "ax.plot(dist_pix, prop_coloc)\n",
    "ax.set_xlabel('distance (pixels)')\n",
    "ax.set_ylabel(\"% colocalization\")"
   ]
  },
  {
   "cell_type": "code",
   "execution_count": null,
   "metadata": {},
   "outputs": [],
   "source": []
  }
 ],
 "metadata": {
  "kernelspec": {
   "display_name": "spot_course_env",
   "language": "python",
   "name": "python3"
  },
  "language_info": {
   "codemirror_mode": {
    "name": "ipython",
    "version": 3
   },
   "file_extension": ".py",
   "mimetype": "text/x-python",
   "name": "python",
   "nbconvert_exporter": "python",
   "pygments_lexer": "ipython3",
   "version": "3.10.17"
  }
 },
 "nbformat": 4,
 "nbformat_minor": 2
}
