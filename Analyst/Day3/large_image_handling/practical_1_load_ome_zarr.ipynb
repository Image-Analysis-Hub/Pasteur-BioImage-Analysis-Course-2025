{
 "cells": [
  {
   "cell_type": "markdown",
   "id": "0c83bde8",
   "metadata": {},
   "source": [
    "# Loading OME-Zarrs in Python\n",
    "\n",
    "In this notebook we will load OME-Zarr files from the web using different libraries.\n",
    "\n",
    "We'll visualize the images using `napari` and web viewers."
   ]
  },
  {
   "cell_type": "markdown",
   "id": "9345e5c5",
   "metadata": {},
   "source": [
    "## URL of the OME-Zarr file\n",
    "\n",
    "OME-Zarr is a web compatible format, so we can load it directly from a URL."
   ]
  },
  {
   "cell_type": "code",
   "execution_count": 13,
   "id": "e4ee4e84",
   "metadata": {},
   "outputs": [],
   "source": [
    "url = \"https://uk1s3.embassy.ebi.ac.uk/idr/zarr/v0.4/idr0062A/6001240.zarr\""
   ]
  },
  {
   "cell_type": "markdown",
   "id": "6defdec9",
   "metadata": {},
   "source": [
    "## Using the `ome-zarr-py` library"
   ]
  },
  {
   "cell_type": "code",
   "execution_count": 14,
   "id": "5132dd00",
   "metadata": {},
   "outputs": [
    {
     "name": "stderr",
     "output_type": "stream",
     "text": [
      "/Users/malbert/miniconda3/envs/day3/lib/python3.11/site-packages/zarr/creation.py:610: UserWarning: ignoring keyword argument 'read_only'\n",
      "  compressor, fill_value = _kwargs_compat(compressor, fill_value, kwargs)\n"
     ]
    }
   ],
   "source": [
    "from ome_zarr.io import parse_url\n",
    "from ome_zarr.reader import Reader\n",
    "\n",
    "# read the image data\n",
    "reader = Reader(parse_url(url))\n",
    "\n",
    "# nodes may include images, labels etc\n",
    "nodes = list(reader())\n",
    "\n",
    "# first node will be the image pixel data\n",
    "image_node = nodes[0]\n",
    "\n",
    "dask_data = image_node.data"
   ]
  },
  {
   "cell_type": "code",
   "execution_count": 3,
   "id": "ed27fb43",
   "metadata": {},
   "outputs": [],
   "source": [
    "# We can view this in napari\n",
    "# NB: image axes are CZYX: split channels by C axis=0\n",
    "\n",
    "import napari\n",
    "\n",
    "viewer = napari.view_image(dask_data, channel_axis=0)"
   ]
  },
  {
   "cell_type": "markdown",
   "id": "7a27d1e2",
   "metadata": {},
   "source": [
    "## Using the ngff-zarr library"
   ]
  },
  {
   "cell_type": "code",
   "execution_count": 4,
   "id": "7f2ef429",
   "metadata": {},
   "outputs": [
    {
     "name": "stderr",
     "output_type": "stream",
     "text": [
      "/Users/malbert/miniconda3/envs/day3/lib/python3.11/site-packages/zarr/creation.py:610: UserWarning: ignoring keyword argument 'read_only'\n",
      "  compressor, fill_value = _kwargs_compat(compressor, fill_value, kwargs)\n"
     ]
    },
    {
     "data": {
      "text/plain": [
       "Multiscales(images=[NgffImage(data=dask.array<from-zarr, shape=(2, 236, 275, 271), dtype=uint16, chunksize=(1, 1, 275, 271), chunktype=numpy.ndarray>, dims=['c', 'z', 'y', 'x'], scale={'c': 1.0, 'z': 0.5002025531914894, 'y': 0.3603981534640209, 'x': 0.3603981534640209}, translation={'c': 0.0, 'z': 0.0, 'y': 0.0, 'x': 0.0}, name='image', axes_units={'c': None, 'z': 'micrometer', 'y': 'micrometer', 'x': 'micrometer'}, computed_callbacks=[]), NgffImage(data=dask.array<from-zarr, shape=(2, 236, 137, 135), dtype=uint16, chunksize=(1, 1, 137, 135), chunktype=numpy.ndarray>, dims=['c', 'z', 'y', 'x'], scale={'c': 1.0, 'z': 0.5002025531914894, 'y': 0.7207963069280418, 'x': 0.7207963069280418}, translation={'c': 0.0, 'z': 0.0, 'y': 0.0, 'x': 0.0}, name='image', axes_units={'c': None, 'z': 'micrometer', 'y': 'micrometer', 'x': 'micrometer'}, computed_callbacks=[]), NgffImage(data=dask.array<from-zarr, shape=(2, 236, 68, 67), dtype=uint16, chunksize=(1, 1, 68, 67), chunktype=numpy.ndarray>, dims=['c', 'z', 'y', 'x'], scale={'c': 1.0, 'z': 0.5002025531914894, 'y': 1.4415926138560835, 'x': 1.4415926138560835}, translation={'c': 0.0, 'z': 0.0, 'y': 0.0, 'x': 0.0}, name='image', axes_units={'c': None, 'z': 'micrometer', 'y': 'micrometer', 'x': 'micrometer'}, computed_callbacks=[])], metadata=Metadata(axes=[Axis(name='c', type='channel', unit=None), Axis(name='z', type='space', unit='micrometer'), Axis(name='y', type='space', unit='micrometer'), Axis(name='x', type='space', unit='micrometer')], datasets=[Dataset(path='0', coordinateTransformations=[Scale(scale=[1.0, 0.5002025531914894, 0.3603981534640209, 0.3603981534640209], type='scale')]), Dataset(path='1', coordinateTransformations=[Scale(scale=[1.0, 0.5002025531914894, 0.7207963069280418, 0.7207963069280418], type='scale')]), Dataset(path='2', coordinateTransformations=[Scale(scale=[1.0, 0.5002025531914894, 1.4415926138560835, 1.4415926138560835], type='scale')])], coordinateTransformations=None, omero=Omero(channels=[OmeroChannel(color='0000FF', window=OmeroWindow(min=0.0, max=65535.0, start=0.0, end=1500.0), label='LaminB1'), OmeroChannel(color='FFFF00', window=OmeroWindow(min=0.0, max=65535.0, start=0.0, end=1500.0), label='Dapi')]), name='image', version='0.4'), scale_factors=None, method=None, chunks=None)"
      ]
     },
     "execution_count": 4,
     "metadata": {},
     "output_type": "execute_result"
    }
   ],
   "source": [
    "import ngff_zarr as nz\n",
    "\n",
    "multiscales = nz.from_ngff_zarr(url)\n",
    "multiscales"
   ]
  },
  {
   "cell_type": "code",
   "execution_count": 5,
   "id": "b4f14c1e",
   "metadata": {},
   "outputs": [
    {
     "data": {
      "text/html": [
       "<table>\n",
       "    <tr>\n",
       "        <td>\n",
       "            <table style=\"border-collapse: collapse;\">\n",
       "                <thead>\n",
       "                    <tr>\n",
       "                        <td> </td>\n",
       "                        <th> Array </th>\n",
       "                        <th> Chunk </th>\n",
       "                    </tr>\n",
       "                </thead>\n",
       "                <tbody>\n",
       "                    \n",
       "                    <tr>\n",
       "                        <th> Bytes </th>\n",
       "                        <td> 16.77 MiB </td>\n",
       "                        <td> 540.68 kiB </td>\n",
       "                    </tr>\n",
       "                    \n",
       "                    <tr>\n",
       "                        <th> Shape </th>\n",
       "                        <td> (1, 236, 275, 271) </td>\n",
       "                        <td> (1, 59, 69, 136) </td>\n",
       "                    </tr>\n",
       "                    <tr>\n",
       "                        <th> Dask graph </th>\n",
       "                        <td colspan=\"2\"> 32 chunks in 2 graph layers </td>\n",
       "                    </tr>\n",
       "                    <tr>\n",
       "                        <th> Data type </th>\n",
       "                        <td colspan=\"2\"> int8 numpy.ndarray </td>\n",
       "                    </tr>\n",
       "                </tbody>\n",
       "            </table>\n",
       "        </td>\n",
       "        <td>\n",
       "        <svg width=\"418\" height=\"230\" style=\"stroke:rgb(0,0,0);stroke-width:1\" >\n",
       "\n",
       "  <!-- Horizontal lines -->\n",
       "  <line x1=\"0\" y1=\"0\" x2=\"25\" y2=\"0\" style=\"stroke-width:2\" />\n",
       "  <line x1=\"0\" y1=\"25\" x2=\"25\" y2=\"25\" style=\"stroke-width:2\" />\n",
       "\n",
       "  <!-- Vertical lines -->\n",
       "  <line x1=\"0\" y1=\"0\" x2=\"0\" y2=\"25\" style=\"stroke-width:2\" />\n",
       "  <line x1=\"25\" y1=\"0\" x2=\"25\" y2=\"25\" style=\"stroke-width:2\" />\n",
       "\n",
       "  <!-- Colored Rectangle -->\n",
       "  <polygon points=\"0.0,0.0 25.412616514582485,0.0 25.412616514582485,25.412616514582485 0.0,25.412616514582485\" style=\"fill:#ECB172A0;stroke-width:0\"/>\n",
       "\n",
       "  <!-- Text -->\n",
       "  <text x=\"12.706308\" y=\"45.412617\" font-size=\"1.0rem\" font-weight=\"100\" text-anchor=\"middle\" >1</text>\n",
       "  <text x=\"45.412617\" y=\"12.706308\" font-size=\"1.0rem\" font-weight=\"100\" text-anchor=\"middle\" transform=\"rotate(0,45.412617,12.706308)\">1</text>\n",
       "\n",
       "\n",
       "  <!-- Horizontal lines -->\n",
       "  <line x1=\"95\" y1=\"0\" x2=\"155\" y2=\"60\" style=\"stroke-width:2\" />\n",
       "  <line x1=\"95\" y1=\"30\" x2=\"155\" y2=\"90\" />\n",
       "  <line x1=\"95\" y1=\"60\" x2=\"155\" y2=\"120\" />\n",
       "  <line x1=\"95\" y1=\"90\" x2=\"155\" y2=\"150\" />\n",
       "  <line x1=\"95\" y1=\"120\" x2=\"155\" y2=\"180\" style=\"stroke-width:2\" />\n",
       "\n",
       "  <!-- Vertical lines -->\n",
       "  <line x1=\"95\" y1=\"0\" x2=\"95\" y2=\"120\" style=\"stroke-width:2\" />\n",
       "  <line x1=\"110\" y1=\"15\" x2=\"110\" y2=\"135\" />\n",
       "  <line x1=\"125\" y1=\"30\" x2=\"125\" y2=\"150\" />\n",
       "  <line x1=\"140\" y1=\"45\" x2=\"140\" y2=\"165\" />\n",
       "  <line x1=\"155\" y1=\"60\" x2=\"155\" y2=\"180\" style=\"stroke-width:2\" />\n",
       "\n",
       "  <!-- Colored Rectangle -->\n",
       "  <polygon points=\"95.0,0.0 155.57754010695186,60.57754010695187 155.57754010695186,180.57754010695186 95.0,120.0\" style=\"fill:#ECB172A0;stroke-width:0\"/>\n",
       "\n",
       "  <!-- Horizontal lines -->\n",
       "  <line x1=\"95\" y1=\"0\" x2=\"213\" y2=\"0\" style=\"stroke-width:2\" />\n",
       "  <line x1=\"110\" y1=\"15\" x2=\"228\" y2=\"15\" />\n",
       "  <line x1=\"125\" y1=\"30\" x2=\"243\" y2=\"30\" />\n",
       "  <line x1=\"140\" y1=\"45\" x2=\"258\" y2=\"45\" />\n",
       "  <line x1=\"155\" y1=\"60\" x2=\"273\" y2=\"60\" style=\"stroke-width:2\" />\n",
       "\n",
       "  <!-- Vertical lines -->\n",
       "  <line x1=\"95\" y1=\"0\" x2=\"155\" y2=\"60\" style=\"stroke-width:2\" />\n",
       "  <line x1=\"154\" y1=\"0\" x2=\"214\" y2=\"60\" />\n",
       "  <line x1=\"213\" y1=\"0\" x2=\"273\" y2=\"60\" style=\"stroke-width:2\" />\n",
       "\n",
       "  <!-- Colored Rectangle -->\n",
       "  <polygon points=\"95.0,0.0 213.25454545454545,0.0 273.8320855614973,60.57754010695187 155.57754010695186,60.57754010695187\" style=\"fill:#ECB172A0;stroke-width:0\"/>\n",
       "\n",
       "  <!-- Horizontal lines -->\n",
       "  <line x1=\"155\" y1=\"60\" x2=\"273\" y2=\"60\" style=\"stroke-width:2\" />\n",
       "  <line x1=\"155\" y1=\"90\" x2=\"273\" y2=\"90\" />\n",
       "  <line x1=\"155\" y1=\"120\" x2=\"273\" y2=\"120\" />\n",
       "  <line x1=\"155\" y1=\"150\" x2=\"273\" y2=\"150\" />\n",
       "  <line x1=\"155\" y1=\"180\" x2=\"273\" y2=\"180\" style=\"stroke-width:2\" />\n",
       "\n",
       "  <!-- Vertical lines -->\n",
       "  <line x1=\"155\" y1=\"60\" x2=\"155\" y2=\"180\" style=\"stroke-width:2\" />\n",
       "  <line x1=\"214\" y1=\"60\" x2=\"214\" y2=\"180\" />\n",
       "  <line x1=\"273\" y1=\"60\" x2=\"273\" y2=\"180\" style=\"stroke-width:2\" />\n",
       "\n",
       "  <!-- Colored Rectangle -->\n",
       "  <polygon points=\"155.57754010695186,60.57754010695187 273.8320855614973,60.57754010695187 273.8320855614973,180.57754010695186 155.57754010695186,180.57754010695186\" style=\"fill:#ECB172A0;stroke-width:0\"/>\n",
       "\n",
       "  <!-- Text -->\n",
       "  <text x=\"214.704813\" y=\"200.577540\" font-size=\"1.0rem\" font-weight=\"100\" text-anchor=\"middle\" >271</text>\n",
       "  <text x=\"293.832086\" y=\"120.577540\" font-size=\"1.0rem\" font-weight=\"100\" text-anchor=\"middle\" transform=\"rotate(-90,293.832086,120.577540)\">275</text>\n",
       "  <text x=\"115.288770\" y=\"170.288770\" font-size=\"1.0rem\" font-weight=\"100\" text-anchor=\"middle\" transform=\"rotate(45,115.288770,170.288770)\">236</text>\n",
       "</svg>\n",
       "        </td>\n",
       "    </tr>\n",
       "</table>"
      ],
      "text/plain": [
       "dask.array<from-zarr, shape=(1, 236, 275, 271), dtype=int8, chunksize=(1, 59, 69, 136), chunktype=numpy.ndarray>"
      ]
     },
     "execution_count": 5,
     "metadata": {},
     "output_type": "execute_result"
    }
   ],
   "source": [
    "import dask.array as da\n",
    "da.from_zarr(url+'/labels/0/0')"
   ]
  },
  {
   "cell_type": "code",
   "execution_count": 13,
   "id": "52d08ee1",
   "metadata": {},
   "outputs": [
    {
     "data": {
      "text/plain": [
       "{'images': [NgffImage(data=dask.array<from-zarr, shape=(2, 236, 275, 271), dtype=uint16, chunksize=(1, 1, 275, 271), chunktype=numpy.ndarray>, dims=['c', 'z', 'y', 'x'], scale={'c': 1.0, 'z': 0.5002025531914894, 'y': 0.3603981534640209, 'x': 0.3603981534640209}, translation={'c': 0.0, 'z': 0.0, 'y': 0.0, 'x': 0.0}, name='image', axes_units={'c': None, 'z': 'micrometer', 'y': 'micrometer', 'x': 'micrometer'}, computed_callbacks=[]),\n",
       "  NgffImage(data=dask.array<from-zarr, shape=(2, 236, 137, 135), dtype=uint16, chunksize=(1, 1, 137, 135), chunktype=numpy.ndarray>, dims=['c', 'z', 'y', 'x'], scale={'c': 1.0, 'z': 0.5002025531914894, 'y': 0.7207963069280418, 'x': 0.7207963069280418}, translation={'c': 0.0, 'z': 0.0, 'y': 0.0, 'x': 0.0}, name='image', axes_units={'c': None, 'z': 'micrometer', 'y': 'micrometer', 'x': 'micrometer'}, computed_callbacks=[]),\n",
       "  NgffImage(data=dask.array<from-zarr, shape=(2, 236, 68, 67), dtype=uint16, chunksize=(1, 1, 68, 67), chunktype=numpy.ndarray>, dims=['c', 'z', 'y', 'x'], scale={'c': 1.0, 'z': 0.5002025531914894, 'y': 1.4415926138560835, 'x': 1.4415926138560835}, translation={'c': 0.0, 'z': 0.0, 'y': 0.0, 'x': 0.0}, name='image', axes_units={'c': None, 'z': 'micrometer', 'y': 'micrometer', 'x': 'micrometer'}, computed_callbacks=[])],\n",
       " 'metadata': Metadata(axes=[Axis(name='c', type='channel', unit=None), Axis(name='z', type='space', unit='micrometer'), Axis(name='y', type='space', unit='micrometer'), Axis(name='x', type='space', unit='micrometer')], datasets=[Dataset(path='0', coordinateTransformations=[Scale(scale=[1.0, 0.5002025531914894, 0.3603981534640209, 0.3603981534640209], type='scale')]), Dataset(path='1', coordinateTransformations=[Scale(scale=[1.0, 0.5002025531914894, 0.7207963069280418, 0.7207963069280418], type='scale')]), Dataset(path='2', coordinateTransformations=[Scale(scale=[1.0, 0.5002025531914894, 1.4415926138560835, 1.4415926138560835], type='scale')])], coordinateTransformations=None, omero=Omero(channels=[OmeroChannel(color='0000FF', window=OmeroWindow(min=0.0, max=65535.0, start=0.0, end=1500.0), label='LaminB1'), OmeroChannel(color='FFFF00', window=OmeroWindow(min=0.0, max=65535.0, start=0.0, end=1500.0), label='Dapi')]), name='image', version='0.4'),\n",
       " 'scale_factors': None,\n",
       " 'method': None,\n",
       " 'chunks': None}"
      ]
     },
     "execution_count": 13,
     "metadata": {},
     "output_type": "execute_result"
    }
   ],
   "source": [
    "multiscales.__dict__"
   ]
  },
  {
   "cell_type": "markdown",
   "id": "b1f3b96f",
   "metadata": {},
   "source": [
    "What does the returned `multiscales` object look like? How do we access the data?"
   ]
  },
  {
   "cell_type": "code",
   "execution_count": 6,
   "id": "65110cb9",
   "metadata": {},
   "outputs": [
    {
     "name": "stdout",
     "output_type": "stream",
     "text": [
      "{'chunks': None,\n",
      " 'images': [NgffImage(data=dask.array<from-zarr, shape=(2, 236, 275, 271), dtype=uint16, chunksize=(1, 1, 275, 271), chunktype=numpy.ndarray>,\n",
      "                      dims=['c', 'z', 'y', 'x'],\n",
      "                      scale={'c': 1.0,\n",
      "                             'x': 0.3603981534640209,\n",
      "                             'y': 0.3603981534640209,\n",
      "                             'z': 0.5002025531914894},\n",
      "                      translation={'c': 0.0, 'x': 0.0, 'y': 0.0, 'z': 0.0},\n",
      "                      name='image',\n",
      "                      axes_units={'c': None,\n",
      "                                  'x': 'micrometer',\n",
      "                                  'y': 'micrometer',\n",
      "                                  'z': 'micrometer'},\n",
      "                      computed_callbacks=[]),\n",
      "            NgffImage(data=dask.array<from-zarr, shape=(2, 236, 137, 135), dtype=uint16, chunksize=(1, 1, 137, 135), chunktype=numpy.ndarray>,\n",
      "                      dims=['c', 'z', 'y', 'x'],\n",
      "                      scale={'c': 1.0,\n",
      "                             'x': 0.7207963069280418,\n",
      "                             'y': 0.7207963069280418,\n",
      "                             'z': 0.5002025531914894},\n",
      "                      translation={'c': 0.0, 'x': 0.0, 'y': 0.0, 'z': 0.0},\n",
      "                      name='image',\n",
      "                      axes_units={'c': None,\n",
      "                                  'x': 'micrometer',\n",
      "                                  'y': 'micrometer',\n",
      "                                  'z': 'micrometer'},\n",
      "                      computed_callbacks=[]),\n",
      "            NgffImage(data=dask.array<from-zarr, shape=(2, 236, 68, 67), dtype=uint16, chunksize=(1, 1, 68, 67), chunktype=numpy.ndarray>,\n",
      "                      dims=['c', 'z', 'y', 'x'],\n",
      "                      scale={'c': 1.0,\n",
      "                             'x': 1.4415926138560835,\n",
      "                             'y': 1.4415926138560835,\n",
      "                             'z': 0.5002025531914894},\n",
      "                      translation={'c': 0.0, 'x': 0.0, 'y': 0.0, 'z': 0.0},\n",
      "                      name='image',\n",
      "                      axes_units={'c': None,\n",
      "                                  'x': 'micrometer',\n",
      "                                  'y': 'micrometer',\n",
      "                                  'z': 'micrometer'},\n",
      "                      computed_callbacks=[])],\n",
      " 'metadata': Metadata(axes=[Axis(name='c', type='channel', unit=None),\n",
      "                            Axis(name='z', type='space', unit='micrometer'),\n",
      "                            Axis(name='y', type='space', unit='micrometer'),\n",
      "                            Axis(name='x', type='space', unit='micrometer')],\n",
      "                      datasets=[Dataset(path='0',\n",
      "                                        coordinateTransformations=[Scale(scale=[1.0,\n",
      "                                                                                0.5002025531914894,\n",
      "                                                                                0.3603981534640209,\n",
      "                                                                                0.3603981534640209],\n",
      "                                                                         type='scale')]),\n",
      "                                Dataset(path='1',\n",
      "                                        coordinateTransformations=[Scale(scale=[1.0,\n",
      "                                                                                0.5002025531914894,\n",
      "                                                                                0.7207963069280418,\n",
      "                                                                                0.7207963069280418],\n",
      "                                                                         type='scale')]),\n",
      "                                Dataset(path='2',\n",
      "                                        coordinateTransformations=[Scale(scale=[1.0,\n",
      "                                                                                0.5002025531914894,\n",
      "                                                                                1.4415926138560835,\n",
      "                                                                                1.4415926138560835],\n",
      "                                                                         type='scale')])],\n",
      "                      coordinateTransformations=None,\n",
      "                      omero=Omero(channels=[OmeroChannel(color='0000FF',\n",
      "                                                         window=OmeroWindow(min=0.0,\n",
      "                                                                            max=65535.0,\n",
      "                                                                            start=0.0,\n",
      "                                                                            end=1500.0),\n",
      "                                                         label='LaminB1'),\n",
      "                                            OmeroChannel(color='FFFF00',\n",
      "                                                         window=OmeroWindow(min=0.0,\n",
      "                                                                            max=65535.0,\n",
      "                                                                            start=0.0,\n",
      "                                                                            end=1500.0),\n",
      "                                                         label='Dapi')]),\n",
      "                      name='image',\n",
      "                      version='0.4'),\n",
      " 'method': None,\n",
      " 'scale_factors': None}\n"
     ]
    }
   ],
   "source": [
    "import pprint\n",
    "pprint.pprint(multiscales.__dict__)"
   ]
  },
  {
   "cell_type": "code",
   "execution_count": 7,
   "id": "acaf33f1",
   "metadata": {},
   "outputs": [
    {
     "data": {
      "text/html": [
       "<table>\n",
       "    <tr>\n",
       "        <td>\n",
       "            <table style=\"border-collapse: collapse;\">\n",
       "                <thead>\n",
       "                    <tr>\n",
       "                        <td> </td>\n",
       "                        <th> Array </th>\n",
       "                        <th> Chunk </th>\n",
       "                    </tr>\n",
       "                </thead>\n",
       "                <tbody>\n",
       "                    \n",
       "                    <tr>\n",
       "                        <th> Bytes </th>\n",
       "                        <td> 67.09 MiB </td>\n",
       "                        <td> 145.56 kiB </td>\n",
       "                    </tr>\n",
       "                    \n",
       "                    <tr>\n",
       "                        <th> Shape </th>\n",
       "                        <td> (2, 236, 275, 271) </td>\n",
       "                        <td> (1, 1, 275, 271) </td>\n",
       "                    </tr>\n",
       "                    <tr>\n",
       "                        <th> Dask graph </th>\n",
       "                        <td colspan=\"2\"> 472 chunks in 2 graph layers </td>\n",
       "                    </tr>\n",
       "                    <tr>\n",
       "                        <th> Data type </th>\n",
       "                        <td colspan=\"2\"> uint16 numpy.ndarray </td>\n",
       "                    </tr>\n",
       "                </tbody>\n",
       "            </table>\n",
       "        </td>\n",
       "        <td>\n",
       "        <svg width=\"418\" height=\"230\" style=\"stroke:rgb(0,0,0);stroke-width:1\" >\n",
       "\n",
       "  <!-- Horizontal lines -->\n",
       "  <line x1=\"0\" y1=\"0\" x2=\"25\" y2=\"0\" style=\"stroke-width:2\" />\n",
       "  <line x1=\"0\" y1=\"25\" x2=\"25\" y2=\"25\" style=\"stroke-width:2\" />\n",
       "\n",
       "  <!-- Vertical lines -->\n",
       "  <line x1=\"0\" y1=\"0\" x2=\"0\" y2=\"25\" style=\"stroke-width:2\" />\n",
       "  <line x1=\"12\" y1=\"0\" x2=\"12\" y2=\"25\" />\n",
       "  <line x1=\"25\" y1=\"0\" x2=\"25\" y2=\"25\" style=\"stroke-width:2\" />\n",
       "\n",
       "  <!-- Colored Rectangle -->\n",
       "  <polygon points=\"0.0,0.0 25.412616514582485,0.0 25.412616514582485,25.412616514582485 0.0,25.412616514582485\" style=\"fill:#ECB172A0;stroke-width:0\"/>\n",
       "\n",
       "  <!-- Text -->\n",
       "  <text x=\"12.706308\" y=\"45.412617\" font-size=\"1.0rem\" font-weight=\"100\" text-anchor=\"middle\" >2</text>\n",
       "  <text x=\"45.412617\" y=\"12.706308\" font-size=\"1.0rem\" font-weight=\"100\" text-anchor=\"middle\" transform=\"rotate(0,45.412617,12.706308)\">1</text>\n",
       "\n",
       "\n",
       "  <!-- Horizontal lines -->\n",
       "  <line x1=\"95\" y1=\"0\" x2=\"155\" y2=\"60\" style=\"stroke-width:2\" />\n",
       "  <line x1=\"95\" y1=\"120\" x2=\"155\" y2=\"180\" style=\"stroke-width:2\" />\n",
       "\n",
       "  <!-- Vertical lines -->\n",
       "  <line x1=\"95\" y1=\"0\" x2=\"95\" y2=\"120\" style=\"stroke-width:2\" />\n",
       "  <line x1=\"96\" y1=\"1\" x2=\"96\" y2=\"121\" />\n",
       "  <line x1=\"98\" y1=\"3\" x2=\"98\" y2=\"123\" />\n",
       "  <line x1=\"100\" y1=\"5\" x2=\"100\" y2=\"125\" />\n",
       "  <line x1=\"102\" y1=\"7\" x2=\"102\" y2=\"127\" />\n",
       "  <line x1=\"104\" y1=\"9\" x2=\"104\" y2=\"129\" />\n",
       "  <line x1=\"106\" y1=\"11\" x2=\"106\" y2=\"131\" />\n",
       "  <line x1=\"108\" y1=\"13\" x2=\"108\" y2=\"133\" />\n",
       "  <line x1=\"110\" y1=\"15\" x2=\"110\" y2=\"135\" />\n",
       "  <line x1=\"111\" y1=\"16\" x2=\"111\" y2=\"136\" />\n",
       "  <line x1=\"113\" y1=\"18\" x2=\"113\" y2=\"138\" />\n",
       "  <line x1=\"115\" y1=\"20\" x2=\"115\" y2=\"140\" />\n",
       "  <line x1=\"117\" y1=\"22\" x2=\"117\" y2=\"142\" />\n",
       "  <line x1=\"119\" y1=\"24\" x2=\"119\" y2=\"144\" />\n",
       "  <line x1=\"121\" y1=\"26\" x2=\"121\" y2=\"146\" />\n",
       "  <line x1=\"123\" y1=\"28\" x2=\"123\" y2=\"148\" />\n",
       "  <line x1=\"125\" y1=\"30\" x2=\"125\" y2=\"150\" />\n",
       "  <line x1=\"127\" y1=\"32\" x2=\"127\" y2=\"152\" />\n",
       "  <line x1=\"128\" y1=\"33\" x2=\"128\" y2=\"153\" />\n",
       "  <line x1=\"130\" y1=\"35\" x2=\"130\" y2=\"155\" />\n",
       "  <line x1=\"132\" y1=\"37\" x2=\"132\" y2=\"157\" />\n",
       "  <line x1=\"134\" y1=\"39\" x2=\"134\" y2=\"159\" />\n",
       "  <line x1=\"136\" y1=\"41\" x2=\"136\" y2=\"161\" />\n",
       "  <line x1=\"138\" y1=\"43\" x2=\"138\" y2=\"163\" />\n",
       "  <line x1=\"140\" y1=\"45\" x2=\"140\" y2=\"165\" />\n",
       "  <line x1=\"142\" y1=\"47\" x2=\"142\" y2=\"167\" />\n",
       "  <line x1=\"144\" y1=\"49\" x2=\"144\" y2=\"169\" />\n",
       "  <line x1=\"146\" y1=\"51\" x2=\"146\" y2=\"171\" />\n",
       "  <line x1=\"147\" y1=\"52\" x2=\"147\" y2=\"172\" />\n",
       "  <line x1=\"149\" y1=\"54\" x2=\"149\" y2=\"174\" />\n",
       "  <line x1=\"151\" y1=\"56\" x2=\"151\" y2=\"176\" />\n",
       "  <line x1=\"153\" y1=\"58\" x2=\"153\" y2=\"178\" />\n",
       "  <line x1=\"155\" y1=\"60\" x2=\"155\" y2=\"180\" style=\"stroke-width:2\" />\n",
       "\n",
       "  <!-- Colored Rectangle -->\n",
       "  <polygon points=\"95.0,0.0 155.57754010695186,60.57754010695187 155.57754010695186,180.57754010695186 95.0,120.0\" style=\"fill:#8B4903A0;stroke-width:0\"/>\n",
       "\n",
       "  <!-- Horizontal lines -->\n",
       "  <line x1=\"95\" y1=\"0\" x2=\"213\" y2=\"0\" style=\"stroke-width:2\" />\n",
       "  <line x1=\"96\" y1=\"1\" x2=\"215\" y2=\"1\" />\n",
       "  <line x1=\"98\" y1=\"3\" x2=\"216\" y2=\"3\" />\n",
       "  <line x1=\"100\" y1=\"5\" x2=\"218\" y2=\"5\" />\n",
       "  <line x1=\"102\" y1=\"7\" x2=\"220\" y2=\"7\" />\n",
       "  <line x1=\"104\" y1=\"9\" x2=\"222\" y2=\"9\" />\n",
       "  <line x1=\"106\" y1=\"11\" x2=\"224\" y2=\"11\" />\n",
       "  <line x1=\"108\" y1=\"13\" x2=\"226\" y2=\"13\" />\n",
       "  <line x1=\"110\" y1=\"15\" x2=\"228\" y2=\"15\" />\n",
       "  <line x1=\"111\" y1=\"16\" x2=\"230\" y2=\"16\" />\n",
       "  <line x1=\"113\" y1=\"18\" x2=\"231\" y2=\"18\" />\n",
       "  <line x1=\"115\" y1=\"20\" x2=\"234\" y2=\"20\" />\n",
       "  <line x1=\"117\" y1=\"22\" x2=\"235\" y2=\"22\" />\n",
       "  <line x1=\"119\" y1=\"24\" x2=\"237\" y2=\"24\" />\n",
       "  <line x1=\"121\" y1=\"26\" x2=\"239\" y2=\"26\" />\n",
       "  <line x1=\"123\" y1=\"28\" x2=\"241\" y2=\"28\" />\n",
       "  <line x1=\"125\" y1=\"30\" x2=\"243\" y2=\"30\" />\n",
       "  <line x1=\"127\" y1=\"32\" x2=\"245\" y2=\"32\" />\n",
       "  <line x1=\"128\" y1=\"33\" x2=\"247\" y2=\"33\" />\n",
       "  <line x1=\"130\" y1=\"35\" x2=\"249\" y2=\"35\" />\n",
       "  <line x1=\"132\" y1=\"37\" x2=\"250\" y2=\"37\" />\n",
       "  <line x1=\"134\" y1=\"39\" x2=\"252\" y2=\"39\" />\n",
       "  <line x1=\"136\" y1=\"41\" x2=\"254\" y2=\"41\" />\n",
       "  <line x1=\"138\" y1=\"43\" x2=\"256\" y2=\"43\" />\n",
       "  <line x1=\"140\" y1=\"45\" x2=\"258\" y2=\"45\" />\n",
       "  <line x1=\"142\" y1=\"47\" x2=\"260\" y2=\"47\" />\n",
       "  <line x1=\"144\" y1=\"49\" x2=\"262\" y2=\"49\" />\n",
       "  <line x1=\"146\" y1=\"51\" x2=\"264\" y2=\"51\" />\n",
       "  <line x1=\"147\" y1=\"52\" x2=\"266\" y2=\"52\" />\n",
       "  <line x1=\"149\" y1=\"54\" x2=\"267\" y2=\"54\" />\n",
       "  <line x1=\"151\" y1=\"56\" x2=\"269\" y2=\"56\" />\n",
       "  <line x1=\"153\" y1=\"58\" x2=\"271\" y2=\"58\" />\n",
       "  <line x1=\"155\" y1=\"60\" x2=\"273\" y2=\"60\" style=\"stroke-width:2\" />\n",
       "\n",
       "  <!-- Vertical lines -->\n",
       "  <line x1=\"95\" y1=\"0\" x2=\"155\" y2=\"60\" style=\"stroke-width:2\" />\n",
       "  <line x1=\"213\" y1=\"0\" x2=\"273\" y2=\"60\" style=\"stroke-width:2\" />\n",
       "\n",
       "  <!-- Colored Rectangle -->\n",
       "  <polygon points=\"95.0,0.0 213.25454545454545,0.0 273.8320855614973,60.57754010695187 155.57754010695186,60.57754010695187\" style=\"fill:#8B4903A0;stroke-width:0\"/>\n",
       "\n",
       "  <!-- Horizontal lines -->\n",
       "  <line x1=\"155\" y1=\"60\" x2=\"273\" y2=\"60\" style=\"stroke-width:2\" />\n",
       "  <line x1=\"155\" y1=\"180\" x2=\"273\" y2=\"180\" style=\"stroke-width:2\" />\n",
       "\n",
       "  <!-- Vertical lines -->\n",
       "  <line x1=\"155\" y1=\"60\" x2=\"155\" y2=\"180\" style=\"stroke-width:2\" />\n",
       "  <line x1=\"273\" y1=\"60\" x2=\"273\" y2=\"180\" style=\"stroke-width:2\" />\n",
       "\n",
       "  <!-- Colored Rectangle -->\n",
       "  <polygon points=\"155.57754010695186,60.57754010695187 273.8320855614973,60.57754010695187 273.8320855614973,180.57754010695186 155.57754010695186,180.57754010695186\" style=\"fill:#ECB172A0;stroke-width:0\"/>\n",
       "\n",
       "  <!-- Text -->\n",
       "  <text x=\"214.704813\" y=\"200.577540\" font-size=\"1.0rem\" font-weight=\"100\" text-anchor=\"middle\" >271</text>\n",
       "  <text x=\"293.832086\" y=\"120.577540\" font-size=\"1.0rem\" font-weight=\"100\" text-anchor=\"middle\" transform=\"rotate(-90,293.832086,120.577540)\">275</text>\n",
       "  <text x=\"115.288770\" y=\"170.288770\" font-size=\"1.0rem\" font-weight=\"100\" text-anchor=\"middle\" transform=\"rotate(45,115.288770,170.288770)\">236</text>\n",
       "</svg>\n",
       "        </td>\n",
       "    </tr>\n",
       "</table>"
      ],
      "text/plain": [
       "dask.array<from-zarr, shape=(2, 236, 275, 271), dtype=uint16, chunksize=(1, 1, 275, 271), chunktype=numpy.ndarray>"
      ]
     },
     "execution_count": 7,
     "metadata": {},
     "output_type": "execute_result"
    }
   ],
   "source": [
    "# here's how we can access the data\n",
    "\n",
    "# this is the first image in the multiscale pyramidal representation\n",
    "multiscales.images[0].data"
   ]
  },
  {
   "cell_type": "markdown",
   "id": "504cd824",
   "metadata": {},
   "source": [
    "Let's show the highest resolution in napari."
   ]
  },
  {
   "cell_type": "code",
   "execution_count": 19,
   "id": "87c81813",
   "metadata": {},
   "outputs": [],
   "source": [
    "viewer = napari.view_image(\n",
    "    multiscales.images[0].data,\n",
    "    channel_axis=0)"
   ]
  },
  {
   "cell_type": "markdown",
   "id": "e2ca9c2c",
   "metadata": {},
   "source": [
    "Let's show the multiscale pyramidal image in napari."
   ]
  },
  {
   "cell_type": "code",
   "execution_count": 12,
   "id": "9efed8bb",
   "metadata": {},
   "outputs": [],
   "source": [
    "viewer = napari.view_image(\n",
    "    [image.data for image in multiscales.images],\n",
    "    channel_axis=0)"
   ]
  },
  {
   "cell_type": "markdown",
   "id": "f5b375eb",
   "metadata": {},
   "source": [
    "## Open in napari directly\n",
    "\n",
    "Using the `napari-ome-zarr` plugin."
   ]
  },
  {
   "cell_type": "code",
   "execution_count": 16,
   "id": "af05c6bc",
   "metadata": {},
   "outputs": [
    {
     "name": "stderr",
     "output_type": "stream",
     "text": [
      "/Users/malbert/miniconda3/envs/day3/lib/python3.11/site-packages/zarr/creation.py:610: UserWarning: ignoring keyword argument 'read_only'\n",
      "  compressor, fill_value = _kwargs_compat(compressor, fill_value, kwargs)\n",
      "/Users/malbert/miniconda3/envs/day3/lib/python3.11/site-packages/napari/utils/colormaps/colormap.py:435: UserWarning: color_dict did not provide a default color. Missing keys will be transparent. To provide a default color, use the key `None`, or provide a defaultdict instance.\n",
      "  warn(\n",
      "OMP: Info #276: omp_set_nested routine deprecated, please use omp_set_max_active_levels instead.\n"
     ]
    },
    {
     "data": {
      "text/plain": [
       "[<Image layer 'LaminB1' at 0x295d9ac50>,\n",
       " <Image layer 'Dapi' at 0x2a12f8dd0>,\n",
       " <Labels layer '0' at 0x2a491ac50>]"
      ]
     },
     "execution_count": 16,
     "metadata": {},
     "output_type": "execute_result"
    }
   ],
   "source": [
    "viewer = napari.Viewer()\n",
    "viewer.open(\n",
    "    # \"https://uk1s3.embassy.ebi.ac.uk/idr/zarr/v0.4/idr0101A/13457537.zarr\",\n",
    "    \"https://uk1s3.embassy.ebi.ac.uk/idr/zarr/v0.4/idr0062A/6001240.zarr\",\n",
    "    plugin=\"napari-ome-zarr\")"
   ]
  },
  {
   "cell_type": "markdown",
   "id": "fd0ed3f4",
   "metadata": {},
   "source": [
    "## Load in web viewers\n",
    "\n",
    "There's a website to give an overview over a OME-Zarr file (and validate it):\n",
    "\n",
    "`https://ome.github.io/ome-ngff-validator/?source=`\n",
    "\n",
    "The link just needs to be completed with the URL of the OME-Zarr file. For the example above, the link would be:\n",
    "\n",
    "https://ome.github.io/ome-ngff-validator/?source=https://uk1s3.embassy.ebi.ac.uk/idr/zarr/v0.4/idr0062A/6001240.zarr\n",
    "\n",
    "It also displays links to load the OME-Zarr in web viewers like `neuroglancer` or `vizarr`."
   ]
  },
  {
   "cell_type": "markdown",
   "id": "35177ac9",
   "metadata": {},
   "source": [
    "## Save as OME-Zarr locally\n",
    "\n",
    "Let's save the OME-Zarr file locally and inspect the file structure."
   ]
  },
  {
   "cell_type": "code",
   "execution_count": 21,
   "id": "2c3b2ae7",
   "metadata": {},
   "outputs": [
    {
     "name": "stderr",
     "output_type": "stream",
     "text": [
      "/Users/malbert/miniconda3/envs/day3/lib/python3.11/site-packages/zarr/creation.py:610: UserWarning: ignoring keyword argument 'read_only'\n",
      "  compressor, fill_value = _kwargs_compat(compressor, fill_value, kwargs)\n",
      "/Users/malbert/miniconda3/envs/day3/lib/python3.11/site-packages/dask/array/utils.py:104: RuntimeWarning: invalid value encountered in cast\n",
      "  meta = meta.astype(dtype)\n"
     ]
    }
   ],
   "source": [
    "multiscales = nz.from_ngff_zarr(url)\n",
    "\n",
    "nz.to_ngff_zarr(\n",
    "    './test_image.ome.zarr',\n",
    "    multiscales,\n",
    ")"
   ]
  },
  {
   "cell_type": "code",
   "execution_count": null,
   "id": "df3ed369",
   "metadata": {},
   "outputs": [
    {
     "name": "stderr",
     "output_type": "stream",
     "text": [
      "/Users/malbert/miniconda3/envs/day3/lib/python3.11/site-packages/zarr/creation.py:610: UserWarning: ignoring keyword argument 'read_only'\n",
      "  compressor, fill_value = _kwargs_compat(compressor, fill_value, kwargs)\n"
     ]
    },
    {
     "data": {
      "text/plain": [
       "[<Image layer 'LaminB1' at 0x2925f8550>, <Image layer 'Dapi' at 0x296c323d0>]"
      ]
     },
     "execution_count": 22,
     "metadata": {},
     "output_type": "execute_result"
    }
   ],
   "source": [
    "# view it in napari\n",
    "\n",
    "viewer = napari.Viewer()\n",
    "viewer.open(\n",
    "    './test_image.ome.zarr',\n",
    "    plugin=\"napari-ome-zarr\")"
   ]
  },
  {
   "cell_type": "markdown",
   "id": "0f3b304a",
   "metadata": {},
   "source": [
    "Or we can save any array to a file (simple mode)."
   ]
  },
  {
   "cell_type": "code",
   "execution_count": 35,
   "id": "ec6fdffe",
   "metadata": {},
   "outputs": [],
   "source": [
    "import numpy as np\n",
    "\n",
    "image = np.random.randint(0, 255, (10, 10, 10), dtype=np.uint8)\n",
    "\n",
    "ngff_image = nz.ngff_image.NgffImage(\n",
    "    data=image,\n",
    "    dims=['z', 'y', 'x'],\n",
    "    scale={'z': 1., 'y': 0.5, 'x': 0.5},\n",
    "    translation={'z': 0., 'y': 0., 'x': 0.},\n",
    ")\n",
    "\n",
    "multiscales = nz.to_multiscales(\n",
    "    ngff_image,\n",
    "    [2, 4]\n",
    ")\n",
    "\n",
    "nz.to_ngff_zarr(\n",
    "    './test_image_np.ome.zarr',\n",
    "    multiscales,\n",
    ")"
   ]
  },
  {
   "cell_type": "markdown",
   "id": "c48a8d67",
   "metadata": {},
   "source": [
    "## Load local OME-Zarr in web viewers\n",
    "\n",
    "In order to access our local file over the web, we need to serve the file over HTTP."
   ]
  },
  {
   "cell_type": "code",
   "execution_count": 35,
   "id": "6db68e32",
   "metadata": {},
   "outputs": [
    {
     "name": "stdout",
     "output_type": "stream",
     "text": [
      "Serving HTTP on :: port 8000 (http://[::]:8000/) ...\n"
     ]
    },
    {
     "name": "stderr",
     "output_type": "stream",
     "text": [
      "::1 - - [13/May/2025 00:09:25] code 501, message Unsupported method ('OPTIONS')\n",
      "::1 - - [13/May/2025 00:09:25] \"OPTIONS /test_image_np.ome.zarr/zarr.json HTTP/1.1\" 501 -\n",
      "::1 - - [13/May/2025 00:09:25] code 404, message File not found\n",
      "::1 - - [13/May/2025 00:09:25] \"GET /test_image_np.ome.zarr/zarr.json HTTP/1.1\" 404 -\n",
      "::1 - - [13/May/2025 00:09:25] code 501, message Unsupported method ('OPTIONS')\n",
      "::1 - - [13/May/2025 00:09:25] \"OPTIONS /test_image_np.ome.zarr/.zattrs HTTP/1.1\" 501 -\n",
      "::1 - - [13/May/2025 00:09:25] \"GET /test_image_np.ome.zarr/.zattrs HTTP/1.1\" 304 -\n",
      "::1 - - [13/May/2025 00:09:25] code 501, message Unsupported method ('OPTIONS')\n",
      "::1 - - [13/May/2025 00:09:25] \"OPTIONS /test_image_np.ome.zarr/labels/.zattrs HTTP/1.1\" 501 -\n",
      "::1 - - [13/May/2025 00:09:25] code 404, message File not found\n",
      "::1 - - [13/May/2025 00:09:25] \"GET /test_image_np.ome.zarr/labels/.zattrs HTTP/1.1\" 404 -\n",
      "::1 - - [13/May/2025 00:09:25] code 501, message Unsupported method ('OPTIONS')\n",
      "::1 - - [13/May/2025 00:09:25] \"OPTIONS /test_image_np.ome.zarr/scale0/image/zarr.json HTTP/1.1\" 501 -\n",
      "::1 - - [13/May/2025 00:09:25] code 404, message File not found\n",
      "::1 - - [13/May/2025 00:09:25] \"GET /test_image_np.ome.zarr/scale0/image/zarr.json HTTP/1.1\" 404 -\n",
      "::1 - - [13/May/2025 00:09:25] code 501, message Unsupported method ('OPTIONS')\n",
      "::1 - - [13/May/2025 00:09:25] \"OPTIONS /test_image_np.ome.zarr/.zattrs HTTP/1.1\" 501 -\n",
      "::1 - - [13/May/2025 00:09:25] code 501, message Unsupported method ('OPTIONS')\n",
      "::1 - - [13/May/2025 00:09:25] \"OPTIONS /test_image_np.ome.zarr/scale2/image/.zarray HTTP/1.1\" 501 -\n",
      "::1 - - [13/May/2025 00:09:25] \"GET /test_image_np.ome.zarr/scale2/image/.zarray HTTP/1.1\" 304 -\n",
      "::1 - - [13/May/2025 00:09:25] code 501, message Unsupported method ('OPTIONS')\n",
      "::1 - - [13/May/2025 00:09:25] \"OPTIONS /test_image_np.ome.zarr/scale1/image/.zarray HTTP/1.1\" 501 -\n",
      "::1 - - [13/May/2025 00:09:25] code 501, message Unsupported method ('OPTIONS')\n",
      "::1 - - [13/May/2025 00:09:25] \"OPTIONS /test_image_np.ome.zarr/scale0/image/.zarray HTTP/1.1\" 501 -\n",
      "::1 - - [13/May/2025 00:09:25] \"GET /test_image_np.ome.zarr/scale1/image/.zarray HTTP/1.1\" 304 -\n",
      "::1 - - [13/May/2025 00:09:25] \"GET /test_image_np.ome.zarr/scale0/image/.zarray HTTP/1.1\" 304 -\n",
      "::1 - - [13/May/2025 00:09:25] code 501, message Unsupported method ('OPTIONS')\n",
      "::1 - - [13/May/2025 00:09:25] \"OPTIONS /test_image_np.ome.zarr/scale0/image/.zarray HTTP/1.1\" 501 -\n",
      "::1 - - [13/May/2025 00:09:25] code 501, message Unsupported method ('OPTIONS')\n",
      "::1 - - [13/May/2025 00:09:25] \"OPTIONS /test_image_np.ome.zarr/.zgroup HTTP/1.1\" 501 -\n",
      "::1 - - [13/May/2025 00:09:25] \"GET /test_image_np.ome.zarr/.zgroup HTTP/1.1\" 304 -\n",
      "::1 - - [13/May/2025 00:09:25] code 501, message Unsupported method ('OPTIONS')\n",
      "::1 - - [13/May/2025 00:09:25] \"OPTIONS /test_image_np.ome.zarr/scale1/image/zarr.json HTTP/1.1\" 501 -\n",
      "::1 - - [13/May/2025 00:09:25] code 501, message Unsupported method ('OPTIONS')\n",
      "::1 - - [13/May/2025 00:09:25] \"OPTIONS /test_image_np.ome.zarr/scale2/image/.zattrs HTTP/1.1\" 501 -\n",
      "::1 - - [13/May/2025 00:09:25] code 404, message File not found\n",
      "::1 - - [13/May/2025 00:09:25] \"GET /test_image_np.ome.zarr/scale1/image/zarr.json HTTP/1.1\" 404 -\n",
      "::1 - - [13/May/2025 00:09:25] code 404, message File not found\n",
      "::1 - - [13/May/2025 00:09:25] \"GET /test_image_np.ome.zarr/scale2/image/.zattrs HTTP/1.1\" 404 -\n",
      "::1 - - [13/May/2025 00:09:25] code 501, message Unsupported method ('OPTIONS')\n",
      "::1 - - [13/May/2025 00:09:25] \"OPTIONS /test_image_np.ome.zarr/scale1/image/.zarray HTTP/1.1\" 501 -\n",
      "::1 - - [13/May/2025 00:09:25] code 501, message Unsupported method ('OPTIONS')\n",
      "::1 - - [13/May/2025 00:09:25] \"OPTIONS /test_image_np.ome.zarr/scale2/image/zarr.json HTTP/1.1\" 501 -\n",
      "::1 - - [13/May/2025 00:09:25] code 501, message Unsupported method ('OPTIONS')\n",
      "::1 - - [13/May/2025 00:09:25] \"OPTIONS /test_image_np.ome.zarr/scale2/image/.zarray HTTP/1.1\" 501 -\n",
      "::1 - - [13/May/2025 00:09:25] code 404, message File not found\n",
      "::1 - - [13/May/2025 00:09:25] \"GET /test_image_np.ome.zarr/scale2/image/zarr.json HTTP/1.1\" 404 -\n",
      "::1 - - [13/May/2025 00:09:25] code 501, message Unsupported method ('OPTIONS')\n",
      "::1 - - [13/May/2025 00:09:25] \"OPTIONS /test_image_np.ome.zarr/scale2/image/.zarray HTTP/1.1\" 501 -\n",
      "::1 - - [13/May/2025 00:09:25] code 501, message Unsupported method ('OPTIONS')\n",
      "::1 - - [13/May/2025 00:09:25] \"OPTIONS /test_image_np.ome.zarr/scale0/image/.zattrs HTTP/1.1\" 501 -\n",
      "::1 - - [13/May/2025 00:09:25] code 404, message File not found\n",
      "::1 - - [13/May/2025 00:09:25] \"GET /test_image_np.ome.zarr/scale0/image/.zattrs HTTP/1.1\" 404 -\n",
      "::1 - - [13/May/2025 00:09:25] code 501, message Unsupported method ('OPTIONS')\n",
      "::1 - - [13/May/2025 00:09:25] \"OPTIONS /test_image_np.ome.zarr/scale0/image/.zarray HTTP/1.1\" 501 -\n",
      "::1 - - [13/May/2025 00:09:25] code 501, message Unsupported method ('OPTIONS')\n",
      "::1 - - [13/May/2025 00:09:25] \"OPTIONS /test_image_np.ome.zarr/scale0/image/0/0/0 HTTP/1.1\" 501 -\n",
      "::1 - - [13/May/2025 00:09:25] \"GET /test_image_np.ome.zarr/scale0/image/0/0/0 HTTP/1.1\" 304 -\n"
     ]
    },
    {
     "name": "stdout",
     "output_type": "stream",
     "text": [
      "\n",
      "Keyboard interrupt received, exiting.\n"
     ]
    },
    {
     "data": {
      "text/plain": [
       "0"
      ]
     },
     "execution_count": 35,
     "metadata": {},
     "output_type": "execute_result"
    }
   ],
   "source": [
    "import os\n",
    "os.system('ome_zarr view ./test_image_np.ome.zarr')\n",
    "\n",
    "# This cell runs until it is interrupted (jupyter menu Kernel > Interrupt)"
   ]
  },
  {
   "cell_type": "code",
   "execution_count": null,
   "id": "a6414e08",
   "metadata": {},
   "outputs": [],
   "source": [
    "# import dask.array as da\n",
    "# arr = da.from_zarr(\"http://localhost:8000/test_image_np.ome.zarr/scale0/image\")"
   ]
  },
  {
   "cell_type": "markdown",
   "id": "1e57b9fa",
   "metadata": {},
   "source": [
    "## Writing"
   ]
  },
  {
   "cell_type": "code",
   "execution_count": null,
   "id": "3f3574a0",
   "metadata": {},
   "outputs": [],
   "source": [
    "import numpy as np\n",
    "import zarr\n",
    "\n",
    "from ome_zarr.io import parse_url\n",
    "from ome_zarr.writer import write_image\n",
    "\n",
    "path = \"test_ngff_image.zarr\"\n",
    "\n",
    "size_xy = 128\n",
    "size_z = 10\n",
    "rng = np.random.default_rng(0)\n",
    "data = rng.poisson(lam=10, size=(size_z, size_xy, size_xy)).astype(np.uint8)\n",
    "\n",
    "# write the image data\n",
    "store = parse_url(path, mode=\"w\").store\n",
    "root = zarr.group(store=store)\n",
    "write_image(image=data, group=root, axes=\"zyx\", storage_options=dict(chunks=(1, size_xy, size_xy)))"
   ]
  }
 ],
 "metadata": {
  "kernelspec": {
   "display_name": "day3",
   "language": "python",
   "name": "python3"
  },
  "language_info": {
   "codemirror_mode": {
    "name": "ipython",
    "version": 3
   },
   "file_extension": ".py",
   "mimetype": "text/x-python",
   "name": "python",
   "nbconvert_exporter": "python",
   "pygments_lexer": "ipython3",
   "version": "3.11.12"
  }
 },
 "nbformat": 4,
 "nbformat_minor": 5
}
